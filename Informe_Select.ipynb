{
  "nbformat": 4,
  "nbformat_minor": 0,
  "metadata": {
    "colab": {
      "provenance": [],
      "authorship_tag": "ABX9TyORyzqop0CX6XfLdOfMH+39",
      "include_colab_link": true
    },
    "kernelspec": {
      "name": "python3",
      "display_name": "Python 3"
    },
    "language_info": {
      "name": "python"
    }
  },
  "cells": [
    {
      "cell_type": "markdown",
      "metadata": {
        "id": "view-in-github",
        "colab_type": "text"
      },
      "source": [
        "<a href=\"https://colab.research.google.com/github/Sylver640/ADA-Informes/blob/main/Informe_Select.ipynb\" target=\"_parent\"><img src=\"https://colab.research.google.com/assets/colab-badge.svg\" alt=\"Open In Colab\"/></a>"
      ]
    },
    {
      "cell_type": "markdown",
      "source": [
        "#1. Descripción del problema (selección)\n",
        "**Entrada**: Conjunto de $n$ números diferentes $A$ más un índice $i$.\n",
        "\n",
        "**Salida**: Elemento $x\\in A$, que es mayor a exactamente $i-1$ elementos de $A$, siendo el elemento $x$ el estadístico de orden $i$-ésimo para el conjunto $A$."
      ],
      "metadata": {
        "id": "RqdKoo_T2C2E"
      }
    },
    {
      "cell_type": "markdown",
      "source": [
        "Saliendo del área de optimización y orden, muchos algoritmos existen también para ser utilizados en aquella ciencia que estudia la variabilidad, organización o análisis de datos, es decir, **la estadística**. Un concepto de esta disciplina es el llamado **estadístico de orden**, que corresponde al $k$-ésimo valor más pequeño de una muestra. Aunque por su característica pueda parecer como algo poco utilizado, la realidad es que estos valores son una herramienta fundamental dentro de la estadística no paramétrica o de inferencia, en donde los datos no están distribuidos bajo un criterio especificado. Así, el problema de la **selección** está muy ligado a estos estadísticos, en donde manejamos la problemática de elegir el $i$-ésimo estadístico de orden en un conjunto de $n$ elementos.\n",
        "\n",
        "![image](https://www.salamarkesa.com/wp-content/uploads/2016/11/apuntes-estadistica.jpg)"
      ],
      "metadata": {
        "id": "csh1AIbgn_DC"
      }
    },
    {
      "cell_type": "markdown",
      "source": [
        "#2. Select"
      ],
      "metadata": {
        "id": "hdd20g5h2efE"
      }
    },
    {
      "cell_type": "markdown",
      "source": [
        "##2.1 Código\n",
        "A continuación, el siguiente código presenta una implementación del algoritmo."
      ],
      "metadata": {
        "id": "Om_KMHAV2gyj"
      }
    },
    {
      "cell_type": "code",
      "source": [
        "import random\n",
        "from termcolor import cprint\n",
        "\n",
        "comparisons = 0\n",
        "\n",
        "def insertion_sort (array, verbose):\n",
        "  if verbose == True: \n",
        "    print(\"\\n#######\")\n",
        "    print(\"Se ordena un arreglo!\")\n",
        "    print(\"Arreglo a ordenar: \", array)\n",
        "\n",
        "  #Contador de comparaciones en el ciclo for\n",
        "  global comparisons\n",
        "\n",
        "  #Se recorre el arreglo\n",
        "  for i in range (1, len(array)):\n",
        "    if verbose == True: print(\"Pasada\",i)\n",
        "    data = array[i]\n",
        "    k = i-1\n",
        "    if verbose == True:\n",
        "      if array[k] < data: print(\"Elemento no movido\\n\")\n",
        "    while k >= 0 and array[k] >= data:\n",
        "      array[k+1] = array[k]\n",
        "      k = k-1\n",
        "      comparisons+=1\n",
        "      if verbose == True: print(array,\"\\n\")\n",
        "    array[k+1] = data\n",
        "    if verbose == True: print(f\"Al finalizar pasada: {array}\\n\")\n",
        "\n",
        "  if verbose == True: \n",
        "    print(f\"Arreglo ordenado: {array}\")\n",
        "    print(\"#######\\n\")\n",
        "\n",
        "  return array #Se retorna el arreglo ordenado\n",
        "\n",
        "#Función que encuentra la mediana de un arreglo\n",
        "def encontrarMediana(A, l, n, verbose):\n",
        "  aux = [] #Arreglo auxiliar que guarda los elementos del subarreglo a analizar\n",
        "  for i in range(l, l + n):\n",
        "    aux.append(A[i])\n",
        "\n",
        "  aux = insertion_sort(A, verbose) #Se ordena dicho subarreglo\n",
        "  return aux[n // 2] #Como lo dice su nombre, se retorna el objeto que está justo al medio del arreglo, es decir, su mediana\n",
        "\n",
        "#Implementación de partition que usa como pivote el último elemento\n",
        "def partition(A, p, r, x, verbose):\n",
        "  if verbose == True:\n",
        "    print(\"\\n#######\")\n",
        "    print(\"Se entra a función partition!\")\n",
        "  global comparisons\n",
        "  \n",
        "  #Se intercambia el valor x por el valor final, con tal de trabajar con este como pivote\n",
        "  for i in range(p, r):\n",
        "    if (A[i] == x):\n",
        "      A[r], A[i] = A[i], A[r]\n",
        "      break\n",
        "\n",
        "  if verbose == True:\n",
        "    print(f\"Arreglo a dividir: {A[p:r+1]}\")\n",
        "  pivot = A[r] #Pivote es el último elemento\n",
        "  if verbose == True:\n",
        "    print(f\"Pivote: [{A[r]}]\")\n",
        "  i = p #El puntero de intercambio comenzará desde el inicio del arreglo\n",
        "  for j in range(p,r): #Mientras que el puntero j recorrerá todo el intervalo\n",
        "    if A[j] <= pivot: #Si A[j] es menor o igual al pivote se entra a esta condicional if que realiza el intercambio\n",
        "      if verbose == True:\n",
        "        print(f\"{A[j]} es menor a {pivot}! Swap!\")\n",
        "      A[j], A[i] = A[i], A[j] #Se intercambian las posiciones de A[j] y A[i] \n",
        "      i+=1 #Nuestro índice izquierdo aumenta una unidad, cerrando más el intervalo\n",
        "      if verbose == True:\n",
        "        print(f\"Arreglo luego del intercambio: {A[p:r+1]}\")\n",
        "      comparisons+=1\n",
        "\n",
        "  A[i], A[r] = A[r], A[i] #Finalmente, intercambiamos nuestro pivote con la posición A[i], dejándonos así un arreglo donde la mitad izquierda es menor\n",
        "                          #y la mitad derecha es mayor al pivote\n",
        "  comparisons+=1\n",
        "  if verbose == True:\n",
        "    print(f\"Arreglo tras partition: {A[p:r+1]}\")\n",
        "    print(\"#######\\n\")\n",
        "  return i #Retornamos como pivote la posición i de nuestro arreglo\n",
        "\n",
        "def pivotSelection(A, l, r, verbose):\n",
        "  n = r - l + 1 #Número de elementos\n",
        "  medianas = [] #Lista que contiene las medianas de cada subarreglo\n",
        "\n",
        "  i = 0\n",
        "  while (i < n // 5): #Proceso de división del arreglo en subarreglos de cinco elementos\n",
        "    medianas.append(encontrarMediana(A, l + i*5, 5, verbose)) #Se busca la mediana de este\n",
        "    i+=1\n",
        "  \n",
        "  #Se busca la mediana de aquel último arreglo que tiene menos de cinco elementos\n",
        "  if (i * 5 < n):\n",
        "    medianas.append(encontrarMediana(A, l + i*5, n%5, verbose))\n",
        "    i+=1\n",
        "  \n",
        "  if i == 1:\n",
        "    medianaDeMedianas = medianas[i-1] #Si la lista solo contiene una mediana, será ésta la mediana de medianas\n",
        "  else:\n",
        "    medianaDeMedianas = pivotSelection(medianas, 0, i-1, verbose) #Llamada recursiva a pivotSelection con tal de encontrar la mediana de medianas\n",
        "  \n",
        "  return partition(A, l, r, medianaDeMedianas, verbose) #Finalmente, retorna el arreglo particionado con el pivote seleccionado\n",
        "\n",
        "def select(A, l, r, k, verbose):\n",
        "  #Tan solo se ingresará si k es menor o igual al número de elementos en el arreglo\n",
        "  if (k > 0 and k <= r - l + 1):\n",
        "    if verbose == True:\n",
        "      print(f\"Se busca pivote para el arreglo: {A[l:r+1]}\")\n",
        "    q = pivotSelection(A, l, r, verbose) #Se busca un pivote para particionar el arreglo\n",
        "\n",
        "    #Si el pivote es igual a k, simplemente lo retornamos\n",
        "    if (q - l ==  k - 1):\n",
        "      return A[q]\n",
        "    \n",
        "    #Si la posición es mayor, recorremos recursivamente el subarreglo izquierdo\n",
        "    if (q - l > k - 1):\n",
        "      return select(A, l, q - 1, k, verbose)\n",
        "    #Si no, lo hacemos por el subarreglo derecho\n",
        "    return select (A, q+1, r, k - q + l - 1, verbose)\n",
        "\n",
        "#Ejemplo\n",
        "n = random.randint(1,6)\n",
        "array = random.sample(range(1,100),n)\n",
        "k = random.randint(1,n)\n",
        "\n",
        "cprint(f\"Arreglo de entrada: {array}\", 'yellow', attrs=[\"bold\"])\n",
        "cprint(f\"k = {k}\", 'yellow')\n",
        "element = select(array, 0, len(array)-1, k, verbose = False)\n",
        "cprint(f\"k-ésimo menor elemento del arreglo: {element}\", \"green\", attrs=[\"bold\"])\n",
        "print(f\"Número de comparaciones: {comparisons}\")"
      ],
      "metadata": {
        "id": "PKNbsMXI2EP4",
        "colab": {
          "base_uri": "https://localhost:8080/"
        },
        "outputId": "476e3bc8-6d5b-4608-df58-1e1a434aa2fc"
      },
      "execution_count": 132,
      "outputs": [
        {
          "output_type": "stream",
          "name": "stdout",
          "text": [
            "\u001b[1m\u001b[33mArreglo de entrada: [41, 62, 29, 14, 46, 94]\u001b[0m\n",
            "\u001b[33mk = 4\u001b[0m\n",
            "\u001b[1m\u001b[32mk-ésimo menor elemento del arreglo: 46\u001b[0m\n",
            "Número de comparaciones: 21\n"
          ]
        }
      ]
    },
    {
      "cell_type": "markdown",
      "source": [
        "##2.2 Descripción del algoritmo\n",
        "El algoritmo **Select** es recursivo, llamándose a sí misma un total de dos veces. Éste recibe un arreglo o lista de $n$ elementos, su posición inicial, su posición final y un valor $k$, con el cual buscaremos el $k$-ésimo menor elemento dentro de la lista. A diferencia de **R-Select**, **Select** elige su pivote con ayuda de la función **pivotSelection**. En términos generales, la implementación de este algoritmo aplica la siguiente rutina gracias al algoritmo recién mencionado:\n",
        "1. Al entrar a **pivotSelection**, el arreglo original de $n$ elementos se divide en $n/5$ grupos de 5 elementos cada uno, quedando el último grupo con menos elementos.\n",
        "2. Luego, se encuentra la mediana de cada subarreglo, ordenándose con **Insertion Sort**.\n",
        "3. Se aplica de forma recursiva **pivotSelection** con tal de encontrar la mediana de medianas ($m$) de las $n/5$ medianas identificadas anteriormente.\n",
        "4. Así definimos a $m$ como el pivote para ser utilizado en la función **Partition**.\n",
        "5. Finalmente, se aplicará recursivamente **Select** con el subarreglo izquierdo o derecho, sea cual sea el correspondiente para buscar el $k$-ésimo menor elemento."
      ],
      "metadata": {
        "id": "M1vxnNZxXEQ_"
      }
    },
    {
      "cell_type": "markdown",
      "source": [
        "##2.3 Ejemplo"
      ],
      "metadata": {
        "id": "RZ3KbdogXG53"
      }
    },
    {
      "cell_type": "markdown",
      "source": [
        "##2.4 Ejecución del algoritmo paso a paso (`verbose = True`)\n",
        "Al determinar que `verbose` sea igual a `True` en todas las funciones, al ejecutar el programa mostrarán cómo se realiza todo paso a paso, tal como se ve a continuación:"
      ],
      "metadata": {
        "id": "e2wApD3mXJVW"
      }
    },
    {
      "cell_type": "code",
      "source": [
        "n = random.randint(1,6)\n",
        "array = random.sample(range(1,100),n)\n",
        "k = random.randint(1,n)\n",
        "cprint(f\"Arreglo de entrada: {array}; k = {k}\\n\", 'yellow', attrs=['bold'])\n",
        "element = select(array, 0, len(array)-1, k, verbose = True)\n",
        "cprint(f\"k-ésimo menor elemento del arreglo: {element}\", 'yellow', attrs=['bold'])"
      ],
      "metadata": {
        "colab": {
          "base_uri": "https://localhost:8080/"
        },
        "id": "IKz1Yh_4XU_j",
        "outputId": "f43cd522-7108-4d99-8920-11379c0ab4ca"
      },
      "execution_count": 135,
      "outputs": [
        {
          "output_type": "stream",
          "name": "stdout",
          "text": [
            "\u001b[1m\u001b[33mArreglo de entrada: [35, 38, 65, 52]; k = 4\n",
            "\u001b[0m\n",
            "Se busca pivote para el arreglo: [35, 38, 65, 52]\n",
            "\n",
            "#######\n",
            "Se ordena un arreglo!\n",
            "Arreglo a ordenar:  [35, 38, 65, 52]\n",
            "Pasada 1\n",
            "Elemento no movido\n",
            "\n",
            "Al finalizar pasada: [35, 38, 65, 52]\n",
            "\n",
            "Pasada 2\n",
            "Elemento no movido\n",
            "\n",
            "Al finalizar pasada: [35, 38, 65, 52]\n",
            "\n",
            "Pasada 3\n",
            "[35, 38, 65, 65] \n",
            "\n",
            "Al finalizar pasada: [35, 38, 52, 65]\n",
            "\n",
            "Arreglo ordenado: [35, 38, 52, 65]\n",
            "#######\n",
            "\n",
            "\n",
            "#######\n",
            "Se entra a función partition!\n",
            "Arreglo a dividir: [35, 38, 65, 52]\n",
            "Pivote: [52]\n",
            "35 es menor a 52! Swap!\n",
            "Arreglo luego del intercambio: [35, 38, 65, 52]\n",
            "38 es menor a 52! Swap!\n",
            "Arreglo luego del intercambio: [35, 38, 65, 52]\n",
            "Arreglo tras partition: [35, 38, 52, 65]\n",
            "#######\n",
            "\n",
            "Se busca pivote para el arreglo: [65]\n",
            "\n",
            "#######\n",
            "Se ordena un arreglo!\n",
            "Arreglo a ordenar:  [35, 38, 52, 65]\n",
            "Pasada 1\n",
            "Elemento no movido\n",
            "\n",
            "Al finalizar pasada: [35, 38, 52, 65]\n",
            "\n",
            "Pasada 2\n",
            "Elemento no movido\n",
            "\n",
            "Al finalizar pasada: [35, 38, 52, 65]\n",
            "\n",
            "Pasada 3\n",
            "Elemento no movido\n",
            "\n",
            "Al finalizar pasada: [35, 38, 52, 65]\n",
            "\n",
            "Arreglo ordenado: [35, 38, 52, 65]\n",
            "#######\n",
            "\n",
            "\n",
            "#######\n",
            "Se entra a función partition!\n",
            "Arreglo a dividir: [65]\n",
            "Pivote: [65]\n",
            "Arreglo tras partition: [65]\n",
            "#######\n",
            "\n",
            "\u001b[1m\u001b[33mk-ésimo menor elemento del arreglo: 65\u001b[0m\n"
          ]
        }
      ]
    },
    {
      "cell_type": "markdown",
      "source": [
        "#3. Correctitud"
      ],
      "metadata": {
        "id": "-RE14mG8XWq_"
      }
    },
    {
      "cell_type": "markdown",
      "source": [
        "#4. Tiempo de ejecución"
      ],
      "metadata": {
        "id": "hq2r_RrIXYb-"
      }
    },
    {
      "cell_type": "markdown",
      "source": [
        "#5. Experimentos"
      ],
      "metadata": {
        "id": "06TtcHa3Xiim"
      }
    }
  ]
}