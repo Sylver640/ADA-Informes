{
  "nbformat": 4,
  "nbformat_minor": 0,
  "metadata": {
    "colab": {
      "provenance": [],
      "authorship_tag": "ABX9TyOldTan3g1P3p57uMVMffmM",
      "include_colab_link": true
    },
    "kernelspec": {
      "name": "python3",
      "display_name": "Python 3"
    },
    "language_info": {
      "name": "python"
    }
  },
  "cells": [
    {
      "cell_type": "markdown",
      "metadata": {
        "id": "view-in-github",
        "colab_type": "text"
      },
      "source": [
        "<a href=\"https://colab.research.google.com/github/Sylver640/ADA-Informes/blob/main/Informe_Select.ipynb\" target=\"_parent\"><img src=\"https://colab.research.google.com/assets/colab-badge.svg\" alt=\"Open In Colab\"/></a>"
      ]
    },
    {
      "cell_type": "markdown",
      "source": [
        "#1. Descripción del problema (selección)\n",
        "**Entrada**: Conjunto de $n$ números diferentes $A$ más un índice $i$.\n",
        "\n",
        "**Salida**: Elemento $x\\in A$, que es mayor a exactamente $i-1$ elementos de $A$, siendo el elemento $x$ el estadístico de orden $i$-ésimo para el conjunto $A$."
      ],
      "metadata": {
        "id": "RqdKoo_T2C2E"
      }
    },
    {
      "cell_type": "markdown",
      "source": [
        "Saliendo del área de optimización y orden, muchos algoritmos existen también para ser utilizados en aquella ciencia que estudia la variabilidad, organización o análisis de datos, es decir, **la estadística**. Un concepto de esta disciplina es el llamado **estadístico de orden**, que corresponde al $k$-ésimo valor más pequeño de una muestra. Aunque por su característica pueda parecer como algo poco utilizado, la realidad es que estos valores son una herramienta fundamental dentro de la estadística no paramétrica o de inferencia, en donde los datos no están distribuidos bajo un criterio especificado. Así, el problema de la **selección** está muy ligado a estos estadísticos, en donde manejamos la problemática de elegir el $i$-ésimo estadístico de orden en un conjunto de $n$ elementos.\n",
        "\n",
        "![image](https://www.salamarkesa.com/wp-content/uploads/2016/11/apuntes-estadistica.jpg)"
      ],
      "metadata": {
        "id": "csh1AIbgn_DC"
      }
    },
    {
      "cell_type": "markdown",
      "source": [
        "#2. Select"
      ],
      "metadata": {
        "id": "hdd20g5h2efE"
      }
    },
    {
      "cell_type": "markdown",
      "source": [
        "##2.1 Código\n",
        "A continuación, el siguiente código presenta una implementación del algoritmo."
      ],
      "metadata": {
        "id": "Om_KMHAV2gyj"
      }
    },
    {
      "cell_type": "code",
      "source": [
        "import random\n",
        "\n",
        "def insertion_sort (array, verbose):\n",
        "\n",
        "  if verbose == True: print(\"Input Array: \", array)\n",
        "\n",
        "  #Contador de comparaciones en el ciclo for\n",
        "  comparations = 0\n",
        "\n",
        "  #Se recorre el arreglo\n",
        "  for i in range (1, len(array)):\n",
        "    if verbose == True: print(\"Pasada\",i)\n",
        "    data = array[i]\n",
        "    k = i-1\n",
        "    if verbose == True:\n",
        "      if array[k] < data: print(\"Elemento no movido\\n\")\n",
        "    while k >= 0 and array[k] >= data:\n",
        "      array[k+1] = array[k]\n",
        "      k = k-1\n",
        "      comparations = comparations + 1\n",
        "      if verbose == True: print(a,\"\\n\")\n",
        "    array[k+1] = data\n",
        "    if verbose == True: print(\"Al finalizar pasada:\\n\",a,\"\\n\")\n",
        "\n",
        "  return array, comparations\n",
        "\n",
        "def encontrarMediana(A, l, r):\n",
        "  aux = []\n",
        "\n",
        "def partition_start(A, p, r, verbose):\n",
        "  if verbose == True:\n",
        "    print(\"\\n####\")\n",
        "    print(\"Se entra a función partition!\")\n",
        "  global comparisons\n",
        "  if verbose == True:\n",
        "    print(f\"Arreglo a dividir: {A[p:r+1]}\")\n",
        "  pivot = A[p] #Pivote es el primer elemento\n",
        "  if verbose == True:\n",
        "    print(f\"Pivote: [{A[p]}]\")\n",
        "  i = p+1 #El índice que define a la izquierda es el que le sigue al primer elemento\n",
        "  for j in range(p+1,r+1): #Mientras tanto, el índice j ira desde la misma posición de i hasta el último elemento\n",
        "    if A[j] <= pivot: #Si A[j] es menor o igual al pivote se entra a esta condicional if que realiza el intercambio\n",
        "      if verbose == True:\n",
        "        print(f\"{A[j]} es menor a {pivot}! Swap!\")\n",
        "      comparisons+=1\n",
        "      A[i], A[j] = A[j], A[i] #Se intercambian las posiciones de A[j] y A[i]\n",
        "      i+=1 #El índice izquierdo avanza una posición\n",
        "      if verbose == True:\n",
        "        print(f\"Arreglo luego del intercambio: {A[p:r+1]}\")\n",
        "  A[p], A[i-1] = A[i-1], A[p] #Finalmente, intercambiamos nuestro pivote con aquel valor que está justo antes del índice izquierdo\n",
        "\n",
        "  if verbose == True:\n",
        "    print(f\"Arreglo tras partition: {A[p:r+1]}\")\n",
        "    print(\"###\\n\")\n",
        "  return i-1 #Retornamos como pivote este valor recién mencionado\n",
        "\n",
        "def pivotSelection(A, l, r, verbose):\n",
        "  n = r - l + 1 #Número de elementos\n",
        "  medianas = []\n",
        "\n",
        "def select(A, l, r, k, verbose):\n",
        "  if (k > 0 and k <= r - l + 1):\n",
        "    q = pivotSelection(A, l, r)\n",
        "\n",
        "    if (q - l ==  k - 1):\n",
        "      return A[q]\n",
        "    \n",
        "    if (q - l > k - 1):\n",
        "      return select(A, l, q - 1, k)\n",
        "    \n",
        "    return select (A, q+1, r, k - q + l - 1)\n",
        "\n",
        "\n",
        "#Ejemplo\n",
        "n = random.randint(2,10)\n",
        "array = random.sample(range(1,100),n)\n",
        "k = random.randint(1,10)\n",
        "\n",
        "element = select(array, 0, len(array)-1, k, verbose = False)\n",
        "print(array)"
      ],
      "metadata": {
        "id": "PKNbsMXI2EP4",
        "colab": {
          "base_uri": "https://localhost:8080/"
        },
        "outputId": "209fbd7d-3052-45e1-f733-616f79e069c6"
      },
      "execution_count": 10,
      "outputs": [
        {
          "output_type": "stream",
          "name": "stdout",
          "text": [
            "[47, 98, 15, 12, 70, 79, 89, 17]\n"
          ]
        }
      ]
    }
  ]
}