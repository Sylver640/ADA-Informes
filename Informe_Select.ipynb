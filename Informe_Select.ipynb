{
  "nbformat": 4,
  "nbformat_minor": 0,
  "metadata": {
    "colab": {
      "provenance": [],
      "authorship_tag": "ABX9TyPwhZS8C5Cdw6pw/5Xh2pxc",
      "include_colab_link": true
    },
    "kernelspec": {
      "name": "python3",
      "display_name": "Python 3"
    },
    "language_info": {
      "name": "python"
    }
  },
  "cells": [
    {
      "cell_type": "markdown",
      "metadata": {
        "id": "view-in-github",
        "colab_type": "text"
      },
      "source": [
        "<a href=\"https://colab.research.google.com/github/Sylver640/ADA-Informes/blob/main/Informe_Select.ipynb\" target=\"_parent\"><img src=\"https://colab.research.google.com/assets/colab-badge.svg\" alt=\"Open In Colab\"/></a>"
      ]
    },
    {
      "cell_type": "markdown",
      "source": [
        "#1. Descripción del problema (selección)\n",
        "**Entrada**: Conjunto de $n$ números diferentes $A$ más un índice $i$.\n",
        "\n",
        "**Salida**: Elemento $x\\in A$, que es mayor a exactamente $i-1$ elementos de $A$, siendo el elemento $x$ el estadístico de orden $i$-ésimo para el conjunto $A$."
      ],
      "metadata": {
        "id": "RqdKoo_T2C2E"
      }
    },
    {
      "cell_type": "markdown",
      "source": [
        "Saliendo del área de optimización y orden, muchos algoritmos existen también para ser utilizados en aquella ciencia que estudia la variabilidad, organización o análisis de datos, es decir, **la estadística**. Un concepto de esta disciplina es el llamado **estadístico de orden**, que corresponde al $k$-ésimo valor más pequeño de una muestra. Aunque por su característica pueda parecer como algo poco utilizado, la realidad es que estos valores son una herramienta fundamental dentro de la estadística no paramétrica o de inferencia, en donde los datos no están distribuidos bajo un criterio especificado. Así, el problema de la **selección** está muy ligado a estos estadísticos, en donde manejamos la problemática de elegir el $i$-ésimo estadístico de orden en un conjunto de $n$ elementos.\n",
        "\n",
        "![image](https://www.salamarkesa.com/wp-content/uploads/2016/11/apuntes-estadistica.jpg)"
      ],
      "metadata": {
        "id": "csh1AIbgn_DC"
      }
    },
    {
      "cell_type": "markdown",
      "source": [
        "#2. Select"
      ],
      "metadata": {
        "id": "hdd20g5h2efE"
      }
    },
    {
      "cell_type": "markdown",
      "source": [
        "##2.1 Código\n",
        "A continuación, el siguiente código presenta una implementación del algoritmo."
      ],
      "metadata": {
        "id": "Om_KMHAV2gyj"
      }
    },
    {
      "cell_type": "code",
      "source": [
        "import random\n",
        "from termcolor import cprint\n",
        "\n",
        "comparisons = 0\n",
        "\n",
        "def insertion_sort (array, verbose):\n",
        "  if verbose == True: \n",
        "    print(\"\\n#######\")\n",
        "    print(\"Se ordena un arreglo!\")\n",
        "    print(\"Arreglo a ordenar: \", array)\n",
        "\n",
        "  #Contador de comparaciones en el ciclo for\n",
        "  global comparisons\n",
        "\n",
        "  #Se recorre el arreglo\n",
        "  for i in range (1, len(array)):\n",
        "    if verbose == True: print(\"Pasada\",i)\n",
        "    data = array[i]\n",
        "    k = i-1\n",
        "    if verbose == True:\n",
        "      if array[k] < data: print(\"Elemento no movido\\n\")\n",
        "    while k >= 0 and array[k] >= data:\n",
        "      array[k+1] = array[k]\n",
        "      k = k-1\n",
        "      comparisons+=1\n",
        "      if verbose == True: print(array,\"\\n\")\n",
        "    array[k+1] = data\n",
        "    if verbose == True: print(f\"Al finalizar pasada: {array}\\n\")\n",
        "\n",
        "  if verbose == True: \n",
        "    print(f\"Arreglo ordenado: {array}\")\n",
        "    print(\"#######\\n\")\n",
        "\n",
        "  return array #Se retorna el arreglo ordenado\n",
        "\n",
        "#Función que encuentra la mediana de un arreglo\n",
        "def encontrarMediana(A, l, n, verbose):\n",
        "  aux = [] #Arreglo auxiliar que guarda los elementos del subarreglo a analizar\n",
        "  for i in range(l, l + n):\n",
        "    aux.append(A[i])\n",
        "\n",
        "  aux = insertion_sort(aux, verbose) #Se ordena dicho subarreglo\n",
        "  return aux[n // 2] #Como lo dice su nombre, se retorna el objeto que está justo al medio del arreglo, es decir, su mediana\n",
        "\n",
        "#Implementación de partition que usa como pivote el último elemento\n",
        "def partition(A, p, r, x, verbose):\n",
        "  if verbose == True:\n",
        "    print(\"\\n#######\")\n",
        "    print(\"Se entra a función partition!\")\n",
        "  global comparisons\n",
        "  \n",
        "  #Se intercambia el valor x por el valor final, con tal de trabajar con este como pivote\n",
        "  for i in range(p, r):\n",
        "    if (A[i] == x):\n",
        "      A[r], A[i] = A[i], A[r]\n",
        "      comparisons+=1\n",
        "      break\n",
        "\n",
        "  if verbose == True:\n",
        "    print(f\"Arreglo a dividir: {A[p:r+1]}\")\n",
        "  pivot = A[r] #Pivote es el último elemento\n",
        "  if verbose == True:\n",
        "    print(f\"Pivote: [{A[r]}]\")\n",
        "  i = p #El puntero de intercambio comenzará desde el inicio del arreglo\n",
        "  for j in range(p,r): #Mientras que el puntero j recorrerá todo el intervalo\n",
        "    if A[j] <= pivot: #Si A[j] es menor o igual al pivote se entra a esta condicional if que realiza el intercambio\n",
        "      if verbose == True:\n",
        "        print(f\"{A[j]} es menor a {pivot}! Swap!\")\n",
        "      A[j], A[i] = A[i], A[j] #Se intercambian las posiciones de A[j] y A[i] \n",
        "      i+=1 #Nuestro índice izquierdo aumenta una unidad, cerrando más el intervalo\n",
        "      if verbose == True:\n",
        "        print(f\"Arreglo luego del intercambio: {A[p:r+1]}\")\n",
        "      comparisons+=1\n",
        "\n",
        "  A[i], A[r] = A[r], A[i] #Finalmente, intercambiamos nuestro pivote con la posición A[i], dejándonos así un arreglo donde la mitad izquierda es menor\n",
        "                          #y la mitad derecha es mayor al pivote\n",
        "  comparisons+=1\n",
        "  if verbose == True:\n",
        "    print(f\"Arreglo tras partition: {A[p:r+1]}\")\n",
        "    print(\"#######\\n\")\n",
        "  return i #Retornamos como pivote la posición i de nuestro arreglo\n",
        "\n",
        "def pivotSelection(A, l, r, verbose):\n",
        "  n = r - l + 1 #Número de elementos\n",
        "  medianas = [] #Lista que contiene las medianas de cada subarreglo\n",
        "\n",
        "  i = 0\n",
        "  while (i < n // 5): #Proceso de división del arreglo en subarreglos de cinco elementos\n",
        "    if verbose == True:\n",
        "      print(f\"Subarreglo de 5 elementos: {A[(l+i*5):5]}\")\n",
        "    medianas.append(encontrarMediana(A, l + i*5, 5, verbose)) #Se busca la mediana de este\n",
        "    if verbose == True: print(f\"Mediana del subarreglo: {medianas[i]}\")\n",
        "    i+=1\n",
        "  \n",
        "  #Se busca la mediana de aquel último arreglo que tiene menos de cinco elementos\n",
        "  if (i * 5 < n):\n",
        "    if verbose == True:\n",
        "      print(f\"Subarreglo de {n%5} elementos: {A[(l+i*5):(n%5+1)]}\")\n",
        "    medianas.append(encontrarMediana(A, l + i*5, n%5, verbose))\n",
        "    if verbose == True: print(f\"Mediana del subarreglo: {medianas[i]}\")\n",
        "    i+=1\n",
        "  \n",
        "  if verbose == True: print(\"\\nBuscamos la mediana de medianas...\")\n",
        "  if i == 1:\n",
        "    if verbose == True: print(f\"Mediana de medianas: {medianas[i-1]}\")\n",
        "    medianaDeMedianas = medianas[i-1] #Si la lista solo contiene una mediana, será ésta la mediana de medianas\n",
        "  else:\n",
        "    medianaDeMedianas = pivotSelection(medianas, 0, i-1, verbose) #Llamada recursiva a pivotSelection con tal de encontrar la mediana de medianas\n",
        "    if verbose == True: print(f\"Mediana de medianas: {medianaDeMedianas}\")\n",
        "  \n",
        "  if verbose == True: print(f\"Ahora particionamos el arreglo {A[l:r+1]}!\")\n",
        "  return partition(A, l, r, medianaDeMedianas, verbose) #Finalmente, retorna el arreglo particionado con el pivote seleccionado\n",
        "\n",
        "def select(A, l, r, k, verbose):\n",
        "  #Tan solo se ingresará si k es menor o igual al número de elementos en el arreglo\n",
        "  if (k > 0 and k <= r - l + 1):\n",
        "    if verbose == True:\n",
        "      print(f\"Se busca pivote para el arreglo: {A[l:r+1]}\")\n",
        "    q = pivotSelection(A, l, r, verbose) #Se busca un pivote para particionar el arreglo\n",
        "\n",
        "    #Si el pivote es igual a k, simplemente lo retornamos\n",
        "    if (q - l ==  k - 1):\n",
        "      if verbose == True: print(f\"Encontramos el k-ésimo menor elemento! = {A[q]}\")\n",
        "      return A[q]\n",
        "    \n",
        "    #Si la posición es mayor, recorremos recursivamente el subarreglo izquierdo\n",
        "    if (q - l > k - 1):\n",
        "      return select(A, l, q - 1, k, verbose)\n",
        "    #Si no, lo hacemos por el subarreglo derecho\n",
        "    return select (A, q+1, r, k - q + l - 1, verbose)\n",
        "\n",
        "#Ejemplo\n",
        "n = random.randint(1,6)\n",
        "array = random.sample(range(1,100),n)\n",
        "k = random.randint(1,n)\n",
        "\n",
        "cprint(f\"Arreglo de entrada: {array}\", 'yellow', attrs=[\"bold\"])\n",
        "cprint(f\"k = {k}\", 'yellow')\n",
        "element = select(array, 0, len(array)-1, k, verbose = False)\n",
        "cprint(f\"k-ésimo menor elemento del arreglo: {element}\", \"green\", attrs=[\"bold\"])\n",
        "print(f\"Número de comparaciones: {comparisons}\")"
      ],
      "metadata": {
        "id": "PKNbsMXI2EP4",
        "colab": {
          "base_uri": "https://localhost:8080/"
        },
        "outputId": "5ee1e27e-ee49-413f-e19d-e778ecbd221a"
      },
      "execution_count": 43,
      "outputs": [
        {
          "output_type": "stream",
          "name": "stdout",
          "text": [
            "\u001b[1m\u001b[33mArreglo de entrada: [87]\u001b[0m\n",
            "\u001b[33mk = 1\u001b[0m\n",
            "\u001b[1m\u001b[32mk-ésimo menor elemento del arreglo: 87\u001b[0m\n",
            "Número de comparaciones: 1\n"
          ]
        }
      ]
    },
    {
      "cell_type": "markdown",
      "source": [
        "##2.2 Descripción del algoritmo\n",
        "El algoritmo **Select** es recursivo, llamándose a sí misma un total de dos veces. Éste recibe un arreglo o lista de $n$ elementos, su posición inicial, su posición final y un valor $k$, con el cual buscaremos el $k$-ésimo menor elemento dentro de la lista. A diferencia de **R-Select**, **Select** elige su pivote con ayuda de la función **pivotSelection**. En términos generales, la implementación de este algoritmo aplica la siguiente rutina gracias al algoritmo recién mencionado:\n",
        "1. Al entrar a **pivotSelection**, el arreglo original de $n$ elementos se divide en $n/5$ grupos de 5 elementos cada uno, quedando el último grupo con menos elementos.\n",
        "2. Luego, se encuentra la mediana de cada subarreglo, ordenándose con **Insertion Sort**.\n",
        "3. Se aplica de forma recursiva **pivotSelection** con tal de encontrar la mediana de medianas ($m$) de las $n/5$ medianas identificadas anteriormente.\n",
        "4. Así definimos a $m$ como el pivote para ser utilizado en la función **Partition**.\n",
        "5. Finalmente, se aplicará recursivamente **Select** con el subarreglo izquierdo o derecho, sea cual sea el correspondiente para buscar el $k$-ésimo menor elemento.\n",
        "\n",
        "Para ver paso a paso lo que sucede en el algoritmo, `verbose` debe ser igual a `True`."
      ],
      "metadata": {
        "id": "M1vxnNZxXEQ_"
      }
    },
    {
      "cell_type": "markdown",
      "source": [
        "##2.3 Ejemplo\n",
        "Para mostrar cómo funciona el algoritmo, trabajaremos con el siguiente arreglo. Estaremos buscando el menor elemento, es decir, $k = 1$.\n",
        "\n",
        "$A = [12, 3, 2, 9, 17, 0, 21, 7, 5, 4, 8, 11, 6, 15, 1]$\n",
        "\n",
        "Comenzaremos buscando la mejor partición con la cual trabajar, por lo que primero dividimos el arreglo en $n/5$ subarreglos de cinco elementos cada uno. Notemos que este caso en específico considera 15 elementos, por lo que no habría ningún subarreglo menor a 5.\n",
        "\n",
        "$[12, 3, 2, 9, 17]$ - $[0, 21, 7, 5, 4]$ - $[8, 11, 6, 15, 1]$\n",
        "\n",
        "A continuación, ordenamos cada uno utilizando Insertion Sort, lo cual nos dejaría con los subarreglos de la siguiente forma.\n",
        "\n",
        "$[2, 3, 9, 12, 17]$ - $[0, 4, 5, 7, 21]$ - $[1, 6, 8, 11, 15]$\n",
        "\n",
        "Al tener estos, ahora obtenemos la mediana de cada uno, y las guardamos en el siguiente arreglo.\n",
        "\n",
        "$M = [9, 5, 8]$\n",
        "\n",
        "A continuación, aplicamos recursivamente **pivotSelection** con tal de encontrar la mediana de las medianas, contenida en el arreglo $M$. Por lo tanto, se ordena éste y buscamos su mediana.\n",
        "\n",
        "$M = [5, 8, 9]$\n",
        "\n",
        "Así, obtenemos a $8$ como nuestro pivote para particionar el arreglo $A$, que luego de haberse aplicado la función **Partition** se vería de la siguiente forma:\n",
        "\n",
        "$A = [3, 2, 0, 7, 5, 4, 6, 1, 8, 12, 9, 17, 21, 8, 11, 15]$\n",
        "\n",
        "Ahora bien, como estamos buscando el menor elemento trabajaremos con el subarreglo de la izquierda, es decir:\n",
        "\n",
        "$L = [3, 2, 0, 7, 5, 4, 6, 1]$\n",
        "\n",
        "Y puesto que este es un algoritmo recursivo, ahora aplicaremos nuevamente el procedimiento, pero ahora sobre el arreglo $L$. Así que, lo dividimos en subarreglos de $5$ elementos cada uno, pero como ahora la cantidad de elementos no es múltiplo de este número, tendremos un subarreglo con tan solo tres elementos.\n",
        "\n",
        "$[3, 2, 0, 7, 5]$ - $[4, 6, 1]$\n",
        "\n",
        "Ordenamos estos subarreglos, y buscamos sus medianas.\n",
        "\n",
        "$[0, 2, 3, 5, 7]$ - $[1, 4, 6]$\n",
        "\n",
        "$M = [3, 4]$\n",
        "\n",
        "Aplicamos **pivotSelection** en $M$, y encontramos que nuestra mediana de medianas es $3$, por lo que este será nuestro pivote para particionar el arreglo $L$.\n",
        "\n",
        "$L = [2, 0, 1, 3, 5, 4, 7, 6]$\n",
        "\n",
        "Nuevamente avanzamos solo con el subarreglo izquierdo, que contiene los valores menores a $3$.\n",
        "\n",
        "$L = [2, 0, 1]$\n",
        "\n",
        "Debido a que es un arreglo menor a $5$, tan solo debemos ordenarlo y obtener su mediana, quedando en lo siguiente.\n",
        "\n",
        "$L = [0, 1, 2]$\n",
        "\n",
        "La mediana es $1$, por lo que dividimos el arreglo nuevamente en otros dos subarreglos.\n",
        "\n",
        "$[0]$ - $[1, 2]$\n",
        "\n",
        "Finalmente, como estábamos buscando el menor elemento de todo el arreglo, concluimos en que éste es $0$."
      ],
      "metadata": {
        "id": "RZ3KbdogXG53"
      }
    },
    {
      "cell_type": "markdown",
      "source": [
        "##2.4 Ejecución del algoritmo paso a paso (`verbose = True`)\n",
        "Al determinar que `verbose` sea igual a `True` en todas las funciones, al ejecutar el programa mostrarán cómo se realiza todo paso a paso, tal como se ve a continuación:"
      ],
      "metadata": {
        "id": "e2wApD3mXJVW"
      }
    },
    {
      "cell_type": "code",
      "source": [
        "n = random.randint(6,10)\n",
        "array = random.sample(range(1,100),n)\n",
        "k = random.randint(1,n)\n",
        "cprint(f\"Arreglo de entrada: {array}; k = {k}\\n\", 'yellow', attrs=['bold'])\n",
        "element = select(array, 0, len(array)-1, k, verbose = True)\n",
        "cprint(f\"k-ésimo menor elemento del arreglo: {element}\", 'yellow', attrs=['bold'])"
      ],
      "metadata": {
        "colab": {
          "base_uri": "https://localhost:8080/"
        },
        "id": "IKz1Yh_4XU_j",
        "outputId": "ae4c6724-a93c-4ad5-8161-12ca0e920418"
      },
      "execution_count": 44,
      "outputs": [
        {
          "output_type": "stream",
          "name": "stdout",
          "text": [
            "\u001b[1m\u001b[33mArreglo de entrada: [30, 97, 15, 35, 87, 90, 41]; k = 2\n",
            "\u001b[0m\n",
            "Se busca pivote para el arreglo: [30, 97, 15, 35, 87, 90, 41]\n",
            "Subarreglo de 5 elementos: [30, 97, 15, 35, 87]\n",
            "\n",
            "#######\n",
            "Se ordena un arreglo!\n",
            "Arreglo a ordenar:  [30, 97, 15, 35, 87]\n",
            "Pasada 1\n",
            "Elemento no movido\n",
            "\n",
            "Al finalizar pasada: [30, 97, 15, 35, 87]\n",
            "\n",
            "Pasada 2\n",
            "[30, 97, 97, 35, 87] \n",
            "\n",
            "[30, 30, 97, 35, 87] \n",
            "\n",
            "Al finalizar pasada: [15, 30, 97, 35, 87]\n",
            "\n",
            "Pasada 3\n",
            "[15, 30, 97, 97, 87] \n",
            "\n",
            "Al finalizar pasada: [15, 30, 35, 97, 87]\n",
            "\n",
            "Pasada 4\n",
            "[15, 30, 35, 97, 97] \n",
            "\n",
            "Al finalizar pasada: [15, 30, 35, 87, 97]\n",
            "\n",
            "Arreglo ordenado: [15, 30, 35, 87, 97]\n",
            "#######\n",
            "\n",
            "Mediana del subarreglo: 35\n",
            "Subarreglo de 2 elementos: []\n",
            "\n",
            "#######\n",
            "Se ordena un arreglo!\n",
            "Arreglo a ordenar:  [90, 41]\n",
            "Pasada 1\n",
            "[90, 90] \n",
            "\n",
            "Al finalizar pasada: [41, 90]\n",
            "\n",
            "Arreglo ordenado: [41, 90]\n",
            "#######\n",
            "\n",
            "Mediana del subarreglo: 90\n",
            "\n",
            "Buscamos la mediana de medianas...\n",
            "Subarreglo de 2 elementos: [35, 90]\n",
            "\n",
            "#######\n",
            "Se ordena un arreglo!\n",
            "Arreglo a ordenar:  [35, 90]\n",
            "Pasada 1\n",
            "Elemento no movido\n",
            "\n",
            "Al finalizar pasada: [35, 90]\n",
            "\n",
            "Arreglo ordenado: [35, 90]\n",
            "#######\n",
            "\n",
            "Mediana del subarreglo: 90\n",
            "\n",
            "Buscamos la mediana de medianas...\n",
            "Mediana de medianas: 90\n",
            "Ahora particionamos el arreglo [35, 90]!\n",
            "\n",
            "#######\n",
            "Se entra a función partition!\n",
            "Arreglo a dividir: [35, 90]\n",
            "Pivote: [90]\n",
            "35 es menor a 90! Swap!\n",
            "Arreglo luego del intercambio: [35, 90]\n",
            "Arreglo tras partition: [35, 90]\n",
            "#######\n",
            "\n",
            "Mediana de medianas: 1\n",
            "Ahora particionamos el arreglo [30, 97, 15, 35, 87, 90, 41]!\n",
            "\n",
            "#######\n",
            "Se entra a función partition!\n",
            "Arreglo a dividir: [30, 97, 15, 35, 87, 90, 41]\n",
            "Pivote: [41]\n",
            "30 es menor a 41! Swap!\n",
            "Arreglo luego del intercambio: [30, 97, 15, 35, 87, 90, 41]\n",
            "15 es menor a 41! Swap!\n",
            "Arreglo luego del intercambio: [30, 15, 97, 35, 87, 90, 41]\n",
            "35 es menor a 41! Swap!\n",
            "Arreglo luego del intercambio: [30, 15, 35, 97, 87, 90, 41]\n",
            "Arreglo tras partition: [30, 15, 35, 41, 87, 90, 97]\n",
            "#######\n",
            "\n",
            "Se busca pivote para el arreglo: [30, 15, 35]\n",
            "Subarreglo de 3 elementos: [30, 15, 35, 41]\n",
            "\n",
            "#######\n",
            "Se ordena un arreglo!\n",
            "Arreglo a ordenar:  [30, 15, 35]\n",
            "Pasada 1\n",
            "[30, 30, 35] \n",
            "\n",
            "Al finalizar pasada: [15, 30, 35]\n",
            "\n",
            "Pasada 2\n",
            "Elemento no movido\n",
            "\n",
            "Al finalizar pasada: [15, 30, 35]\n",
            "\n",
            "Arreglo ordenado: [15, 30, 35]\n",
            "#######\n",
            "\n",
            "Mediana del subarreglo: 30\n",
            "\n",
            "Buscamos la mediana de medianas...\n",
            "Mediana de medianas: 30\n",
            "Ahora particionamos el arreglo [30, 15, 35]!\n",
            "\n",
            "#######\n",
            "Se entra a función partition!\n",
            "Arreglo a dividir: [35, 15, 30]\n",
            "Pivote: [30]\n",
            "15 es menor a 30! Swap!\n",
            "Arreglo luego del intercambio: [15, 35, 30]\n",
            "Arreglo tras partition: [15, 30, 35]\n",
            "#######\n",
            "\n",
            "Encontramos el k-ésimo menor elemento! = 30\n",
            "\u001b[1m\u001b[33mk-ésimo menor elemento del arreglo: 30\u001b[0m\n"
          ]
        }
      ]
    },
    {
      "cell_type": "markdown",
      "source": [
        "#3. Correctitud"
      ],
      "metadata": {
        "id": "-RE14mG8XWq_"
      }
    },
    {
      "cell_type": "markdown",
      "source": [
        "#4. Tiempo de ejecución"
      ],
      "metadata": {
        "id": "hq2r_RrIXYb-"
      }
    },
    {
      "cell_type": "markdown",
      "source": [
        "#5. Experimentos"
      ],
      "metadata": {
        "id": "06TtcHa3Xiim"
      }
    }
  ]
}