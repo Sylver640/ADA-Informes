{
  "nbformat": 4,
  "nbformat_minor": 0,
  "metadata": {
    "colab": {
      "provenance": [],
      "include_colab_link": true
    },
    "kernelspec": {
      "name": "python3",
      "display_name": "Python 3"
    },
    "language_info": {
      "name": "python"
    }
  },
  "cells": [
    {
      "cell_type": "markdown",
      "metadata": {
        "id": "view-in-github",
        "colab_type": "text"
      },
      "source": [
        "<a href=\"https://colab.research.google.com/github/Sylver640/ADA-Informes/blob/main/Informe_NP-Hard.ipynb\" target=\"_parent\"><img src=\"https://colab.research.google.com/assets/colab-badge.svg\" alt=\"Open In Colab\"/></a>"
      ]
    },
    {
      "cell_type": "markdown",
      "source": [
        "#1. Introducción"
      ],
      "metadata": {
        "id": "AjF02-X9VvUs"
      }
    },
    {
      "cell_type": "markdown",
      "source": [
        "##1.1 ¿Qué quiere decir que un problema sea NP-Hard?"
      ],
      "metadata": {
        "id": "JwZu4TmFVzuE"
      }
    },
    {
      "cell_type": "markdown",
      "source": [
        "##1.2 ¿Qué quiere decir que $P \\neq NP$?"
      ],
      "metadata": {
        "id": "t0Dy0c3xV5H0"
      }
    },
    {
      "cell_type": "markdown",
      "source": [
        "##1.3 ¿Cómo se prueba que un problema es NP-Hard usando **reducciones**?"
      ],
      "metadata": {
        "id": "sBJ4ipWqWQ00"
      }
    },
    {
      "cell_type": "markdown",
      "source": [
        "#2. Problemas NP-Hard"
      ],
      "metadata": {
        "id": "9tSqXMnGWaPc"
      }
    }
  ]
}