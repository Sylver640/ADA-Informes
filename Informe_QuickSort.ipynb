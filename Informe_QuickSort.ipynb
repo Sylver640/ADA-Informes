{
  "nbformat": 4,
  "nbformat_minor": 0,
  "metadata": {
    "colab": {
      "provenance": [],
      "collapsed_sections": [],
      "toc_visible": true,
      "authorship_tag": "ABX9TyP1RdmSjc7XoWAWSqipk0GE",
      "include_colab_link": true
    },
    "kernelspec": {
      "name": "python3",
      "display_name": "Python 3"
    },
    "language_info": {
      "name": "python"
    }
  },
  "cells": [
    {
      "cell_type": "markdown",
      "metadata": {
        "id": "view-in-github",
        "colab_type": "text"
      },
      "source": [
        "<a href=\"https://colab.research.google.com/github/Sylver640/ADA-Informes/blob/main/Informe_QuickSort.ipynb\" target=\"_parent\"><img src=\"https://colab.research.google.com/assets/colab-badge.svg\" alt=\"Open In Colab\"/></a>"
      ]
    },
    {
      "cell_type": "markdown",
      "source": [
        "#1. Descripción del problema (ordenamiento)\n",
        "**Entrada**: Secuencia de n números $[a_1,a_2,a_3,...,a_n]$.\n",
        "\n",
        "**Salida**: Permutación ordenada de la secuencia inicial: $[a_1',a_2',a_3',...,a_n']$, pero con los valores ordenados tal que $a_1'<=a_2'<=a_3'<=...<=a_n'$."
      ],
      "metadata": {
        "id": "S2tzwosATMea"
      }
    },
    {
      "cell_type": "markdown",
      "source": [
        "Hace algunos informes atrás, veíamos diferentes algoritmos cuya tarea era simple: ordenar una serie de elementos. Un problema que desde los inicios de la informática ha generado que se creen cientos de estos programas, algunos más rápidos que otros haciendo esta acción, aunque trabajando de diferente forma. Algoritmos como el **Insertion Sort** funcionan de manera iterativa, pero con el costo de ser este último algo más lento, mientras que el **Merge Sort** es más rápido, pero es una función que actúa de manera recursiva, es decir se llama a sí misma. Aquellos algoritmos de este último tipo se guían por el paradigma de \"divide y vencerás\", el cual resulta muy útil para resolver este problema debido a que su naturaleza de subproblemas se traduce en el ordenamiento de arreglos más pequeños, que facilitan el reordenamiento de la lista principal. Y en 1959, el informático **Tony Hoare** no pudo haber implementado mejor esta técnica, puesto que es el responsable de crear el conocido **Quick Sort**, que, por redundante que suene por su nombre en inglés, es, hasta ahora, uno de los algoritmos más rápidos para ordenar una lista de elementos."
      ],
      "metadata": {
        "id": "0os9lYJL2HOV"
      }
    },
    {
      "cell_type": "markdown",
      "source": [
        "![image](https://upload.wikimedia.org/wikipedia/commons/f/fe/Quicksort.gif)"
      ],
      "metadata": {
        "id": "KHbnqw021zv2"
      }
    },
    {
      "cell_type": "markdown",
      "source": [
        "#2. Quick Sort\n",
        "\n",
        "Este algoritmo fue desarrollado por Tony Hoare en el año 1959. Se guía por el paradigma de \"divide y vencerás\", y es una función recursiva."
      ],
      "metadata": {
        "id": "yRpLcCigTPza"
      }
    },
    {
      "cell_type": "markdown",
      "source": [
        "##2.1 Código\n",
        "A continuación, el siguiente código presenta una implementación del algoritmo."
      ],
      "metadata": {
        "id": "YSbFUS8T3Vpt"
      }
    },
    {
      "cell_type": "code",
      "execution_count": 1,
      "metadata": {
        "colab": {
          "base_uri": "https://localhost:8080/"
        },
        "id": "CiTJ-3stTBcS",
        "outputId": "1532f76e-e3c2-4fad-c715-2f58ef1f74a3"
      },
      "outputs": [
        {
          "output_type": "stream",
          "name": "stdout",
          "text": [
            "Input: [80, 30, 42, 25, 95]\n",
            "Sorted array: [25, 30, 42, 80, 95]\n",
            "Partition implementation used: Median of three random numbers\n",
            "Number of comparisons: 1\n"
          ]
        }
      ],
      "source": [
        "import random\n",
        "\n",
        "comparisons = 0\n",
        "\n",
        "#Función que busca la mediana entre tres números\n",
        "def median_of_three(a,b,c,verbose):\n",
        "  if verbose == True:\n",
        "    print(f\"Elementos aleatorios recibidos: {a}, {b}, {c}\")\n",
        "  if a <= b and b <= c:\n",
        "        return b\n",
        "  if c <= b and b <= a:\n",
        "        return b\n",
        "  if a <= c and c <= b:\n",
        "        return c\n",
        "  if b <= c and c <= a:\n",
        "        return c\n",
        "  return a\n",
        "\n",
        "#Implementación de partition que usa como pivote el último elemento\n",
        "def partition_end(A, p, r, verbose):\n",
        "  if verbose == True:\n",
        "    print(\"\\n####\")\n",
        "    print(\"Se entra a función partition!\")\n",
        "  global comparisons\n",
        "  if verbose == True:\n",
        "    print(f\"Arreglo a dividir: {A[p:r+1]}\")\n",
        "  pivot = A[r] #Pivote es el último elemento\n",
        "  if verbose == True:\n",
        "    print(f\"Pivote: [{A[r]}]\")\n",
        "  i = p #El puntero de intercambio comenzará desde el inicio del arreglo\n",
        "  for j in range(p,r): #Mientras que el puntero j recorrerá todo el intervalo\n",
        "    if A[j] <= pivot: #Si A[j] es menor o igual al pivote se entra a esta condicional if que realiza el intercambio\n",
        "      if verbose == True:\n",
        "        print(f\"{A[j]} es menor a {pivot}! Swap!\")\n",
        "      A[j], A[i] = A[i], A[j] #Se intercambian las posiciones de A[j] y A[i] \n",
        "      i+=1 #Nuestro índice izquierdo aumenta una unidad, cerrando más el intervalo\n",
        "      if verbose == True:\n",
        "        print(f\"Arreglo luego del intercambio: {A[p:r+1]}\")\n",
        "      comparisons+=1\n",
        "\n",
        "  A[i], A[r] = A[r], A[i] #Finalmente, intercambiamos nuestro pivote con la posición A[i], dejándonos así un arreglo donde la mitad izquierda es menor\n",
        "                          #y la mitad derecha es mayor al pivote\n",
        "  if verbose == True:\n",
        "    print(f\"Arreglo tras partition: {A[p:r+1]}\")\n",
        "    print(\"###\\n\")\n",
        "  return i #Retornamos como pivote la posición i de nuestro arreglo\n",
        "\n",
        "#Implementación de partition que usa como pivote el primer elemento\n",
        "def partition_start(A, p, r, verbose):\n",
        "  if verbose == True:\n",
        "    print(\"\\n####\")\n",
        "    print(\"Se entra a función partition!\")\n",
        "  global comparisons\n",
        "  if verbose == True:\n",
        "    print(f\"Arreglo a dividir: {A[p:r+1]}\")\n",
        "  pivot = A[p] #Pivote es el primer elemento\n",
        "  if verbose == True:\n",
        "    print(f\"Pivote: [{A[p]}]\")\n",
        "  i = p+1 #El índice que define a la izquierda es el que le sigue al primer elemento\n",
        "  for j in range(p+1,r+1): #Mientras tanto, el índice j ira desde la misma posición de i hasta el último elemento\n",
        "    if A[j] <= pivot: #Si A[j] es menor o igual al pivote se entra a esta condicional if que realiza el intercambio\n",
        "      if verbose == True:\n",
        "        print(f\"{A[j]} es menor a {pivot}! Swap!\")\n",
        "      comparisons+=1\n",
        "      A[i], A[j] = A[j], A[i] #Se intercambian las posiciones de A[j] y A[i]\n",
        "      i+=1 #El índice izquierdo avanza una posición\n",
        "      if verbose == True:\n",
        "        print(f\"Arreglo luego del intercambio: {A[p:r+1]}\")\n",
        "  A[p], A[i-1] = A[i-1], A[p] #Finalmente, intercambiamos nuestro pivote con aquel valor que está justo antes del índice izquierdo\n",
        "\n",
        "  if verbose == True:\n",
        "    print(f\"Arreglo tras partition: {A[p:r+1]}\")\n",
        "    print(\"###\\n\")\n",
        "  return i-1 #Retornamos como pivote este valor recién mencionado\n",
        "\n",
        "#Implementación de partition que usa como pivote la mediana entre tres números al azar del arreglo\n",
        "def partition_median(A, p, r, verbose):\n",
        "  if verbose == True:\n",
        "    print(\"\\n####\")\n",
        "    print(\"Se entra a función partition!\")\n",
        "  global comparisons\n",
        "  if verbose == True:\n",
        "    print(f\"Arreglo a dividir: {A[p:r+1]}\")\n",
        "  pivot = median_of_three(random.choice(array[p:r]),random.choice(array[p:r]),random.choice(array[p:r]),verbose) #Pivote es la mediana entre tres elementos aleatorios\n",
        "  pivot_position = A.index(pivot) #Se busca el índice del valor escogido en el arreglo\n",
        "  if verbose == True:\n",
        "    print(f\"La mediana (pivote) es: [{pivot}]\")\n",
        "\n",
        "  A[pivot_position], A[p]= A[p], pivot #Por último, y con tal de trabajar de una forma más óptima, nuestro pivote se traslada al inicio del arreglo,\n",
        "                                       #por lo que el procedimiento sería el mismo explicado anteriormente\n",
        "\n",
        "  i = p+1\n",
        "  for j in range(p+1,r+1):\n",
        "    if A[j] <= pivot:\n",
        "      if verbose == True:\n",
        "        print(f\"{A[j]} es menor a {pivot}! Swap!\")\n",
        "      comparisons+=1\n",
        "      A[j], A[i] = A[i], A[j]\n",
        "      i+=1\n",
        "      if verbose == True:\n",
        "        print(f\"Arreglo luego del intercambio: {A[p:r+1]}\")\n",
        "  A[p], A[i-1] = A[i-1], A[p]\n",
        "\n",
        "  if verbose == True:\n",
        "    print(f\"Arreglo tras partition: {A[p:r+1]}\")\n",
        "    print(\"###\\n\")\n",
        "  return i-1\n",
        "\n",
        "def quick_sort(A, start, end, opt, verbose):\n",
        "  if (start == end): #Si el arreglo es de solo un elemento, se retorna de inmediato\n",
        "    if verbose == True:\n",
        "      print(f\"Se retorna arreglo de solo un elemento ([{A[start]}])\\n\")\n",
        "    return A\n",
        "  if (start < end): #Hacemos quicksort solo si el arreglo tiene más de dos elementos\n",
        "    #Con tal de probar las tres funciones \"partition\" implementadas, la variable \"opt\" definirá cuál será la implementación a utilizar para el arreglo\n",
        "    if (opt == 1):\n",
        "      pivot = partition_end(A, start, end, verbose)\n",
        "    elif (opt == 2):\n",
        "      pivot = partition_start(A, start, end, verbose)\n",
        "    else:\n",
        "        pivot = partition_median(A, start, end, verbose)\n",
        "\n",
        "    #Luego de dividir y ordenar el arreglo con cualquiera de las implementaciones de \"partition\", se llama recursivamente \n",
        "    #la función para ordenar la primera y segunda mitad del arreglo\n",
        "    if verbose == True:\n",
        "      if (len(A[start:pivot-1]) > 0):\n",
        "        print(f\"\\nLlamada recursiva con arreglo izquierdo: {A[start:pivot]}\")\n",
        "        quick_sort(A, start, pivot-1, opt, verbose)\n",
        "    else:\n",
        "      quick_sort(A, start, pivot-1, opt, verbose)\n",
        "    if verbose == True and len(A[start:pivot-1]) >= 2:\n",
        "        print(f\"\\nLlamada recursiva con arreglo derecho: {A[pivot+1:end+1]}\")\n",
        "        quick_sort(A, pivot+1, end, opt, verbose)\n",
        "    else:\n",
        "      quick_sort(A, pivot+1, end, opt, verbose)\n",
        "  \n",
        "  if verbose == True:\n",
        "    print(f\"Subarreglo ordenado: {A[start:end+1]}\")\n",
        "  return A\n",
        "\n",
        "#Ejemplo\n",
        "opt = random.randint(1,3) #Define qué implementación de \"partition\" será utilizada\n",
        "n = random.randint(2,6) #Se define la cantidad de elementos que tendrá nuestro arreglo de forma aleatoria\n",
        "array = random.sample(range(1,100),n) #Se crea un arreglo aleatorio\n",
        "print(f\"Input: {array}\")\n",
        "array = quick_sort(array, 0, len(array)-1, opt, verbose = False)\n",
        "print(f\"Sorted array: {array}\")\n",
        "if opt == 1:\n",
        "  print(\"Partition implementation used: Last element\")\n",
        "if opt == 2:\n",
        "  print(\"Partition implementation used: First element\")\n",
        "if opt == 3:\n",
        "  print(\"Partition implementation used: Median of three random numbers\")\n",
        "print(f\"Number of comparisons: {comparisons}\")"
      ]
    },
    {
      "cell_type": "markdown",
      "source": [
        "##2.2 Descripción del algoritmo\n",
        "El algoritmo es del tipo **divide y vencerás**, y es recursivo, llamándose dos veces dentro de sí mismo. Como entrada, recibe una secuencia de $n$ números y retorna esta ordenada de menor a mayor. Explicada de forma general, la función principal funciona de la siguiente manera:\n",
        "\n",
        "1. Se llama a la función partition, la cual selecciona un pivote con el cual dividiremos el algoritmo.\n",
        "2. Ya con nuestro pivote, la función se llama recursivamente en dos ocasiones: para ordenar el **subarreglo izquierdo al pivote** y aquel **subarreglo derecho al pivote**.\n",
        "3. Finalmente, **Quick Sort** nos retorna el arreglo original ya ordenado. Cabe resaltar que si éste es de solo un elemento, se retorna inmediatamente sin hacer lo anterior.\n",
        "\n",
        "![image](https://miro.medium.com/max/672/0*UhtvKDTP7-srp75V)\n",
        "\n",
        "Por otra parte, dentro del programa se ejecuta la función **partition**, la cual realiza un constante reordenamiento del arreglo original, subdividiendo a éste en dos con respecto a un elemento central $q$: un subarreglo menor a la izquierda y un subarreglo mayor a la derecha. En este caso esta parte del programa fue implementada de tres formas diferentes. Cada una funciona de la siguiente manera:\n",
        "\n",
        "a) Último elemento como pivote:\n",
        "1. Seleccionamos como pivote, tal como dice su nombre, el último elemento de un arreglo ($A[r]$).\n",
        "2. Con ayuda de dos índices $i$ y $j$ recorremos el arreglo hasta $r-1$.\n",
        "3. En cada iteración, verificamos si $A[j]$ es menor o igual al pivote. Si esto sucede, intercambiamos $A[j]$ con $A[i]$, y avanzamos con $i$.\n",
        "4. Al terminar el bucle, intercambiamos $A[r]$ con $A[i]$, y retornamos $i$.\n",
        "\n",
        "b) Primer elemento como pivote:\n",
        "1. En este caso, nuestro pivote será el primer elemento de un arreglo ($A[p]$)-\n",
        "2. Con ayuda de dos índices $i$ y $j$ recorremos el arreglo desde $p+1$ hasta $r$.\n",
        "3. En cada iteración, verificamos si $A[j]$ es menor o igual al pivote. Si esto sucede, intercambiamos $A[j]$ con $A[i]$, y avanzamos con $i$.\n",
        "4. Al terminar el bucle, intercambiamos $A[p]$ con $A[i-1]$, y retornamos $i-1$.\n",
        "\n",
        "c) La mediana de tres elementos al azar del arreglo como pivote:\n",
        "1. Ahora nuestro pivote será la mediana de tres elementos, los cuales escogeremos de forma aleatoria.\n",
        "2. Con ayuda de otra función, calculamos cuál es la mediana de estos elementos. Al obtener esta información, vemos en qué índice se encuentra este número en el arreglo $A$.\n",
        "3. Para facilitar el proceso, luego simplemente intercambiamos este número con el primer elemento del arreglo ($A[p]$), por lo que luego realizamos el mismo proceso descrito en la anterior implementación."
      ],
      "metadata": {
        "id": "BktxjJSy5mI1"
      }
    },
    {
      "cell_type": "markdown",
      "source": [
        "##2.3 Ejemplo\n",
        "Como muestra, tomaremos el siguiente arreglo:\n",
        "\n",
        "$A = [10,40,7,9,15,27]$\n",
        "\n",
        "En este ejemplo utilizaremos la implementación de **partition** que considera al primer elemento como pivote. Por lo que comenzaremos con $A[0]$. Nuestro índice $i$ comenzaría en $A[1]$, donde con $j$ llegaríamos hasta $A[5]$.\n",
        "Por lo que hasta el momento tendríamos algo así:\n",
        "\n",
        "$A = [10,40(i)(j),7,9,15,27]$\n",
        "\n",
        "Como $40$ es mayor a $10$, no pasa nada, por lo que avanzamos con $j$.\n",
        "\n",
        "$A = [10,40(i),7(j),9,15,27]$\n",
        "\n",
        "En este caso, efectivamente $7$ es menor a $10$, así que intercambiamos $A[i]$ con $A[j]$, y avanzamos tanto con $i$ como con $j$.\n",
        "\n",
        "$A = [10,7,40(i),9(j),15,27]$\n",
        "\n",
        "Siguiente número. $9$ es menor a $10$, así que realizamos el mismo procedimiento.\n",
        "\n",
        "$A = [10,7,9,40(i),15(j),27]$\n",
        "\n",
        "Luego $15$ es mayor a $10$, por lo que no intercambiamos y solo avanzamos con $j$.\n",
        "\n",
        "$A = [10,7,9,40(i),15,27(j)]$\n",
        "\n",
        "Finalmente, $27$ también es menor a $40$, así que no intercambiamos y finaliza el bucle.\n",
        "\n",
        "$A = [10,7,9,40(i),15,27(j)]$\n",
        "\n",
        "Al terminar la función **partition** en esta pasada, intercambiamos $A[0]$ con $A[i-1]$.\n",
        "\n",
        "$A = [9,7,10,40,15,27]$\n",
        "\n",
        "De este modo nos quedaría un arreglo dividido en otros dos subarreglos, a la izquierda de $A[2]$ y a su derecha. Por lo tanto la función se llamaría recursivamente para ordenar estos dos correctamente por separado con ayuda de la misma función **partition**.\n",
        "\n",
        "Empezaremos por la izquierda, es decir $L = [9,7]$. Al empezar la partición, elegimos ahora el $9$ como pivote.\n",
        "\n",
        "$L = [9,7(i)(j)]$\n",
        "\n",
        "Al ser tan solo un elemento el que recorremos, el bucle termina de inmediato, por lo que solo bastaría con intercambiar $7$ con $A[i-1]$, que justamente sería también nuestro pivote.\n",
        "\n",
        "$L = [7,9]$\n",
        "\n",
        "Ahora seguimos con la derecha, el subarreglo $R = [40,15,27]$. En este caso, el número $40$ será nuestro pivote.\n",
        "\n",
        "$R = [40,15(i)(j),27]$\n",
        "\n",
        "$15$ es menor a $40$, pero como $i = j$, solo habría que mover ambos índices.\n",
        "\n",
        "$R = [40,15,27(i)(j)]$\n",
        "\n",
        "Nuevamente, $27$ es menor a $40$, pero como ambos índices están en el mismo lugar, los dos avanzan, aunque al llegar $j$ a su límite, el ciclo finaliza. No así $i$, el cual sería igual a $3$, un valor más allá del arreglo, por lo que en el intercambio final se cambiarían de lugar los valores $A[2]$ y $A[0]$.\n",
        "\n",
        "$R = [27,15,40]$\n",
        "\n",
        "Por último, nuevamente se llama recursivamente a la función **quicksort** para tanto el subarreglo izquierdo de $R$ como el derecho, aunque éste último está vacío. Al aplicarlo al otro sin embargo resultaría en devolvernos aquel subarreglo ordenado, dejándonos $R$ de la siguiente forma.\n",
        "\n",
        "$R = [15,27,40]$\n",
        "\n",
        "¡Y listo! Ya se ordenaron ambos subarreglos laterales del arreglo original, en consecuencia dejándonos este último de menor a mayor, finalizando aquí el algoritmo.\n",
        "\n",
        "$A = [7,9,10,15,27,40]$"
      ],
      "metadata": {
        "id": "b94n6fam5xT0"
      }
    },
    {
      "cell_type": "markdown",
      "source": [
        "##2.4 Ejecución del algoritmo paso a paso (`verbose = True`)\n",
        "Al determinar que `verbose` sea igual a `True` en todas las funciones, al ejecutar el programa mostrarán cómo se realiza todo paso a paso, tal como se ve a continuación:"
      ],
      "metadata": {
        "id": "YPqShnxs5zGU"
      }
    },
    {
      "cell_type": "code",
      "source": [
        "import random\n",
        "from termcolor import cprint\n",
        "\n",
        "opt = random.randint(1,3)\n",
        "array = random.sample(range(1,100),6)\n",
        "cprint(f\"Arreglo de entrada: {array}\", 'yellow', attrs=['bold'])\n",
        "if opt == 1:\n",
        "  cprint(\"Pivote: último elemento\", attrs=['bold'])\n",
        "if opt == 2:\n",
        "  cprint(\"Pivote: primer elemento\", attrs=['bold'])\n",
        "if opt == 3:\n",
        "  cprint(\"Pivote: mediana de tres elementos al azar del arreglo\", attrs=['bold'])\n",
        "array = quick_sort(array, 0, len(array)-1, opt, verbose = True)\n",
        "cprint(f\"\\nArreglo ordenado: {array}\", 'yellow', attrs=['bold'])"
      ],
      "metadata": {
        "id": "aFnAxC-Z6RDY",
        "colab": {
          "base_uri": "https://localhost:8080/"
        },
        "outputId": "76dc3c5d-de8d-40d5-8985-f878d51f4521"
      },
      "execution_count": null,
      "outputs": [
        {
          "output_type": "stream",
          "name": "stdout",
          "text": [
            "\u001b[1m\u001b[33mArreglo de entrada: [12, 84, 13, 41, 11, 28]\u001b[0m\n",
            "\u001b[1mPivote: mediana de tres elementos al azar del arreglo\u001b[0m\n",
            "\n",
            "####\n",
            "Se entra a función partition!\n",
            "Arreglo a dividir: [12, 84, 13, 41, 11, 28]\n",
            "Elementos aleatorios recibidos: 12, 11, 13\n",
            "La mediana (pivote) es: [12]\n",
            "11 es menor a 12! Swap!\n",
            "Arreglo luego del intercambio: [12, 11, 13, 41, 84, 28]\n",
            "Arreglo tras partition: [11, 12, 13, 41, 84, 28]\n",
            "###\n",
            "\n",
            "\n",
            "####\n",
            "Se entra a función partition!\n",
            "Arreglo a dividir: [13, 41, 84, 28]\n",
            "Elementos aleatorios recibidos: 84, 84, 41\n",
            "La mediana (pivote) es: [84]\n",
            "41 es menor a 84! Swap!\n",
            "Arreglo luego del intercambio: [84, 41, 13, 28]\n",
            "13 es menor a 84! Swap!\n",
            "Arreglo luego del intercambio: [84, 41, 13, 28]\n",
            "28 es menor a 84! Swap!\n",
            "Arreglo luego del intercambio: [84, 41, 13, 28]\n",
            "Arreglo tras partition: [28, 41, 13, 84]\n",
            "###\n",
            "\n",
            "\n",
            "Llamada recursiva con arreglo izquierdo: [28, 41, 13]\n",
            "\n",
            "####\n",
            "Se entra a función partition!\n",
            "Arreglo a dividir: [28, 41, 13]\n",
            "Elementos aleatorios recibidos: 28, 28, 41\n",
            "La mediana (pivote) es: [28]\n",
            "13 es menor a 28! Swap!\n",
            "Arreglo luego del intercambio: [28, 13, 41]\n",
            "Arreglo tras partition: [13, 28, 41]\n",
            "###\n",
            "\n",
            "Se retorna arreglo de solo un elemento ([41])\n",
            "\n",
            "Subarreglo ordenado: [13, 28, 41]\n",
            "\n",
            "Llamada recursiva con arreglo derecho: []\n",
            "Subarreglo ordenado: []\n",
            "Subarreglo ordenado: [13, 28, 41, 84]\n",
            "Subarreglo ordenado: [11, 12, 13, 28, 41, 84]\n",
            "\u001b[1m\u001b[33m\n",
            "Arreglo ordenado: [11, 12, 13, 28, 41, 84]\u001b[0m\n"
          ]
        }
      ]
    },
    {
      "cell_type": "markdown",
      "source": [
        "#3. Correctitud"
      ],
      "metadata": {
        "id": "dtxCLTBaFhXh"
      }
    },
    {
      "cell_type": "markdown",
      "source": [
        "##**3.1 Teorema 1 (Correctitud de la función Partition)**\n",
        "*El algoritmo **Partition** recibe un arreglo $A[p,...,r]$, lo reorganiza y retorna un índice $q$ de tal forma que los elementos del arreglo $A[p,...,q-1]$ son menores o iguales a $A[q]$ y los elementos del arreglo $A[q+1,...,r]$ son mayores a $A[q]$*"
      ],
      "metadata": {
        "id": "68ZzAPFAlOnG"
      }
    },
    {
      "cell_type": "markdown",
      "source": [
        "###Prueba del teorema (función Partition)"
      ],
      "metadata": {
        "id": "7zsaM_IQmIwO"
      }
    },
    {
      "cell_type": "markdown",
      "source": [
        "###Inicialización"
      ],
      "metadata": {
        "id": "woKjz_JSmSqe"
      }
    },
    {
      "cell_type": "markdown",
      "source": [
        "###Correctitud"
      ],
      "metadata": {
        "id": "fTM2sJ6AmUP9"
      }
    },
    {
      "cell_type": "markdown",
      "source": [
        "##**3.2 Teorema 2 (correctitud de la función Quick Sort)**\n",
        "*El algoritmo **Quick Sort** genera un arreglo: $[a'_1,a'_2,a'_3,...,a'_n]$, con los mismos elementos del arreglo de entrada ordenados de menor a mayor, es decir, $a'_1 \\leq a'_2 \\leq a'_3 \\leq ... \\leq a'_n$.*"
      ],
      "metadata": {
        "id": "EdVTej5GmVxF"
      }
    },
    {
      "cell_type": "markdown",
      "source": [
        "###Prueba del teorema (función Quick Sort)"
      ],
      "metadata": {
        "id": "2x0FC1iknCg7"
      }
    },
    {
      "cell_type": "markdown",
      "source": [
        "#4. Tiempo de ejecución"
      ],
      "metadata": {
        "id": "XroyIFdDFnJp"
      }
    },
    {
      "cell_type": "markdown",
      "source": [
        "##4.1 Teorema (tiempo de ejecución de Quick Sort)"
      ],
      "metadata": {
        "id": "MsRX1ckjnWVT"
      }
    },
    {
      "cell_type": "markdown",
      "source": [
        "##4.2 Prueba del teorema"
      ],
      "metadata": {
        "id": "7kFqOSktncEU"
      }
    },
    {
      "cell_type": "markdown",
      "source": [
        "#5. Experimentos"
      ],
      "metadata": {
        "id": "bcUvqlrXFsAR"
      }
    },
    {
      "cell_type": "markdown",
      "source": [
        "##5.1 Número de comparaciones entre el mejor y peor caso teórico de QuickSort "
      ],
      "metadata": {
        "id": "yI50h4L-URBI"
      }
    },
    {
      "cell_type": "code",
      "source": [],
      "metadata": {
        "id": "tjO0t3LcUsAo"
      },
      "execution_count": null,
      "outputs": []
    },
    {
      "cell_type": "markdown",
      "source": [
        "###Análisis de resultados"
      ],
      "metadata": {
        "id": "dgZbYPQ_idf5"
      }
    },
    {
      "cell_type": "markdown",
      "source": [
        "##5.2 Comparación entre QuickSort y MergeSort"
      ],
      "metadata": {
        "id": "xepFYoWbUbiX"
      }
    },
    {
      "cell_type": "code",
      "source": [
        "import matplotlib.pyplot as plt\n",
        "import datetime\n",
        "import random\n",
        "from timeit import repeat\n",
        "\n",
        "def merge(array, left, right, verbose = False):\n",
        "  aux = []\n",
        "  leftPos = 0\n",
        "  rightPos = 0\n",
        "\n",
        "  while(leftPos < len(left) and rightPos < len(right)):\n",
        "    if (left[leftPos] < right[rightPos]):\n",
        "      aux.append(left[leftPos])\n",
        "      leftPos+=1\n",
        "    else:\n",
        "      aux.append(right[rightPos])\n",
        "      rightPos+=1\n",
        "  \n",
        "  while (leftPos < len(left)):\n",
        "    aux.append(left[leftPos])\n",
        "    leftPos+=1\n",
        "\n",
        "  while (rightPos < len(right)):\n",
        "    aux.append(right[rightPos])\n",
        "    rightPos+=1\n",
        "  \n",
        "  for i in range(len(aux)):\n",
        "    array[i] = aux[i]\n",
        "\n",
        "def merge_sort(array, verbose = False):\n",
        "  if  array[0] == array[-1]: return\n",
        "\n",
        "  mid = len(array) // 2\n",
        "  leftArray = array[:mid]\n",
        "  rightArray = array[mid:]\n",
        "  \n",
        "  merge_sort(leftArray)\n",
        "  \n",
        "  merge_sort(rightArray)\n",
        "  merge(array, leftArray, rightArray)\n",
        "\n",
        "x1 = []; y1 = []; x2 = []; y2 = []\n",
        "verbose = False\n",
        "for n in range(5,500):\n",
        "  a = random.sample(range(1,1000),n)\n",
        "\n",
        "  r = repeat(setup=\"from __main__ import merge_sort\", stmt = f\"merge_sort({a})\", repeat = 1, number = 10)\n",
        "  t = repeat(setup=\"from __main__ import quick_sort\", stmt = f\"quick_sort({a},{0},{len(a)-1},{1},{verbose})\", repeat = 1, number = 10)\n",
        "\n",
        "  x1.append(n)\n",
        "  x2.append(n)\n",
        "  y1.append(r)\n",
        "  y2.append(t)\n",
        "\n",
        "plt.plot(x1,y1)\n",
        "plt.plot(x2,y2)\n",
        "plt.legend([\"Merge Sort\",\"Quick Sort\"])\n",
        "\n",
        "plt.xlabel(\"n\")\n",
        "plt.ylabel(\"Tiempo en ms\")\n",
        "plt.show()"
      ],
      "metadata": {
        "colab": {
          "base_uri": "https://localhost:8080/",
          "height": 279
        },
        "id": "z8Pt5wYCUsfv",
        "outputId": "5ccbdcad-3225-40f6-f5fd-4d86f745150d"
      },
      "execution_count": null,
      "outputs": [
        {
          "output_type": "display_data",
          "data": {
            "text/plain": [
              "<Figure size 432x288 with 1 Axes>"
            ],
            "image/png": "[encoded data removed]"
          },
          "metadata": {
            "needs_background": "light"
          }
        }
      ]
    },
    {
      "cell_type": "markdown",
      "source": [
        "###Análisis de resultados"
      ],
      "metadata": {
        "id": "_cyeMfC5iW52"
      }
    },
    {
      "cell_type": "markdown",
      "source": [
        "##5.3 Comparación entre los tiempos de ejecución con cada implementación de la función partition"
      ],
      "metadata": {
        "id": "0Wn6zs0vUg9o"
      }
    },
    {
      "cell_type": "code",
      "source": [
        "import random\n",
        "x1 = []; y1 = []; y2 = []; y3 = []\n",
        "verbose = False\n",
        "\n",
        "for n in range(5,500):\n",
        "  array = random.sample(range(1,1000),n)\n",
        "\n",
        "  r = repeat(setup=\"from __main__ import quick_sort\", stmt = f\"quick_sort({array},{0},{len(a)-1},{1},{verbose})\", repeat = 1, number = 10)\n",
        "  y1.append(r)\n",
        "  t = repeat(setup=\"from __main__ import quick_sort\", stmt = f\"quick_sort({array},{0},{len(a)-1},{2},{verbose})\", repeat = 1, number = 10)\n",
        "  y2.append(t)\n",
        "  q = repeat(setup=\"from __main__ import quick_sort\", stmt = f\"quick_sort({array},{0},{len(a)-1},{3},{verbose})\", repeat = 1, number = 10)\n",
        "  y3.append(q)\n",
        "\n",
        "  x1.append(n)\n",
        "\n",
        "plt.plot(x1,y1)\n",
        "plt.plot(x1,y2)\n",
        "plt.plot(x1,y3)\n",
        "plt.legend([\"Último elemento\",\"Primer elemento\",\"Mediana de tres elementos al azar\"])\n",
        "\n",
        "plt.xlabel(\"n\")\n",
        "plt.ylabel(\"Tiempo en ms\")\n",
        "plt.show()"
      ],
      "metadata": {
        "colab": {
          "base_uri": "https://localhost:8080/",
          "height": 279
        },
        "id": "LdjjygAVUs0_",
        "outputId": "ee33fa1c-62eb-4027-cdae-f9115d2f10dc"
      },
      "execution_count": null,
      "outputs": [
        {
          "output_type": "display_data",
          "data": {
            "text/plain": [
              "<Figure size 432x288 with 1 Axes>"
            ],
            "image/png": "[encoded data removed]"
          },
          "metadata": {
            "needs_background": "light"
          }
        }
      ]
    },
    {
      "cell_type": "markdown",
      "source": [
        "###Análisis de resultados"
      ],
      "metadata": {
        "id": "aJplcoGViZfm"
      }
    }
  ]
}