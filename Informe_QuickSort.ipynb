{
  "nbformat": 4,
  "nbformat_minor": 0,
  "metadata": {
    "colab": {
      "provenance": [],
      "collapsed_sections": [],
      "toc_visible": true,
      "authorship_tag": "ABX9TyMTF483uO6srnjK1idxQYVk",
      "include_colab_link": true
    },
    "kernelspec": {
      "name": "python3",
      "display_name": "Python 3"
    },
    "language_info": {
      "name": "python"
    }
  },
  "cells": [
    {
      "cell_type": "markdown",
      "metadata": {
        "id": "view-in-github",
        "colab_type": "text"
      },
      "source": [
        "<a href=\"https://colab.research.google.com/github/Sylver640/ADA-Informes/blob/main/Informe_QuickSort.ipynb\" target=\"_parent\"><img src=\"https://colab.research.google.com/assets/colab-badge.svg\" alt=\"Open In Colab\"/></a>"
      ]
    },
    {
      "cell_type": "markdown",
      "source": [
        "#1. Descripción del problema (ordenamiento)\n",
        "**Entrada**: Secuencia de n números $[a_1,a_2,a_3,...,a_n]$.\n",
        "\n",
        "**Salida**: Permutación ordenada de la secuencia inicial: $[a_1',a_2',a_3',...,a_n']$, pero con los valores ordenados tal que $a_1'<=a_2'<=a_3'<=...<=a_n'$."
      ],
      "metadata": {
        "id": "S2tzwosATMea"
      }
    },
    {
      "cell_type": "markdown",
      "source": [
        "Hace algunos informes atrás, veíamos diferentes algoritmos cuya tarea era simple: ordenar una serie de elementos. Un problema que desde los inicios de la informática ha generado que se creen cientos de estos programas, algunos más rápidos que otros haciendo esta acción, aunque trabajando de diferente forma. Algoritmos como el **Insertion Sort** funcionan de manera iterativa, aunque es más lento, mientras que el **Merge Sort** es más rápido, pero es una función que actúa de manera recursiva, es decir se llama a sí misma. Aquellos algoritmos de este último tipo se guían por el paradigma de \"divide y vencerás\", el cual resulta muy útil para resolver este problema debido a que su naturaleza de subproblemas se traduce en el ordenamiento de arreglos más pequeños, que facilitan el reordenamiento de la lista principal. Y en 1959, el informático **Tony Hoare** no pudo haber implementado mejor esta técnica, puesto que es el responsable de crear el conocido **Quick Sort**, que, por redundante que suene por su nombre en inglés, es, hasta ahora, uno de los algoritmos más rápidos para ordenar una lista de elementos."
      ],
      "metadata": {
        "id": "0os9lYJL2HOV"
      }
    },
    {
      "cell_type": "markdown",
      "source": [
        "![image](https://upload.wikimedia.org/wikipedia/commons/f/fe/Quicksort.gif)"
      ],
      "metadata": {
        "id": "KHbnqw021zv2"
      }
    },
    {
      "cell_type": "markdown",
      "source": [
        "#2. QuickSort\n",
        "\n",
        "Este algoritmo fue desarrollado por Tony Hoare en el año 1959. Se guía por el paradigma de \"divide y vencerás\", y es una función recursiva."
      ],
      "metadata": {
        "id": "yRpLcCigTPza"
      }
    },
    {
      "cell_type": "markdown",
      "source": [
        "##2.1 Código\n",
        "A continuación, el siguiente código presenta una implementación del algoritmo."
      ],
      "metadata": {
        "id": "YSbFUS8T3Vpt"
      }
    },
    {
      "cell_type": "code",
      "execution_count": 222,
      "metadata": {
        "colab": {
          "base_uri": "https://localhost:8080/"
        },
        "id": "CiTJ-3stTBcS",
        "outputId": "e63a2073-c453-424b-afd6-71ff142640d0"
      },
      "outputs": [
        {
          "output_type": "stream",
          "name": "stdout",
          "text": [
            "Input: [99, 34, 1, 77]\n",
            "Sorted array: [1, 34, 77, 99]\n",
            "Partition implementation used: Last element\n",
            "Number of comparisons: 2\n"
          ]
        }
      ],
      "source": [
        "import random\n",
        "import statistics as stat\n",
        "\n",
        "comparisons = 0\n",
        "\n",
        "#Función que busca la mediana entre tres números\n",
        "def median_of_three(a,b,c,verbose):\n",
        "  if verbose == True:\n",
        "    print(f\"Elementos aleatorios recibidos: {a}, {b}, {c}\")\n",
        "  if a <= b and b <= c:\n",
        "        return b\n",
        "  if c <= b and b <= a:\n",
        "        return b\n",
        "  if a <= c and c <= b:\n",
        "        return c\n",
        "  if b <= c and c <= a:\n",
        "        return c\n",
        "  return a\n",
        "\n",
        "#Implementación de partition que usa como pivote el último elemento\n",
        "def partition_end(A, p, r, verbose):\n",
        "  if verbose == True:\n",
        "    print(\"\\n####\")\n",
        "    print(\"Se entra a función partition!\")\n",
        "  global comparisons\n",
        "  if verbose == True:\n",
        "    print(f\"Arreglo a dividir: {A[p:r+1]}\")\n",
        "  pivot = A[r] #Pivote es el último elemento\n",
        "  if verbose == True:\n",
        "    print(f\"Pivote: [{A[r]}]\")\n",
        "  i = p #El puntero de intercambio comenzará desde el inicio del arreglo\n",
        "  for j in range(p,r): #Mientras que el puntero j recorrerá todo el intervalo\n",
        "    if A[j] <= pivot: #Si A[j] es menor o igual al pivote se entra a esta condicional if que realiza el intercambio\n",
        "      if verbose == True:\n",
        "        print(f\"{A[j]} es menor a {pivot}! Swap!\")\n",
        "      A[j], A[i] = A[i], A[j] #Se intercambian las posiciones de A[j] y A[i] \n",
        "      i+=1 #Nuestro índice izquierdo aumenta una unidad, cerrando más el intervalo\n",
        "      if verbose == True:\n",
        "        print(f\"Arreglo luego del intercambio: {A[p:r+1]}\")\n",
        "      comparisons+=1\n",
        "\n",
        "  A[i], A[r] = A[r], A[i] #Finalmente, intercambiamos nuestro pivote con la posición A[i], dejándonos así un arreglo donde la mitad izquierda es menor\n",
        "                          #y la mitad derecha es mayor al pivote\n",
        "  if verbose == True:\n",
        "    print(f\"Arreglo tras partition: {A[p:r+1]}\")\n",
        "    print(\"###\\n\")\n",
        "  return i #Retornamos como pivote la posición i de nuestro arreglo\n",
        "\n",
        "#Implementación de partition que usa como pivote el primer elemento\n",
        "def partition_start(A, p, r, verbose):\n",
        "  if verbose == True:\n",
        "    print(\"\\n####\")\n",
        "    print(\"Se entra a función partition!\")\n",
        "  global comparisons\n",
        "  if verbose == True:\n",
        "    print(f\"Arreglo a dividir: {A[p:r+1]}\")\n",
        "  pivot = A[p] #Pivote es el primer elemento\n",
        "  if verbose == True:\n",
        "    print(f\"Pivote: [{A[p]}]\")\n",
        "  i = p+1 #El índice que define a la izquierda es el que le sigue al primer elemento\n",
        "  for j in range(p+1,r+1): #Mientras tanto, el índice j ira desde la misma posición de i hasta el último elemento\n",
        "    if A[j] <= pivot: #Si A[j] es menor o igual al pivote se entra a esta condicional if que realiza el intercambio\n",
        "      if verbose == True:\n",
        "        print(f\"{A[j]} es menor a {pivot}! Swap!\")\n",
        "      comparisons+=1\n",
        "      A[i], A[j] = A[j], A[i] #Se intercambian las posiciones de A[j] y A[i]\n",
        "      i+=1 #El índice izquierdo avanza una posición\n",
        "      if verbose == True:\n",
        "        print(f\"Arreglo luego del intercambio: {A[p:r+1]}\")\n",
        "  A[p], A[i-1] = A[i-1], A[p] #Finalmente, intercambiamos nuestro pivote con aquel valor que está justo antes del índice izquierdo\n",
        "\n",
        "  if verbose == True:\n",
        "    print(f\"Arreglo tras partition: {A[p:r+1]}\")\n",
        "    print(\"###\\n\")\n",
        "  return i-1 #Retornamos como pivote este valor recién mencionado\n",
        "\n",
        "#Implementación de partition que usa como pivote la mediana entre tres números al azar del arreglo\n",
        "def partition_median(A, p, r, verbose):\n",
        "  if verbose == True:\n",
        "    print(\"\\n####\")\n",
        "    print(\"Se entra a función partition!\")\n",
        "  global comparisons\n",
        "  if verbose == True:\n",
        "    print(f\"Arreglo a dividir: {A[p:r+1]}\")\n",
        "  pivot = median_of_three(random.choice(array[p:r]),random.choice(array[p:r]),random.choice(array[p:r]),verbose) #Pivote es la mediana entre tres elementos aleatorios\n",
        "  pivot_position = A.index(pivot) #Se busca el índice del valor escogido en el arreglo\n",
        "  if verbose == True:\n",
        "    print(f\"La mediana (pivote) es: [{pivot}]\")\n",
        "\n",
        "  A[pivot_position], A[p]= A[p], pivot #Por último, y con tal de trabajar de una forma más óptima, nuestro pivote se traslada al inicio del arreglo,\n",
        "                                       #por lo que el procedimiento sería el mismo explicado anteriormente\n",
        "\n",
        "  i = p+1\n",
        "  for j in range(p+1,r+1):\n",
        "    if A[j] <= pivot:\n",
        "      if verbose == True:\n",
        "        print(f\"{A[j]} es menor a {pivot}! Swap!\")\n",
        "      comparisons+=1\n",
        "      A[j], A[i] = A[i], A[j]\n",
        "      i+=1\n",
        "      if verbose == True:\n",
        "        print(f\"Arreglo luego del intercambio: {A[p:r+1]}\")\n",
        "  A[p], A[i-1] = A[i-1], A[p]\n",
        "\n",
        "  if verbose == True:\n",
        "    print(f\"Arreglo tras partition: {A[p:r+1]}\")\n",
        "    print(\"###\\n\")\n",
        "  return i-1\n",
        "\n",
        "def quicksort(A, start, end, opt, verbose):\n",
        "  if (start == end): #Si el arreglo es de solo un elemento, se retorna de inmediato\n",
        "    if verbose == True:\n",
        "      print(f\"Se retorna arreglo de solo un elemento ([{A[start]}])\\n\")\n",
        "    return A\n",
        "  if (start < end): #Hacemos quicksort solo si el arreglo tiene más de dos elementos\n",
        "    #Con tal de probar las tres funciones \"partition\" implementadas, la variable \"opt\" definirá cuál será la implementación a utilizar para el arreglo\n",
        "    if (opt == 1):\n",
        "      pivot = partition_end(A, start, end, verbose)\n",
        "    elif (opt == 2):\n",
        "      pivot = partition_start(A, start, end, verbose)\n",
        "    else:\n",
        "        pivot = partition_median(A, start, end, verbose)\n",
        "\n",
        "    #Luego de dividir y ordenar el arreglo con cualquiera de las implementaciones de \"partition\", se llama recursivamente \n",
        "    #la función para ordenar la primera y segunda mitad del arreglo\n",
        "    if verbose == True:\n",
        "      if (len(A[start:pivot-1]) > 0):\n",
        "        print(f\"\\nLlamada recursiva con arreglo izquierdo: {A[start:pivot]}\")\n",
        "        quicksort(A, start, pivot-1, opt, verbose)\n",
        "    else:\n",
        "      quicksort(A, start, pivot-1, opt, verbose)\n",
        "    if verbose == True and len(A[start:pivot-1]) >= 2:\n",
        "        print(f\"\\nLlamada recursiva con arreglo derecho: {A[pivot+1:end+1]}\")\n",
        "        quicksort(A, pivot+1, end, opt, verbose)\n",
        "    else:\n",
        "      quicksort(A, pivot+1, end, opt, verbose)\n",
        "  \n",
        "  if verbose == True:\n",
        "    print(f\"Subarreglo ordenado: {A[start:end+1]}\")\n",
        "  return A\n",
        "\n",
        "#Ejemplo\n",
        "opt = random.randint(1,3) #Define qué implementación de \"partition\" será utilizada\n",
        "n = random.randint(2,6) #Se define la cantidad de elementos que tendrá nuestro arreglo de forma aleatoria\n",
        "array = random.sample(range(1,100),n) #Se crea un arreglo aleatorio\n",
        "print(f\"Input: {array}\")\n",
        "array = quicksort(array, 0, len(array)-1, opt, verbose = False)\n",
        "print(f\"Sorted array: {array}\")\n",
        "if opt == 1:\n",
        "  print(\"Partition implementation used: Last element\")\n",
        "if opt == 2:\n",
        "  print(\"Partition implementation used: First element\")\n",
        "if opt == 3:\n",
        "  print(\"Partition implementation used: Median of three random numbers\")\n",
        "print(f\"Number of comparisons: {comparisons}\")"
      ]
    },
    {
      "cell_type": "markdown",
      "source": [
        "##2.2 Descripción del algoritmo\n",
        "El algoritmo es del tipo **divide y vencerás**, y es recursivo, llamándose dos veces dentro de sí mismo. Como entrada, recibe una secuencia de $n$ números y retorna esta ordenada de menor a mayor. Explicada de forma general, la función principal funciona de la siguiente manera:\n",
        "\n",
        "1. Se llama a la función partition, la cual selecciona un pivote con el cual dividiremos el algoritmo.\n",
        "2. Ya con nuestro pivote, la función se llama recursivamente en dos ocasiones: para ordenar el **subarreglo izquierdo al pivote** y aquel **subarreglo derecho al pivote**.\n",
        "3. Finalmente, **quicksort** nos retorna el arreglo original ya ordenado. Cabe resaltar que si éste es de solo un elemento, se retorna inmediatamente sin hacer lo anterior.\n",
        "\n",
        "Por otra parte, dentro del programa se ejecuta la función **partition**, que en este caso fue implementada de tres formas diferentes. Cada una funciona de la siguiente manera:\n"
      ],
      "metadata": {
        "id": "BktxjJSy5mI1"
      }
    },
    {
      "cell_type": "markdown",
      "source": [
        "##2.3 Ejemplo"
      ],
      "metadata": {
        "id": "b94n6fam5xT0"
      }
    },
    {
      "cell_type": "markdown",
      "source": [
        "##2.4 Ejecución del algoritmo paso a paso (`verbose = True`)\n",
        "Al determinar que `verbose` sea igual a `True` en todas las funciones, al ejecutar el programa mostrarán cómo se realiza todo paso a paso, tal como se ve a continuación:"
      ],
      "metadata": {
        "id": "YPqShnxs5zGU"
      }
    },
    {
      "cell_type": "code",
      "source": [
        "import random\n",
        "from termcolor import cprint\n",
        "\n",
        "opt = random.randint(1,3)\n",
        "array = random.sample(range(1,100),6)\n",
        "cprint(f\"Arreglo de entrada: {array}\", 'yellow', attrs=['bold'])\n",
        "if opt == 1:\n",
        "  cprint(\"Pivote: último elemento\", attrs=['bold'])\n",
        "if opt == 2:\n",
        "  cprint(\"Pivote: primer elemento\", attrs=['bold'])\n",
        "if opt == 3:\n",
        "  cprint(\"Pivote: mediana de tres elementos al azar del arreglo\", attrs=['bold'])\n",
        "array = quicksort(array, 0, len(array)-1, opt, verbose = True)\n",
        "cprint(f\"\\nArreglo ordenado: {array}\", 'yellow', attrs=['bold'])"
      ],
      "metadata": {
        "id": "aFnAxC-Z6RDY",
        "colab": {
          "base_uri": "https://localhost:8080/"
        },
        "outputId": "175cee82-5716-49a6-db9d-95a1e18bf8c0"
      },
      "execution_count": 223,
      "outputs": [
        {
          "output_type": "stream",
          "name": "stdout",
          "text": [
            "\u001b[1m\u001b[33mArreglo de entrada: [8, 41, 43, 94, 10, 7]\u001b[0m\n",
            "\u001b[1mPivote: primer elemento\u001b[0m\n",
            "\n",
            "####\n",
            "Se entra a función partition!\n",
            "Arreglo a dividir: [8, 41, 43, 94, 10, 7]\n",
            "Pivote: [8]\n",
            "7 es menor a 8! Swap!\n",
            "Arreglo luego del intercambio: [8, 7, 43, 94, 10, 41]\n",
            "Arreglo tras partition: [7, 8, 43, 94, 10, 41]\n",
            "###\n",
            "\n",
            "\n",
            "####\n",
            "Se entra a función partition!\n",
            "Arreglo a dividir: [43, 94, 10, 41]\n",
            "Pivote: [43]\n",
            "10 es menor a 43! Swap!\n",
            "Arreglo luego del intercambio: [43, 10, 94, 41]\n",
            "41 es menor a 43! Swap!\n",
            "Arreglo luego del intercambio: [43, 10, 41, 94]\n",
            "Arreglo tras partition: [41, 10, 43, 94]\n",
            "###\n",
            "\n",
            "\n",
            "Llamada recursiva con arreglo izquierdo: [41, 10]\n",
            "\n",
            "####\n",
            "Se entra a función partition!\n",
            "Arreglo a dividir: [41, 10]\n",
            "Pivote: [41]\n",
            "10 es menor a 41! Swap!\n",
            "Arreglo luego del intercambio: [41, 10]\n",
            "Arreglo tras partition: [10, 41]\n",
            "###\n",
            "\n",
            "Subarreglo ordenado: []\n",
            "Subarreglo ordenado: [10, 41]\n",
            "Se retorna arreglo de solo un elemento ([94])\n",
            "\n",
            "Subarreglo ordenado: [10, 41, 43, 94]\n",
            "Subarreglo ordenado: [7, 8, 10, 41, 43, 94]\n",
            "\u001b[1m\u001b[33m\n",
            "Arreglo ordenado: [7, 8, 10, 41, 43, 94]\u001b[0m\n"
          ]
        }
      ]
    }
  ]
}