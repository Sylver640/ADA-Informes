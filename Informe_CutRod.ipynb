{
  "nbformat": 4,
  "nbformat_minor": 0,
  "metadata": {
    "colab": {
      "provenance": [],
      "collapsed_sections": [],
      "toc_visible": true,
      "authorship_tag": "ABX9TyONRVQwXtjcl2H1t1lwt+Ek",
      "include_colab_link": true
    },
    "kernelspec": {
      "name": "python3",
      "display_name": "Python 3"
    },
    "language_info": {
      "name": "python"
    }
  },
  "cells": [
    {
      "cell_type": "markdown",
      "metadata": {
        "id": "view-in-github",
        "colab_type": "text"
      },
      "source": [
        "<a href=\"https://colab.research.google.com/github/Sylver640/ADA-Informes/blob/main/Informe_CutRod.ipynb\" target=\"_parent\"><img src=\"https://colab.research.google.com/assets/colab-badge.svg\" alt=\"Open In Colab\"/></a>"
      ]
    },
    {
      "cell_type": "markdown",
      "source": [
        "#1. Descripción del problema (corte de varillas)\n",
        "**Entrada:** Largo de varilla $n$, vector de precios por cada medida $i = 1,...,n$.\n",
        "\n",
        "**Salida:** Retorno máximo $r_n$ que se puede obtener cortando la varilla y vendiendo las partes.\n",
        "\n",
        "Porque también los algoritmos pueden solucionar situaciones de la cotidianidad, en esta ocasión supongamos que tenemos una compañía que vende **varillas de metal**. Para ello compramos varillas largas y cortas, que luego se cortan en varillas aún más pequeñas, cada medida teniendo su propio valor, tal como se ve en la siguiente tabla de ejemplo:\n",
        "\n",
        "![image](https://chartreuse-goal-d5c.notion.site/image/https%3A%2F%2Fs3-us-west-2.amazonaws.com%2Fsecure.notion-static.com%2F19c92da5-a1d0-4a76-b35c-6ba829aab554%2FUntitled.png?table=block&id=f1440f99-65ce-4bf7-9906-f6980a4b4ae5&spaceId=4f8bebe4-a843-44d2-b6ee-51e2006a90d1&width=1010&userId=&cache=v2)\n",
        "\n",
        "En ella observamos como va variando el valor de cada corte en un rango $i = [1,10]$, naturalmente incrementando mientras mayor sea el tamaño del corte. Con esta información, ahora debemos encontrar cuál es el retorno máximo que podemos obtener cortando dicha varilla.\n",
        "\n",
        "![image](https://i.imgur.com/eTMXAYG.gif)\n",
        "\n",
        "Veremos cómo esto es posible con una forma de programar un tanto interesante: **la programación dinámica**. Este paradigma, al igual que \"divide y vencerás\", se encargan de resolver el problema combinando las soluciones de cada sub-problema. Sin embargo, algo que diferencia a la primera de esta última es que solo se aplica cuando se **comparten los subsubproblemas**, calculando cada uno tan solo una vez y guardar su solución en una \"tabla\", lo cual nos evitaría hacer trabajo redundante. En el caso de nuestro problema, observamos que esto sí sucede, puesto que necesitamos el valor previo a la longitud que estamos analizando en dicho momento."
      ],
      "metadata": {
        "id": "QK445Ytah4c8"
      }
    },
    {
      "cell_type": "markdown",
      "source": [
        "#2. Problema del corte de varilla"
      ],
      "metadata": {
        "id": "DQHA6bA9LDO7"
      }
    },
    {
      "cell_type": "markdown",
      "source": [
        "##2.1 Código\n",
        "A continuación, se muestra la implementación del algoritmo que soluciona el problema indicado de dos maneras: recursiva (**Naive Implementation**) y por medio de programación dinámica (**acercamiento bottom-up**)."
      ],
      "metadata": {
        "id": "WtOhVCqnM8ir"
      }
    },
    {
      "cell_type": "code",
      "execution_count": 229,
      "metadata": {
        "id": "UVoO-up5hYDT",
        "colab": {
          "base_uri": "https://localhost:8080/"
        },
        "outputId": "3274ab50-de30-437d-cc93-1bed26bce484"
      },
      "outputs": [
        {
          "output_type": "stream",
          "name": "stdout",
          "text": [
            "\u001b[1m\u001b[33mArreglo de precios: [1, 10, 18, 25, 33, 40, 46, 47, 57, 60]\u001b[0m\n",
            "Largo de varilla: 5\u001b[0m\n",
            "Implementación utilizada: Naive Implementation (recursiva)\n",
            "# Comparaciones = 31\n",
            "\u001b[1m\u001b[33m\n",
            "Retorno máximo: 33\u001b[0m\n"
          ]
        }
      ],
      "source": [
        "import random\n",
        "from termcolor import cprint\n",
        "\n",
        "comparisons = 0\n",
        "necessaryCuts = []\n",
        "subproblems = 0\n",
        "\n",
        "#Función que retorna el máximo de dos números\n",
        "def maxSum(a,b):\n",
        "  if a > b:\n",
        "    return a\n",
        "  else:\n",
        "    return b\n",
        "\n",
        "#Implementación recursiva del algoritmo\n",
        "def naiveImplementation(prices, n, verbose):\n",
        "  #Se llaman a las variables globales\n",
        "  global comparisons\n",
        "  global necessaryCuts\n",
        "  #Se retorna el caso base, es decir, si la longitud del arreglo recibido es menor o igual a 0\n",
        "  if (n <= 0):\n",
        "    return 0\n",
        "  \n",
        "  maxReturn = -9999999 #Se define a maxReturn como un número muy pequeño para encontrar el máximo con más \"facilidad\"\n",
        "\n",
        "  #Se entra en el ciclo para recorrer todo el arreglo\n",
        "  for i in range(0, n):\n",
        "    #Se busca el valor máximo entre maxReturn y una llamada recursiva a la función\n",
        "    maxReturn = maxSum(maxReturn, prices[i] + naiveImplementation(prices, n - i - 1, verbose))\n",
        "    comparisons+=1\n",
        "\n",
        "  return maxReturn #Se retorna el retorno máximo encontrado\n",
        "\n",
        "#Implementación por medio de programación dinámica\n",
        "def bottomUpImplementation(prices, n, verbose):\n",
        "  #Llamada a variable global\n",
        "  global subproblems\n",
        "  #Arreglo que guardará los retornos máximos anteriores al momento de cada iteración\n",
        "  maxReturns = [-1]*(n+1)\n",
        "  maxReturns[0] = 0 #El precio de la longitud 0 se define como $0\n",
        "  sizes = [-1] * (n+1) #Arreglo que almacenará los cortes necesarios\n",
        "\n",
        "  #Se va recorriendo \n",
        "  for i in range(1, n+1):\n",
        "    maxReturnValue = -9999999\n",
        "    for j in range(1, i+1):\n",
        "      maxReturnValue = maxSum(maxReturnValue, prices[j] + maxReturns[i-j-1])\n",
        "      sizes[i] = j\n",
        "    if (maxReturns[i] == -1):\n",
        "        subproblems+=1\n",
        "    maxReturns[i] = maxReturnValue\n",
        "  \n",
        "  return maxReturns[n], sizes\n",
        "\n",
        "#Función que se encarga de generar instancias de precios para ser utilizados en cada implementación\n",
        "def cutrod_instance_generator(N):\n",
        "  A = []\n",
        "  prev = 0\n",
        "  for i in range(N):\n",
        "    r=random.randint(0,10)\n",
        "    A.append(prev+r)\n",
        "    prev+=r\n",
        "  return A\n",
        "\n",
        "#Ejemplo\n",
        "opt = random.randint(1,2)\n",
        "len = random.randint(6,10)\n",
        "prices = cutrod_instance_generator(len)\n",
        "n = random.randint(1,len)\n",
        "cprint(f\"Arreglo de precios: {prices}\", 'yellow', attrs=[\"bold\"])\n",
        "cprint(f\"Largo de varilla: {n}\")\n",
        "if opt == 1:\n",
        "  print(\"Implementación utilizada: Naive Implementation (recursiva)\")\n",
        "  max = naiveImplementation(prices, n, verbose = False)\n",
        "  print(f\"# Comparaciones = {comparisons}\")\n",
        "if opt == 2:\n",
        "  print(\"Implementación utilizada: Bottom-Up (programación dinámica)\")\n",
        "  max, cortes = bottomUpImplementation(prices, n, verbose = False)\n",
        "  print(f\"# Subproblemas solucionados = {subproblems}\")\n",
        "\n",
        "cprint(f\"\\nRetorno máximo: {max}\", 'yellow', attrs=[\"bold\"])\n",
        "if opt == 2:\n",
        "  cprint(f\"Cantidad de cortes necesarios: {cortes[n]}\")"
      ]
    },
    {
      "cell_type": "markdown",
      "source": [
        "##2.2 Descripción del algoritmo\n",
        "Tal como se fue mencionado anteriormente, existe más de una forma para solucionar este problema. En nuestro caso, se implementó una solución de dos formas distintas, que se explicarán a continuacion.\n",
        "\n",
        "###Implementación ingenua\n",
        "Este método se llama recursivamente solo una vez. Recibe un arreglo o lista de $i$ elementos, o en este caso, precios, y la longitud $n$ de la varilla a cortar. En general, los pasos que sigue esta solución es la siguiente:\n",
        "1. Recibe los datos requeridos. Si $n$ es menor o igual a $0$, retornamos de inmediato este dato. Éste será nuestro caso base.\n",
        "2. Se crea una variable $maxReturn$ que irá almacenando los máximos retornos que se vayan encontrando en cada llamada recursiva.\n",
        "3. Luego, recorremos todo el arreglo de precios y en cada posición buscamos cuál es el mayor retorno en dicha iteración. Sin embargo, en vez de buscar en algún dato anterior o similar, comparamos $maxReturn$ con el precio del corte en esa posición más una llamada recursiva a la función, la cual calculará cada máximo retorno anterior de cada posición.\n",
        "4. Finalmente, tan solo retornamos el máximo retorno encontrado.\n",
        "\n",
        "###Acercamiento bottom-up\n",
        "Al igual que lo descrito anteriormente, se recibe un arreglo o lista que contiene $i$ precios para cada corte, y una longitud $n$ correspondiente a la varilla que deseamos cortar. Puesto que aquí trabajamos bajo el paradigma de la **programación dinámica**, antes de explicar cómo funciona, podemos definir la subestructura óptima del problema. \n",
        "\n",
        "Primero, podemos descubrir como nuestra solución óptima, definida por un retorno máximo $r_n$, puede estar dada ya sea por el precio de la varilla completa, o de una subvarilla de precio $p_i$ más el retorno máximo de toda la varilla restante\n",
        "\n",
        "![image](https://docs.google.com/drawings/d/e/2PACX-1vS1PepvvczFdDNgTY9wP-LyEi5-n8mfg1q1xHeb6ycteXqI0N9vmGjkGG3PI3595JDBChGJeYrVGYP7/pub?w=785&h=407)\n",
        "\n",
        "Como vemos que este corte es óptimo, en definitiva cada subproblema siguiente, cada uno muy similar al anterior, se verá definida por este valor que nos devolverá la siguiente **función recursiva**:\n",
        "$r_n=\\max\\limits_{i=1..n}(p_i+r_{n-i})$, donde $n$ es la longitud máxima de la varilla, $p_i$ el valor del corte encontrado, y $r_{n-i}$ el retorno máximo del valor anterior. Y por último, y que es lo que diferencia a la variable recursiva, es que el **acercamiento bottom-up** guarda los subproblemas anteriores para luego utilizarlos con más facilidad en los casos posteriores. No así la implementación anterior, donde un subproblema se resolvía muchas veces, lo que ya nos entrega una pista de su posible ineficiencia.\n",
        "\n",
        "Ahora bien, conociendo esta información, podemos describir el funcionamiento de esta implementación de la siguiente forma:\n",
        "1. Se crea un nuevo arreglo $maxReturns$ que guardará cada nuevo retorno máximo encontrado en cada iteración. Puesto que un corte inexistente tiene un retorno máximo de 0, se define $maxReturns[0] = 0$.\n",
        "2. Luego, se recorre el arreglo de precios, en donde además se recorre un subarreglo $[1,...,i]$, en donde en cada iteración se irá comparando el valor **maxReturnValue** con $prices[j]$ más un valor anterior del arreglo que almacena los retornos, en donde el mayor se guardará en la posición $maxReturns[i]$.\n",
        "3. Finalmente, se retorna la $n$-ésima posición del arreglo $maxReturns$, en donde se encontrará el máximo retorno encontrado para dicha longitud.\n",
        "\n",
        "Para ver paso a paso lo que sucede en cada implementación del algoritmo, `verbose` debe ser igual a `True`."
      ],
      "metadata": {
        "id": "l8CceAmZFpx4"
      }
    },
    {
      "cell_type": "markdown",
      "source": [
        "##2.3 Ejemplo"
      ],
      "metadata": {
        "id": "XXQ8TksvqOov"
      }
    },
    {
      "cell_type": "markdown",
      "source": [
        "##2.4 Ejecución del algoritmo paso a paso (`verbose = True`)"
      ],
      "metadata": {
        "id": "26rL7LquqRh-"
      }
    },
    {
      "cell_type": "code",
      "source": [],
      "metadata": {
        "id": "BhbLy11Aqar2"
      },
      "execution_count": null,
      "outputs": []
    },
    {
      "cell_type": "markdown",
      "source": [
        "#3. Correctitud"
      ],
      "metadata": {
        "id": "OsE0LMwJqd6u"
      }
    },
    {
      "cell_type": "markdown",
      "source": [
        "#4. Tiempo de ejecución"
      ],
      "metadata": {
        "id": "LlWJIASuqg9d"
      }
    },
    {
      "cell_type": "markdown",
      "source": [
        "#5. Experimentos"
      ],
      "metadata": {
        "id": "phB4iGrwqi_W"
      }
    }
  ]
}