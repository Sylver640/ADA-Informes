{
  "nbformat": 4,
  "nbformat_minor": 0,
  "metadata": {
    "colab": {
      "provenance": [],
      "collapsed_sections": [],
      "authorship_tag": "ABX9TyNHO5b9WWYcORqlkv/3QAkP",
      "include_colab_link": true
    },
    "kernelspec": {
      "name": "python3",
      "display_name": "Python 3"
    },
    "language_info": {
      "name": "python"
    }
  },
  "cells": [
    {
      "cell_type": "markdown",
      "metadata": {
        "id": "view-in-github",
        "colab_type": "text"
      },
      "source": [
        "<a href=\"https://colab.research.google.com/github/Sylver640/ADA-Informes/blob/main/Informe_CutRod.ipynb\" target=\"_parent\"><img src=\"https://colab.research.google.com/assets/colab-badge.svg\" alt=\"Open In Colab\"/></a>"
      ]
    },
    {
      "cell_type": "markdown",
      "source": [
        "#1. Descripción del problema (corte de varillas)\n",
        "**Entrada:** Largo de varilla $n$, vector de precios por cada medida $i = 1,...,n$.\n",
        "\n",
        "**Salida:** Retorno máximo $r_n$ que se puede obtener cortando la varilla y vendiendo las partes.\n",
        "\n",
        "Porque también los algoritmos pueden solucionar situaciones de la cotidianidad, en esta ocasión supongamos que tenemos una compañía que vende **varillas de metal**. Para ello compramos varillas largas y cortas, que luego se cortan en varillas aún más pequeñas, cada medida teniendo su propio valor, tal como se ve en la siguiente tabla de ejemplo:\n",
        "\n",
        "![image](https://chartreuse-goal-d5c.notion.site/image/https%3A%2F%2Fs3-us-west-2.amazonaws.com%2Fsecure.notion-static.com%2F19c92da5-a1d0-4a76-b35c-6ba829aab554%2FUntitled.png?table=block&id=f1440f99-65ce-4bf7-9906-f6980a4b4ae5&spaceId=4f8bebe4-a843-44d2-b6ee-51e2006a90d1&width=1010&userId=&cache=v2)\n",
        "\n",
        "En ella observamos como va variando el valor de cada corte en un rango $i = [1,10]$, naturalmente incrementando mientras mayor sea el tamaño del corte. Con esta información, ahora debemos encontrar cuál es el retorno máximo que podemos obtener cortando dicha varilla.\n",
        "\n",
        "![image](https://i.imgur.com/eTMXAYG.gif)\n",
        "\n",
        "Veremos cómo esto es posible con una forma de programar un tanto interesante: **la programación dinámica**. Este paradigma, al igual que \"divide y vencerás\", se encargan de resolver el problema combinando las soluciones de cada sub-problema. Sin embargo, algo que diferencia a la primera de esta última es que solo se aplica cuando se **comparten los subsubproblemas**, calculando cada uno tan solo una vez y guardar su solución en una \"tabla\", lo cual nos evitaría hacer trabajo redundante. En el caso de nuestro problema, observamos que esto sí sucede, puesto que necesitamos el valor previo a la longitud que estamos analizando en dicho momento."
      ],
      "metadata": {
        "id": "QK445Ytah4c8"
      }
    },
    {
      "cell_type": "markdown",
      "source": [
        "#2. Problema del corte de varilla"
      ],
      "metadata": {
        "id": "DQHA6bA9LDO7"
      }
    },
    {
      "cell_type": "markdown",
      "source": [
        "##2.1 Código\n",
        "A continuación, se muestra la implementación del algoritmo que soluciona el problema indicado de dos maneras: recursiva (**Naive Implementation**) y por medio de programación dinámica (**acercamiento bottom-up**)."
      ],
      "metadata": {
        "id": "WtOhVCqnM8ir"
      }
    },
    {
      "cell_type": "code",
      "execution_count": 315,
      "metadata": {
        "id": "UVoO-up5hYDT",
        "colab": {
          "base_uri": "https://localhost:8080/"
        },
        "outputId": "c6764dde-f917-40cc-af83-b2a6ff6fc697"
      },
      "outputs": [
        {
          "output_type": "stream",
          "name": "stdout",
          "text": [
            "\u001b[1m\u001b[33mArreglo de precios: [0, 9, 15, 15, 22, 26, 26, 33]\u001b[0m\n",
            "Largo de varilla: 2\u001b[0m\n",
            "Implementación utilizada: Naive Implementation (recursiva)\n",
            "# Comparaciones = 3\n",
            "\u001b[1m\u001b[33m\n",
            "Retorno máximo: 9\u001b[0m\n",
            "Cantidad de cortes necesarios: [1, 2]\u001b[0m\n"
          ]
        }
      ],
      "source": [
        "import random\n",
        "from termcolor import cprint\n",
        "\n",
        "comparisons = 0\n",
        "s_recursivo = []\n",
        "subproblems = 0\n",
        "\n",
        "#Función que retorna el máximo de dos números\n",
        "def findMax(a,b):\n",
        "  if a > b:\n",
        "    return a\n",
        "  else:\n",
        "    return b\n",
        "\n",
        "#Implementación recursiva del algoritmo\n",
        "def cutRod_naiveImplementation(prices, n, verbose):\n",
        "  #Se llaman a las variables globales\n",
        "  global comparisons\n",
        "  global necessaryCuts\n",
        "  #Se retorna el caso base, es decir, si la longitud del arreglo recibido es menor o igual a 0\n",
        "  if (n <= 0):\n",
        "    if verbose == True: print(\"Se retorna caso base (longitud n = 0)\")\n",
        "    return 0\n",
        "  \n",
        "  q = -9999999 #Se define a q como un número muy pequeño para encontrar el máximo con más \"facilidad\"\n",
        "\n",
        "  #Se entra en el ciclo para recorrer todo el arreglo\n",
        "  for i in range(1, n+1):\n",
        "    if verbose == True:\n",
        "      print(f\"i = {i}\")\n",
        "      print(f\"Longitud actual: {n}\")\n",
        "      print(f\"Longitud para la recursión siguiente: {n-i}\")\n",
        "    #Se calcula el coste en aquella iteración, que es igual a la suma entre precios[i] y una llamada recursiva a la función con tal de\n",
        "    #calcular nuevamente los subproblemas anteriores.\n",
        "    cost = prices[i-1] + naiveImplementation(prices, n - i, verbose)\n",
        "    if (cost > q): #Si este valor es mayor a q, éste será ahora nuestro nuevo retorno máximo\n",
        "      q = cost\n",
        "      if verbose == True: print(f\"Se encontró un nuevo valor máximo! = {q}\")\n",
        "      s_recursivo.append(i)\n",
        "      comparisons+=1\n",
        "  \n",
        "  if verbose == True: print(f\"Valor máximo final para la llamada actual: {q}\")\n",
        "\n",
        "  return q #Se retorna el retorno máximo encontrado\n",
        "\n",
        "#Implementación por medio de programación dinámica\n",
        "def cutRod_bottomUpImplementation(prices, n, verbose):\n",
        "  #Llamada a variable global\n",
        "  global subproblems\n",
        "  r = [None]*(n+1) #Arreglo que guardará los retornos máximos anteriores al momento de cada iteración\n",
        "  r[0] = 0 #El precio de la longitud 0 se define como $0\n",
        "  if verbose == True:\n",
        "    print(\"Antes de cualquier iteración:\")\n",
        "    print(f\"Arreglo de retornos máximos previos: {r}\\n\")\n",
        "\n",
        "  s = [None]*(n+1) #Arreglo que va guardando los mejores cortes para la solución\n",
        "  \n",
        "  #Se va recorriendo el arreglo de precios en busca del retorno máximo. En cada iteración se busca\n",
        "  #una solución para un subproblema que no haya sido resuelto, lo que será agregado al arreglo r\n",
        "  if verbose == True: print(\"Comenzamos a iterar...\")\n",
        "  for j in range(1, n+1): #Ciclo que recorre todo el arreglo de precios, comenzando desde la posición 1\n",
        "    if verbose == True: print(f\"j = {j}\")\n",
        "    q = -99999 #Inicializamos el valor q en un valor muy pequeño\n",
        "    if verbose == True: print(f\"q antes de entrar al segundo for = {q}\")\n",
        "    for i in range(1, j+1): #Ciclo que encuentra el retorno máximo para la longitud j\n",
        "      if verbose == True: \n",
        "        print(f\"\\nSe comienza a buscar r[{i}]\")\n",
        "        print(f\"Cantidad de cortes a analizar: {i-1}, {j-i}\")\n",
        "        print(f\"Retorno máximo a comparar: {prices[i-1] + r[j-i]}\")\n",
        "      if (q < prices[i-1] + r[j-i]):\n",
        "        #Si vemos que q es menor al valor entregado por la suma entre precios[i-1] y la posición [j-i] de r,\n",
        "        #q será este valor\n",
        "        q = prices[i-1] + r[j-i]\n",
        "        print(f\"q es mayor! Retorno máximo para r[{i}]: {q}\")\n",
        "        subproblems+=1\n",
        "        s[j] = i\n",
        "      else:\n",
        "        if verbose == True:\n",
        "          print(\"q es menor o igual!\")\n",
        "    r[j] = q #Se guarda la nueva solución al subproblema recién revisado, con lo cual podrá ser reutilizado en la siguiente iteración\n",
        "    if verbose == True: print(f\"Retorno máximo final para r[{j}]: {q}\")\n",
        "  \n",
        "  if verbose == True: print(f\"Retorno máximo encontrado: {r[n]}\")\n",
        "  return r[n], s #Finalmente se retorna el retorno máximo y el arreglo de cortes\n",
        "\n",
        "#Función que se encarga de generar instancias de precios para ser utilizados en cada implementación\n",
        "def cutrod_instance_generator(N):\n",
        "  A = []\n",
        "  prev = 0\n",
        "  for i in range(1,N):\n",
        "    r=random.randint(0,10)\n",
        "    A.append(prev+r)\n",
        "    prev+=r\n",
        "  return A\n",
        "\n",
        "#Ejemplo\n",
        "opt = random.randint(1,2)\n",
        "len = random.randint(6,10)\n",
        "prices = cutrod_instance_generator(len)\n",
        "n = random.randint(2,len-1)\n",
        "cprint(f\"Arreglo de precios: {prices}\", 'yellow', attrs=[\"bold\"])\n",
        "cprint(f\"Largo de varilla: {n}\")\n",
        "if opt == 1:\n",
        "  print(\"Implementación utilizada: Naive Implementation (recursiva)\")\n",
        "  max = cutRod_naiveImplementation(prices, n, verbose = False)\n",
        "  print(f\"# Comparaciones = {comparisons}\")\n",
        "if opt == 2:\n",
        "  print(\"Implementación utilizada: Bottom-Up (programación dinámica)\")\n",
        "  max, cortes = cutRod_bottomUpImplementation(prices, n, verbose = False)\n",
        "  print(f\"# Subproblemas solucionados = {subproblems}\")\n",
        "\n",
        "cprint(f\"\\nRetorno máximo: {max}\", 'yellow', attrs=[\"bold\"])\n",
        "if opt == 1:\n",
        "  cprint(f\"Cantidad de cortes necesarios: {s_recursivo[1:n+1]}\")\n",
        "if opt == 2:\n",
        "  cprint(f\"Cantidad de cortes necesarios: {cortes[1:n+1]}\")"
      ]
    },
    {
      "cell_type": "markdown",
      "source": [
        "##2.2 Descripción del algoritmo\n",
        "Tal como se fue mencionado anteriormente, existe más de una forma para solucionar este problema. En nuestro caso, se implementó una solución de dos formas distintas, que se explicarán a continuacion.\n",
        "\n",
        "###Implementación ingenua\n",
        "Este método se llama recursivamente solo una vez. Recibe un arreglo o lista de $i$ elementos, o en este caso, precios, y la longitud $n$ de la varilla a cortar. En general, los pasos que sigue esta solución es la siguiente:\n",
        "1. Recibe los datos requeridos. Si $n$ es menor o igual a $0$, retornamos de inmediato este dato. Éste será nuestro caso base.\n",
        "2. Se crea una variable $q$ que irá almacenando los máximos retornos que se vayan encontrando en cada llamada recursiva.\n",
        "3. Luego, recorremos todo el arreglo de precios y en cada posición buscamos cuál es el mayor retorno en dicha iteración. Sin embargo, en vez de buscar en algún dato anterior o similar, comparamos $q$ con el precio del corte en esa posición más una llamada recursiva a la función ($cost$), la cual calculará cada máximo retorno anterior de cada posición. Si $q$ es menor al valor retornado, entonces $q = cost$.\n",
        "4. Finalmente, tan solo retornamos el máximo retorno encontrado.\n",
        "\n",
        "###Acercamiento bottom-up\n",
        "Al igual que lo descrito anteriormente, se recibe un arreglo o lista que contiene $i$ precios para cada corte, y una longitud $n$ correspondiente a la varilla que deseamos cortar. Puesto que aquí trabajamos bajo el paradigma de la **programación dinámica**, antes de explicar cómo funciona, podemos definir la subestructura óptima del problema. \n",
        "\n",
        "Primero, podemos descubrir como nuestra solución óptima, definida por un retorno máximo $r_n$, puede estar dada ya sea por el precio de la varilla completa, o de una subvarilla de precio $p_i$ más el retorno máximo de toda la varilla restante\n",
        "\n",
        "![image](https://docs.google.com/drawings/d/e/2PACX-1vS1PepvvczFdDNgTY9wP-LyEi5-n8mfg1q1xHeb6ycteXqI0N9vmGjkGG3PI3595JDBChGJeYrVGYP7/pub?w=785&h=407)\n",
        "\n",
        "Como vemos que este corte es óptimo, en definitiva cada subproblema siguiente, cada uno muy similar al anterior, se verá definida por este valor que nos devolverá la siguiente **función recursiva**:\n",
        "$r_n=\\max\\limits_{i=1..n}(p_i+r_{n-i})$, donde $n$ es la longitud máxima de la varilla, $p_i$ el valor del corte encontrado, y $r_{n-i}$ el retorno máximo del valor anterior. Y por último, y que es lo que diferencia a la variable recursiva, es que el **acercamiento bottom-up** guarda los subproblemas anteriores para luego utilizarlos con más facilidad en los casos posteriores. No así la implementación anterior, donde un subproblema se resolvía muchas veces, lo que ya nos entrega una pista de su posible ineficiencia.\n",
        "\n",
        "Ahora bien, conociendo esta información, podemos describir el funcionamiento de esta implementación de la siguiente forma:\n",
        "1. Se crea un nuevo arreglo $r$ que guardará cada nuevo retorno máximo encontrado en cada iteración. Puesto que un corte inexistente tiene un retorno máximo de 0, se define $r[0] = 0$.\n",
        "2. Luego, se recorre el arreglo de precios desde la posición $1$ hasta $n$, en donde además se recorre un subarreglo $[1,...,i]$, instancia en la cual se irá comparando el valor $q$ con $prices[i]$ más un valor anterior del arreglo que almacena los retornos, en donde el mayor se guardará en la posición $r[j]$.\n",
        "3. Finalmente, se retorna la $n$-ésima posición del arreglo $r$, en donde se encontrará el máximo retorno encontrado para dicha longitud.\n",
        "\n",
        "Para ver paso a paso lo que sucede en cada implementación del algoritmo, `verbose` debe ser igual a `True`."
      ],
      "metadata": {
        "id": "l8CceAmZFpx4"
      }
    },
    {
      "cell_type": "markdown",
      "source": [
        "##2.3 Ejemplo\n",
        "En esta demostración, consideraremos la implementación por programación dinámica, la cual, aunque tiene sus diferencias con la recursiva, finalmente como se observó anteriormente el procedimiento será similar, con la excepción de buscar las soluciones a los subproblemas previos, donde gracias al **acercamiento bottom-up** nos ahorramos resolver muchas veces innecesariamente un mismo subproblema. Como arreglo de precios, consideraremos aquel ejemplo visto en la descripción del problema, que sería el siguiente:\n",
        "\n",
        "![image](https://chartreuse-goal-d5c.notion.site/image/https%3A%2F%2Fs3-us-west-2.amazonaws.com%2Fsecure.notion-static.com%2F19c92da5-a1d0-4a76-b35c-6ba829aab554%2FUntitled.png?table=block&id=f1440f99-65ce-4bf7-9906-f6980a4b4ae5&spaceId=4f8bebe4-a843-44d2-b6ee-51e2006a90d1&width=1010&userId=&cache=v2)\n",
        "\n",
        "En él, buscaremos el máximo retorno de una varilla de largo $n = 6$. Comenzamos creando nuestro arreglo $r$ que guardará cada solución a un subproblema anterior. Su longitud será igual a $n$, y su posición $r[0]$ será igual a $0$.\n",
        "\n",
        "$r = [0, (empty), (empty), (empty), (empty), (empty), (empty)]$\n",
        "\n",
        "Ya hecho esto, es posible entrar a buscar nuestro retorno máximo. Iniciamos desde la posición $j = 1$ del primer ciclo, en donde buscaremos $r_1$. Cabe notar que al inicio de cada iteración en $j$ el valor $q$ siempre será igual a $-99999$, por lo que sería redundante mencionarlo en cada paso. Así, para encontrar el primer valor de $r$ observamos lo siguiente:\n",
        "\n",
        "> Calculamos $p[i] + r[j-i]$, donde $i = 1$: $p[1] + r[1-1] = 1 + 0 = 1$ <-> $1 > q$, $q = 1$. Terminan las iteraciones por lo que ahora $r[j] = q$, es decir, $r[1] = 1$.\n",
        "\n",
        "Por lo tanto, luego de la iteración $1$ nuestro arreglo $r$ quedaría de la siguiente manera:\n",
        "\n",
        "$r = [0, 1, (empty), (empty), (empty), (empty), (empty)]$\n",
        "\n",
        "Luego continuamos con $j = 2$, es decir, $r_2$.\n",
        "\n",
        "> $i = 1$: $p[1] + r[2-1] = 1 + 1 = 2$. $2 > q$ <-> $q = 2$\n",
        "\n",
        "> $i = 2$: $p[2] + r[2-2] = 5 + 0 = 5$. $5 > q$ <-> $q = 5$\n",
        "\n",
        "Finalmente, $r_2 = 5$, agregándose al arreglo en cuestión.\n",
        "\n",
        "$r = [0, 1, 5, (empty), (empty), (empty), (empty)]$\n",
        "\n",
        "A continuación, seguimos con $j = 3$, buscando $r_3$.\n",
        "\n",
        "> $i = 1$: $p[1] + r[3-1] = 1 + 5 = 6$. $6 > q$ <-> $q = 6$\n",
        "\n",
        "> $i = 2$: $p[2] + r[3-2] = 5 + 1 = 6$. $6 = q$ <-> $q = 6$\n",
        "\n",
        "> $i = 3$: $p[3] + r[3-3] = 8 + 0 = 8$. $8 > q$ <-> $q = 8$\n",
        "\n",
        "Así, $r_3 = 8$, siendo entonces este el valor de $r[3]$.\n",
        "\n",
        "$r = [0, 1, 5, 8, (empty), (empty), (empty)]$\n",
        "\n",
        "Ahora continuamos con $j = 4$, donde, por consecuente, calcularemos el valor de $r_4$.\n",
        "\n",
        "> $i = 1$: $p[1] + r[4-1] = 1 + 8 = 9$. $9 > q$ <-> $q = 9$\n",
        "\n",
        "> $i = 2$: $p[2] + r[4-2] = 5 + 5 = 10$. $10 > q$ <-> $q = 10$\n",
        "\n",
        "> $i = 3$: $p[3] + r[4-3] = 8 + 1 = 9$. $9 < q$ <-> $q = 10$\n",
        "\n",
        "> $i = 4$: $p[4] + r[3-3] = 9 + 0 = 9$. $9 < q$ <-> $q = 10$\n",
        "\n",
        "Por lo tanto, $r_4 = 10$, es decir, $r[4] = 10$.\n",
        "\n",
        "$r = [0, 1, 5, 8, 10, (empty), (empty)]$\n",
        "\n",
        "Luego observamos el caso si $j = 5$ para calcular $r_5$.\n",
        "\n",
        "> $i = 1$: $p[1] + r[5-1] = 1 + 10 = 11$. $11 > q$ <-> $q = 11$\n",
        "\n",
        "> $i = 2$: $p[2] + r[5-2] = 5 + 8 = 13$. $13 > q$ <-> $q = 13$\n",
        "\n",
        "> $i = 3$: $p[3] + r[5-3] = 8 + 5 = 13$. $13 = q$ <-> $q = 13$\n",
        "\n",
        "> $i = 4$: $p[4] + r[5-4] = 9 + 1 = 10$. $10 < q$ <-> $q = 13$\n",
        "\n",
        "> $i = 5$: $p[5] + r[5-5] = 10 + 0 = 10$. $10 < q$ <-> $q = 13$\n",
        "\n",
        "Por lo que tenemos que, en este caso, $r_5 = 13$, agregándose al arreglo que almacena estos valores.\n",
        "\n",
        "$r = [0, 1, 5, 8, 10, 13, (empty)]$\n",
        "\n",
        "Finalmente, analizamos lo que sucede si $j = 6$, con tal de calcular $r_6$, es decir, el máximo retorno.\n",
        "\n",
        "> $i = 1$: $p[1] + r[6-1] = 1 + 13 = 14$. $14 > q$ <-> $q = 14$\n",
        "\n",
        "> $i = 2$: $p[2] + r[6-2] = 5 + 10 = 15$. $15 > q$ <-> $q = 15$\n",
        "\n",
        "> $i = 3$: $p[3] + r[6-3] = 8 + 8 = 16$. $16 > q$ <-> $q = 16$\n",
        "\n",
        "> $i = 4$: $p[4] + r[6-4] = 9 + 5 = 14$. $14 < q$ <-> $q = 16$\n",
        "\n",
        "> $i = 5$: $p[5] + r[6-5] = 10 + 1 = 11$. $11 < q$ <-> $q = 16$\n",
        "\n",
        "> $i = 6$: $p[6] + r[6-6] = 17 + 0 = 17$. $17 > q$ <-> $q = 17$\n",
        "\n",
        "Por lo tanto, al momento de retornar $r_n$, encontramos que el retorno máximo para una varilla de largo $6$ es de $17$."
      ],
      "metadata": {
        "id": "XXQ8TksvqOov"
      }
    },
    {
      "cell_type": "markdown",
      "source": [
        "##2.4 Ejecución del algoritmo paso a paso (`verbose = True`)"
      ],
      "metadata": {
        "id": "26rL7LquqRh-"
      }
    },
    {
      "cell_type": "code",
      "source": [
        "opt = random.randint(1,2)\n",
        "len = random.randint(3,6)\n",
        "prices = cutrod_instance_generator(len)\n",
        "n = random.randint(2,len-1)\n",
        "\n",
        "cprint(f\"Arreglo de precios: {prices}\", 'yellow', attrs=[\"bold\"])\n",
        "cprint(f\"Largo de varilla: {n}\")\n",
        "\n",
        "if opt == 1:\n",
        "  print(\"Implementación utilizada: Naive Implementation (recursiva)\")\n",
        "  print(\"----------------------------------\")\n",
        "  max = cutRod_naiveImplementation(prices, n, verbose = True)\n",
        "  print(\"----------------------------------\")\n",
        "if opt == 2:\n",
        "  print(\"Implementación utilizada: Bottom-Up (programación dinámica)\")\n",
        "  print(\"----------------------------------\")\n",
        "  max, cortes = cutRod_bottomUpImplementation(prices, n, verbose = True)\n",
        "  print(\"----------------------------------\")\n",
        "\n",
        "cprint(f\"\\nRetorno máximo: {max}\", 'yellow', attrs=[\"bold\"])"
      ],
      "metadata": {
        "id": "BhbLy11Aqar2",
        "colab": {
          "base_uri": "https://localhost:8080/"
        },
        "outputId": "58379ca2-a12a-48fc-d26d-ac378ea27576"
      },
      "execution_count": 316,
      "outputs": [
        {
          "output_type": "stream",
          "name": "stdout",
          "text": [
            "\u001b[1m\u001b[33mArreglo de precios: [8, 17, 22, 24]\u001b[0m\n",
            "Largo de varilla: 2\u001b[0m\n",
            "Implementación utilizada: Naive Implementation (recursiva)\n",
            "----------------------------------\n",
            "i = 1\n",
            "Longitud actual: 2\n",
            "Longitud para la recursión siguiente: 1\n",
            "i = 1\n",
            "Longitud actual: 1\n",
            "Longitud para la recursión siguiente: 0\n",
            "Se retorna caso base (longitud n = 0)\n",
            "Se encontró un nuevo valor máximo! = 8\n",
            "Valor máximo final para la llamada actual: 8\n",
            "Se encontró un nuevo valor máximo! = 16\n",
            "i = 2\n",
            "Longitud actual: 2\n",
            "Longitud para la recursión siguiente: 0\n",
            "Se retorna caso base (longitud n = 0)\n",
            "Se encontró un nuevo valor máximo! = 17\n",
            "Valor máximo final para la llamada actual: 17\n",
            "----------------------------------\n",
            "\u001b[1m\u001b[33m\n",
            "Retorno máximo: 17\u001b[0m\n"
          ]
        }
      ]
    },
    {
      "cell_type": "markdown",
      "source": [
        "#3. Correctitud"
      ],
      "metadata": {
        "id": "OsE0LMwJqd6u"
      }
    },
    {
      "cell_type": "markdown",
      "source": [
        "##3.1 Teorema (correctitud de la función Cut Rod con acercamiento bottom-up)\n",
        "*El algoritmo Cut Rod, implementado por medio de la programación dinámica, recibe un vector de precios $p = [p_1,p_2,p_3,...,p_n]$ y una largo de varilla $n$, retornando el valor máximo $r_n$ de ganancias que se pueden obtener de todas las combinaciones de cortes posibles*."
      ],
      "metadata": {
        "id": "Aj-eEOiH4k6d"
      }
    },
    {
      "cell_type": "markdown",
      "source": [
        "###Prueba del teorema\n",
        "Aún si esta implementación del algoritmo no es explícitamente recursiva, es posible comprobar si es que la solución a nuestro problema es correcto por medio de la **inducción matemática** gracias a la **función recursiva** que está dentro de un ciclo iterativo, el cual busca el máximo valor en una $i$-ésima iteración analizando los casos anteriores, que ya son soluciones de por sí.\n",
        "\n",
        "**Hipótesis:** CutRod retorna el valor máximo $r_n$ de ganancias que se pueden obtener de todas las combinaciones de cortes posibles para una longitud $n$.\n",
        "\n",
        "**Caso base ($n = 0$):** Al ver que nuestra varilla es de largo $0$, esto quiere decir que se tiene el máximo de ganancias para este caso, ya que siempre será el mismo, por ende se retorna este valor. Por lo que $P(0)$ se cumple."
      ],
      "metadata": {
        "id": "DrhEbPyb6O88"
      }
    },
    {
      "cell_type": "markdown",
      "source": [
        "![image.png](data:image/png;base64,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)"
      ],
      "metadata": {
        "id": "IOoBT3jIF8EL"
      }
    },
    {
      "cell_type": "markdown",
      "source": [
        "**Paso inductivo ($m < n$):** Luego de comprobar que el caso base sí cumple nuestra hipótesis, ahora comprobamos aquellos casos donde se hace uso de soluciones anteriores. Dentro del algoritmo podemos observar como éste puede funcionar de dos formas dependiendo de la condicional. Así, tenemos $r[n] = max(p[n], p[i] + r[n-i])$, desde donde pueden surgir dos casos:\n",
        "1. Si $p[n] < p[i] + r[n-i]$, el subproblema r[n-i] ya fue resuelto anteriormente en iteraciones previas, por lo que se retorna el máximo beneficio.\n",
        "2. En caso contrario, si $p[n] > p[i] + r[n-i]$, se retorna el máximo beneficio del precio correspondiente al largo de la varilla completa.\n",
        "\n",
        "Puesto que sabemos que los subproblemas anteriores **siempre serán menores a $n$**, gracias a la inducción matemática podemos afirmar que éstos siempre retornarán el valor máximo correcto correspondiente a su posición.\n",
        "\n",
        "Por lo tanto, y luego de verificar ambos casos como que sí cumplen nuestra hipótesis $P(n)$, es posible afirmar que **CutRod** en su forma de programación dinámica es **correcto**."
      ],
      "metadata": {
        "id": "xnhQURD1FwpS"
      }
    },
    {
      "cell_type": "markdown",
      "source": [
        "#4. Tiempo de ejecución"
      ],
      "metadata": {
        "id": "LlWJIASuqg9d"
      }
    },
    {
      "cell_type": "markdown",
      "source": [
        "#5. Experimentos"
      ],
      "metadata": {
        "id": "phB4iGrwqi_W"
      }
    }
  ]
}