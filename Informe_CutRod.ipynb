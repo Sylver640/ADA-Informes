{
  "nbformat": 4,
  "nbformat_minor": 0,
  "metadata": {
    "colab": {
      "provenance": [],
      "collapsed_sections": [],
      "authorship_tag": "ABX9TyPMv3NV3L1vvTocENbbecrZ",
      "include_colab_link": true
    },
    "kernelspec": {
      "name": "python3",
      "display_name": "Python 3"
    },
    "language_info": {
      "name": "python"
    }
  },
  "cells": [
    {
      "cell_type": "markdown",
      "metadata": {
        "id": "view-in-github",
        "colab_type": "text"
      },
      "source": [
        "<a href=\"https://colab.research.google.com/github/Sylver640/ADA-Informes/blob/main/Informe_CutRod.ipynb\" target=\"_parent\"><img src=\"https://colab.research.google.com/assets/colab-badge.svg\" alt=\"Open In Colab\"/></a>"
      ]
    },
    {
      "cell_type": "markdown",
      "source": [
        "#1. Descripción del problema (corte de varillas)\n",
        "**Entrada:** Largo de varilla $n$, vector de precios por cada medida $i = 1,...,n$.\n",
        "\n",
        "**Salida:** Retorno máximo $r_n$ que se puede obtener cortando la varilla y vendiendo las partes.\n",
        "\n",
        "Porque también los algoritmos pueden solucionar situaciones de la cotidianidad, en esta ocasión supongamos que tenemos una compañía que vende **varillas de metal**. Para ello compramos varillas largas y cortas, que luego se cortan en varillas aún más pequeñas, cada medida teniendo su propio valor, tal como se ve en la siguiente tabla de ejemplo:\n",
        "\n",
        "![image](https://chartreuse-goal-d5c.notion.site/image/https%3A%2F%2Fs3-us-west-2.amazonaws.com%2Fsecure.notion-static.com%2F19c92da5-a1d0-4a76-b35c-6ba829aab554%2FUntitled.png?table=block&id=f1440f99-65ce-4bf7-9906-f6980a4b4ae5&spaceId=4f8bebe4-a843-44d2-b6ee-51e2006a90d1&width=1010&userId=&cache=v2)\n",
        "\n",
        "En ella observamos como va variando el valor de cada corte en un rango $i = [1,10]$, naturalmente incrementando mientras mayor sea el tamaño del corte. Con esta información, ahora debemos encontrar cuál es el retorno máximo que podemos obtener cortando dicha varilla.\n",
        "\n",
        "![image](https://i.imgur.com/eTMXAYG.gif)\n",
        "\n",
        "Veremos cómo esto es posible con una forma de programar un tanto interesante: **la programación dinámica**. Este paradigma, al igual que \"divide y vencerás\", se encargan de resolver el problema combinando las soluciones de cada sub-problema. Sin embargo, algo que diferencia a la primera de esta última es que solo se aplica cuando se **comparten los subsubproblemas**, calculando cada uno tan solo una vez y guardar su solución en una \"tabla\", lo cual nos evitaría hacer trabajo redundante. En el caso de nuestro problema, observamos que esto sí sucede, puesto que necesitamos el valor previo a la longitud que estamos analizando en dicho momento."
      ],
      "metadata": {
        "id": "QK445Ytah4c8"
      }
    },
    {
      "cell_type": "markdown",
      "source": [
        "#2. Problema del corte de varilla"
      ],
      "metadata": {
        "id": "DQHA6bA9LDO7"
      }
    },
    {
      "cell_type": "markdown",
      "source": [
        "##2.1 Código\n",
        "A continuación, se muestra la implementación del algoritmo que soluciona el problema indicado de dos maneras: recursiva (**Naive Implementation**) y por medio de programación dinámica (**acercamiento bottom-up**)."
      ],
      "metadata": {
        "id": "WtOhVCqnM8ir"
      }
    },
    {
      "cell_type": "code",
      "execution_count": 210,
      "metadata": {
        "id": "UVoO-up5hYDT",
        "colab": {
          "base_uri": "https://localhost:8080/"
        },
        "outputId": "b78c7c4d-32af-4c5d-d5fb-11a156ba83b2"
      },
      "outputs": [
        {
          "output_type": "stream",
          "name": "stdout",
          "text": [
            "\u001b[1m\u001b[33mArreglo de precios: [3, 7, 9, 13, 16, 17, 21, 28, 37]\u001b[0m\n",
            "Largo de varilla: 9\u001b[0m\n",
            "Implementación utilizada: Naive Implementation (recursiva)\n",
            "# Comparaciones = 511\n",
            "\u001b[1m\u001b[33m\n",
            "Retorno máximo: 37\u001b[0m\n"
          ]
        }
      ],
      "source": [
        "import random\n",
        "from termcolor import cprint\n",
        "\n",
        "comparisons = 0\n",
        "necessaryCuts = []\n",
        "subproblems = 0\n",
        "\n",
        "#Función que retorna el máximo de dos números\n",
        "def maxSum(a,b):\n",
        "  if a > b:\n",
        "    return a\n",
        "  else:\n",
        "    return b\n",
        "\n",
        "#Implementación recursiva del algoritmo\n",
        "def naiveImplementation(prices, n):\n",
        "  #Se llaman a las variables globales\n",
        "  global comparisons\n",
        "  global necessaryCuts\n",
        "  #Se retorna el caso base, es decir, si la longitud del arreglo recibido es menor o igual a 0\n",
        "  if (n <= 0):\n",
        "    return 0\n",
        "  \n",
        "  maxReturn = -9999999 #Se define a maxReturn como un número muy pequeño para encontrar el máximo con más \"facilidad\"\n",
        "\n",
        "  #Se entra en el ciclo para recorrer todo el arreglo\n",
        "  for i in range(0, n):\n",
        "    #Se busca el valor máximo entre maxReturn y una llamada recursiva a la función\n",
        "    maxReturn = maxSum(maxReturn, prices[i] + naiveImplementation(prices, n - i - 1))\n",
        "    comparisons+=1\n",
        "\n",
        "  return maxReturn #Se retorna el retorno máximo encontrado\n",
        "\n",
        "#Implementación por medio de programación dinámica\n",
        "def bottomUpImplementation(prices, n):\n",
        "  #Llamada a variable global\n",
        "  global subproblems\n",
        "  #Arreglo que guardará los retornos máximos anteriores al momento de cada iteración\n",
        "  maxReturns = [-1]*(n+1)\n",
        "  maxReturns[0] = 0 #El precio de la longitud 0 se define como $0\n",
        "  sizes = [-1] * (n+1) #Arreglo que almacenará los cortes necesarios\n",
        "\n",
        "  #Se va recorriendo \n",
        "  for i in range(1, n+1):\n",
        "    maxReturnValue = -9999999\n",
        "    for j in range(1, i+1):\n",
        "      maxReturnValue = maxSum(maxReturnValue, prices[j] + maxReturns[i-j-1])\n",
        "      sizes[i] = j\n",
        "      subproblems+=1\n",
        "\n",
        "    maxReturns[i] = maxReturnValue\n",
        "  \n",
        "  return maxReturns[n], sizes\n",
        "\n",
        "#Función que se encarga de generar instancias de precios para ser utilizados en cada implementación\n",
        "def cutrod_instance_generator(N):\n",
        "  A = []\n",
        "  prev = 0\n",
        "  for i in range(N):\n",
        "    r=random.randint(0,10)\n",
        "    A.append(prev+r)\n",
        "    prev+=r\n",
        "  return A\n",
        "\n",
        "#Ejemplo\n",
        "opt = random.randint(1,2)\n",
        "len = random.randint(6,10)\n",
        "prices = cutrod_instance_generator(len)\n",
        "n = random.randint(1,len)\n",
        "cprint(f\"Arreglo de precios: {prices}\", 'yellow', attrs=[\"bold\"])\n",
        "cprint(f\"Largo de varilla: {n}\")\n",
        "if opt == 1:\n",
        "  print(\"Implementación utilizada: Naive Implementation (recursiva)\")\n",
        "  max = naiveImplementation(prices, n)\n",
        "  print(f\"# Comparaciones = {comparisons}\")\n",
        "if opt == 2:\n",
        "  print(\"Implementación utilizada: Bottom-Up (programación dinámica)\")\n",
        "  max, cortes = bottomUpImplementation(prices, n)\n",
        "  print(f\"# Subproblemas solucionados = {subproblems}\")\n",
        "\n",
        "cprint(f\"\\nRetorno máximo: {max}\", 'yellow', attrs=[\"bold\"])\n",
        "if opt == 2:\n",
        "  cprint(f\"Cantidad de cortes necesarios: {cortes[n]}\")"
      ]
    },
    {
      "cell_type": "markdown",
      "source": [
        "##2.2 Descripción del algoritmo\n",
        "Tal como se fue mencionado anteriormente, existe más de una forma para solucionar este problema. En nuestro caso, se implementó una solución de dos formas distintas, que se explicarán a continuacion:\n",
        "1. Implementación ingenua (recursiva)"
      ],
      "metadata": {
        "id": "l8CceAmZFpx4"
      }
    }
  ]
}