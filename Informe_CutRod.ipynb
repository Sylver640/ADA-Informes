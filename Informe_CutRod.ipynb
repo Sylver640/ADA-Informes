{
  "nbformat": 4,
  "nbformat_minor": 0,
  "metadata": {
    "colab": {
      "provenance": [],
      "collapsed_sections": [],
      "authorship_tag": "ABX9TyOhtgcJgL6I6mtnLYNyvosb",
      "include_colab_link": true
    },
    "kernelspec": {
      "name": "python3",
      "display_name": "Python 3"
    },
    "language_info": {
      "name": "python"
    }
  },
  "cells": [
    {
      "cell_type": "markdown",
      "metadata": {
        "id": "view-in-github",
        "colab_type": "text"
      },
      "source": [
        "<a href=\"https://colab.research.google.com/github/Sylver640/ADA-Informes/blob/main/Informe_CutRod.ipynb\" target=\"_parent\"><img src=\"https://colab.research.google.com/assets/colab-badge.svg\" alt=\"Open In Colab\"/></a>"
      ]
    },
    {
      "cell_type": "markdown",
      "source": [
        "#1. Descripción del problema (corte de varillas)\n",
        "**Entrada:** Largo de varilla $n$, vector de precios por cada medida $i = 1,...,n$.\n",
        "\n",
        "**Salida:** Retorno máximo $r_n$ que se puede obtener cortando la varilla y vendiendo las partes.\n",
        "\n",
        "Porque también los algoritmos pueden solucionar situaciones de la cotidianidad, en esta ocasión supongamos que tenemos una compañía que vende **varillas de metal**. Para ello compramos varillas largas y cortas, que luego se cortan en varillas aún más pequeñas, cada medida teniendo su propio valor, tal como se ve en la siguiente tabla de ejemplo:\n",
        "\n",
        "![image](https://chartreuse-goal-d5c.notion.site/image/https%3A%2F%2Fs3-us-west-2.amazonaws.com%2Fsecure.notion-static.com%2F19c92da5-a1d0-4a76-b35c-6ba829aab554%2FUntitled.png?table=block&id=f1440f99-65ce-4bf7-9906-f6980a4b4ae5&spaceId=4f8bebe4-a843-44d2-b6ee-51e2006a90d1&width=1010&userId=&cache=v2)\n",
        "\n",
        "En ella observamos como va variando el valor de cada corte en un rango $i = [1,10]$, naturalmente incrementando mientras mayor sea el tamaño del corte. Con esta información, ahora debemos encontrar cuál es el retorno máximo que podemos obtener cortando dicha varilla.\n",
        "\n",
        "![image](https://i.imgur.com/eTMXAYG.gif)\n",
        "\n",
        "Veremos cómo esto es posible con una forma de programar un tanto interesante: **la programación dinámica**. Este paradigma, al igual que \"divide y vencerás\", se encargan de resolver el problema combinando las soluciones de cada sub-problema. Sin embargo, algo que diferencia a la primera de esta última es que solo se aplica cuando se **comparten los subsubproblemas**, calculando cada uno tan solo una vez y guardar su solución en una \"tabla\", lo cual nos evitaría hacer trabajo redundante. En el caso de nuestro problema, observamos que esto sí sucede, puesto que necesitamos el valor previo a la longitud que estamos analizando en dicho momento."
      ],
      "metadata": {
        "id": "QK445Ytah4c8"
      }
    },
    {
      "cell_type": "markdown",
      "source": [
        "#2. Problema del corte de varilla"
      ],
      "metadata": {
        "id": "DQHA6bA9LDO7"
      }
    },
    {
      "cell_type": "markdown",
      "source": [
        "##2.1 Código\n",
        "A continuación, se muestra la implementación del algoritmo que soluciona el problema indicado de dos maneras: recursiva (**Naive Implementation**) y por medio de programación dinámica (**acercamiento bottom-up**)."
      ],
      "metadata": {
        "id": "WtOhVCqnM8ir"
      }
    },
    {
      "cell_type": "code",
      "execution_count": 259,
      "metadata": {
        "id": "UVoO-up5hYDT",
        "colab": {
          "base_uri": "https://localhost:8080/"
        },
        "outputId": "6250cd83-ef9d-4ba6-d3a7-c92595dbfcc7"
      },
      "outputs": [
        {
          "output_type": "stream",
          "name": "stdout",
          "text": [
            "\u001b[1m\u001b[33mArreglo de precios: [4, 9, 13, 18, 18, 24, 32, 41]\u001b[0m\n",
            "Largo de varilla: 8\u001b[0m\n",
            "Implementación utilizada: Naive Implementation (recursiva)\n",
            "# Comparaciones = 172\n",
            "\u001b[1m\u001b[33m\n",
            "Retorno máximo: 41\u001b[0m\n",
            "Cantidad de cortes necesarios: [1, 2, 1, 1, 1, 1, 1, 2]\u001b[0m\n"
          ]
        }
      ],
      "source": [
        "import random\n",
        "from termcolor import cprint\n",
        "\n",
        "comparisons = 0\n",
        "s_recursivo = []\n",
        "subproblems = 0\n",
        "\n",
        "#Función que retorna el máximo de dos números\n",
        "def findMax(a,b):\n",
        "  if a > b:\n",
        "    return a\n",
        "  else:\n",
        "    return b\n",
        "\n",
        "#Implementación recursiva del algoritmo\n",
        "def naiveImplementation(prices, n, verbose):\n",
        "  #Se llaman a las variables globales\n",
        "  global comparisons\n",
        "  global necessaryCuts\n",
        "  #Se retorna el caso base, es decir, si la longitud del arreglo recibido es menor o igual a 0\n",
        "  if (n <= 0):\n",
        "    return 0\n",
        "  \n",
        "  q = -9999999 #Se define a q como un número muy pequeño para encontrar el máximo con más \"facilidad\"\n",
        "\n",
        "  #Se entra en el ciclo para recorrer todo el arreglo\n",
        "  for i in range(1, n+1):\n",
        "    #Se calcula el coste en aquella iteración, que es igual a la suma entre precios[i] y una llamada recursiva a la función con tal de\n",
        "    #calcular nuevamente los subproblemas anteriores.\n",
        "    cost = prices[i-1] + naiveImplementation(prices, n - i, verbose)\n",
        "    if (cost > q): #Si este valor es mayor a q, éste será ahora nuestro nuevo retorno máximo\n",
        "      q = cost\n",
        "      s_recursivo.append(i)\n",
        "      comparisons+=1\n",
        "\n",
        "  return q #Se retorna el retorno máximo encontrado\n",
        "\n",
        "#Implementación por medio de programación dinámica\n",
        "def bottomUpImplementation(prices, n, verbose):\n",
        "  #Llamada a variable global\n",
        "  global subproblems\n",
        "  r = [None]*(n+1) #Arreglo que guardará los retornos máximos anteriores al momento de cada iteración\n",
        "  r[0] = 0 #El precio de la longitud 0 se define como $0\n",
        "  s = [None]*(n+1) #Arreglo que va guardando los mejores cortes para la solución\n",
        "  \n",
        "  #Se va recorriendo el arreglo de precios en busca del retorno máximo. En cada iteración se busca\n",
        "  #una solución para un subproblema que no haya sido resuelto, lo que será agregado al arreglo r\n",
        "  for j in range(1, n+1): #Ciclo que recorre todo el arreglo de precios, comenzando desde la posición 1\n",
        "    q = -99999 #Inicializamos el valor q en un valor muy pequeño\n",
        "    for i in range(1, j+1): #Ciclo que encuentra el retorno máximo para la longitud j\n",
        "      if (q < prices[i-1] + r[j-i]):\n",
        "        #Si vemos que q es menor al valor entregado por la suma entre precios[i-1] y la posición [j-i] de r,\n",
        "        #q será este valor\n",
        "        q = prices[i-1] + r[j-i]\n",
        "        subproblems+=1\n",
        "        s[j] = i\n",
        "    r[j] = q #Se guarda la nueva solución al subproblema recién revisado, con lo cual podrá ser reutilizado en la siguiente iteración\n",
        "  \n",
        "  return r[n], s #Finalmente se retorna el retorno máximo y el arreglo de cortes\n",
        "\n",
        "#Función que se encarga de generar instancias de precios para ser utilizados en cada implementación\n",
        "def cutrod_instance_generator(N):\n",
        "  A = []\n",
        "  prev = 0\n",
        "  for i in range(1,N):\n",
        "    r=random.randint(0,10)\n",
        "    A.append(prev+r)\n",
        "    prev+=r\n",
        "  return A\n",
        "\n",
        "#Ejemplo\n",
        "opt = random.randint(1,2)\n",
        "len = random.randint(6,10)\n",
        "prices = cutrod_instance_generator(len)\n",
        "n = random.randint(2,len-1)\n",
        "cprint(f\"Arreglo de precios: {prices}\", 'yellow', attrs=[\"bold\"])\n",
        "cprint(f\"Largo de varilla: {n}\")\n",
        "if opt == 1:\n",
        "  print(\"Implementación utilizada: Naive Implementation (recursiva)\")\n",
        "  max = naiveImplementation(prices, n, verbose = False)\n",
        "  print(f\"# Comparaciones = {comparisons}\")\n",
        "if opt == 2:\n",
        "  print(\"Implementación utilizada: Bottom-Up (programación dinámica)\")\n",
        "  max, cortes = bottomUpImplementation(prices, n, verbose = False)\n",
        "  print(f\"# Subproblemas solucionados = {subproblems}\")\n",
        "\n",
        "cprint(f\"\\nRetorno máximo: {max}\", 'yellow', attrs=[\"bold\"])\n",
        "if opt == 1:\n",
        "  cprint(f\"Cantidad de cortes necesarios: {s_recursivo[1:n+1]}\")\n",
        "if opt == 2:\n",
        "  cprint(f\"Cantidad de cortes necesarios: {cortes[1:n+1]}\")"
      ]
    },
    {
      "cell_type": "markdown",
      "source": [
        "##2.2 Descripción del algoritmo\n",
        "Tal como se fue mencionado anteriormente, existe más de una forma para solucionar este problema. En nuestro caso, se implementó una solución de dos formas distintas, que se explicarán a continuacion.\n",
        "\n",
        "###Implementación ingenua\n",
        "Este método se llama recursivamente solo una vez. Recibe un arreglo o lista de $i$ elementos, o en este caso, precios, y la longitud $n$ de la varilla a cortar. En general, los pasos que sigue esta solución es la siguiente:\n",
        "1. Recibe los datos requeridos. Si $n$ es menor o igual a $0$, retornamos de inmediato este dato. Éste será nuestro caso base.\n",
        "2. Se crea una variable $q$ que irá almacenando los máximos retornos que se vayan encontrando en cada llamada recursiva.\n",
        "3. Luego, recorremos todo el arreglo de precios y en cada posición buscamos cuál es el mayor retorno en dicha iteración. Sin embargo, en vez de buscar en algún dato anterior o similar, comparamos $q$ con el precio del corte en esa posición más una llamada recursiva a la función ($cost$), la cual calculará cada máximo retorno anterior de cada posición. Si $q$ es menor al valor retornado, entonces $q = cost$.\n",
        "4. Finalmente, tan solo retornamos el máximo retorno encontrado.\n",
        "\n",
        "###Acercamiento bottom-up\n",
        "Al igual que lo descrito anteriormente, se recibe un arreglo o lista que contiene $i$ precios para cada corte, y una longitud $n$ correspondiente a la varilla que deseamos cortar. Puesto que aquí trabajamos bajo el paradigma de la **programación dinámica**, antes de explicar cómo funciona, podemos definir la subestructura óptima del problema. \n",
        "\n",
        "Primero, podemos descubrir como nuestra solución óptima, definida por un retorno máximo $r_n$, puede estar dada ya sea por el precio de la varilla completa, o de una subvarilla de precio $p_i$ más el retorno máximo de toda la varilla restante\n",
        "\n",
        "![image](https://docs.google.com/drawings/d/e/2PACX-1vS1PepvvczFdDNgTY9wP-LyEi5-n8mfg1q1xHeb6ycteXqI0N9vmGjkGG3PI3595JDBChGJeYrVGYP7/pub?w=785&h=407)\n",
        "\n",
        "Como vemos que este corte es óptimo, en definitiva cada subproblema siguiente, cada uno muy similar al anterior, se verá definida por este valor que nos devolverá la siguiente **función recursiva**:\n",
        "$r_n=\\max\\limits_{i=1..n}(p_i+r_{n-i})$, donde $n$ es la longitud máxima de la varilla, $p_i$ el valor del corte encontrado, y $r_{n-i}$ el retorno máximo del valor anterior. Y por último, y que es lo que diferencia a la variable recursiva, es que el **acercamiento bottom-up** guarda los subproblemas anteriores para luego utilizarlos con más facilidad en los casos posteriores. No así la implementación anterior, donde un subproblema se resolvía muchas veces, lo que ya nos entrega una pista de su posible ineficiencia.\n",
        "\n",
        "Ahora bien, conociendo esta información, podemos describir el funcionamiento de esta implementación de la siguiente forma:\n",
        "1. Se crea un nuevo arreglo $r$ que guardará cada nuevo retorno máximo encontrado en cada iteración. Puesto que un corte inexistente tiene un retorno máximo de 0, se define $r[0] = 0$.\n",
        "2. Luego, se recorre el arreglo de precios desde la posición $1$ hasta $n$, en donde además se recorre un subarreglo $[1,...,i]$, instancia en la cual se irá comparando el valor $q$ con $prices[i]$ más un valor anterior del arreglo que almacena los retornos, en donde el mayor se guardará en la posición $r[j]$.\n",
        "3. Finalmente, se retorna la $n$-ésima posición del arreglo $r$, en donde se encontrará el máximo retorno encontrado para dicha longitud.\n",
        "\n",
        "Para ver paso a paso lo que sucede en cada implementación del algoritmo, `verbose` debe ser igual a `True`."
      ],
      "metadata": {
        "id": "l8CceAmZFpx4"
      }
    },
    {
      "cell_type": "markdown",
      "source": [
        "##2.3 Ejemplo\n",
        "En esta demostración, consideraremos la implementación por programación dinámica, la cual, aunque tiene sus diferencias con la recursiva, finalmente como se observó anteriormente el procedimiento será similar, con la excepción de buscar las soluciones a los subproblemas previos, donde gracias al **acercamiento bottom-up** nos ahorramos resolver muchas veces innecesariamente un mismo subproblema. Como arreglo de precios, consideraremos aquel ejemplo visto en la descripción del problema, que sería el siguiente:\n",
        "\n",
        "![image](https://chartreuse-goal-d5c.notion.site/image/https%3A%2F%2Fs3-us-west-2.amazonaws.com%2Fsecure.notion-static.com%2F19c92da5-a1d0-4a76-b35c-6ba829aab554%2FUntitled.png?table=block&id=f1440f99-65ce-4bf7-9906-f6980a4b4ae5&spaceId=4f8bebe4-a843-44d2-b6ee-51e2006a90d1&width=1010&userId=&cache=v2)\n",
        "\n",
        "En él, buscaremos el máximo retorno de una varilla de largo $n = 6$. Comenzamos creando nuestro arreglo $r$ que guardará cada solución a un subproblema anterior. Su longitud será igual a $n$, y su posición $r[0]$ será igual a $0$.\n",
        "\n",
        "$r = [0, (empty), (empty), (empty), (empty), (empty), (empty)]$\n",
        "\n",
        "Ya hecho esto, es posible entrar a buscar nuestro retorno máximo. Iniciamos desde la posición $j = 1$ del primer ciclo, en donde buscaremos $r_1$. Cabe notar que al inicio de cada iteración en $j$ el valor $q$ siempre será igual a $-99999$, por lo que sería redundante mencionarlo en cada paso. Así, para encontrar el primer valor de $r$ observamos lo siguiente:\n",
        "\n",
        "> Calculamos $p[i] + r[j-i]$, donde $i = 1$: $p[1] + r[1-1] = 1 + 0 = 1$ <-> $1 > q$, $q = 1$. Terminan las iteraciones por lo que ahora $r[j] = q$, es decir, $r[1] = 1$.\n",
        "\n",
        "Por lo tanto, luego de la iteración $1$ nuestro arreglo $r$ quedaría de la siguiente manera:\n",
        "\n",
        "$r = [0, 1, (empty), (empty), (empty), (empty), (empty)]$\n",
        "\n",
        "Luego continuamos con $j = 2$, es decir, $r_2$.\n",
        "\n",
        "> $i = 1$: $p[1] + r[2-1] = 1 + 1 = 2$. $2 > q$ <-> $q = 2$\n",
        "\n",
        "> $i = 2$: $p[2] + r[2-2] = 5 + 0 = 5$. $5 > q$ <-> $q = 5$\n",
        "\n",
        "Finalmente, $r_2 = 5$, agregándose al arreglo en cuestión.\n",
        "\n",
        "$r = [0, 1, 5, (empty), (empty), (empty), (empty)]$\n",
        "\n",
        "A continuación, seguimos con $j = 3$, buscando $r_3$.\n",
        "\n",
        "> $i = 1$: $p[1] + r[3-1] = 1 + 5 = 6$. $6 > q$ <-> $q = 6$\n",
        "\n",
        "> $i = 2$: $p[2] + r[3-2] = 5 + 1 = 6$. $6 = q$ <-> $q = 6$\n",
        "\n",
        "> $i = 3$: $p[3] + r[3-3] = 8 + 0 = 8$. $8 > q$ <-> $q = 8$\n",
        "\n",
        "Así, $r_3 = 8$, siendo entonces este el valor de $r[3]$.\n",
        "\n",
        "$r = [0, 1, 5, 8, (empty), (empty), (empty)]$\n",
        "\n",
        "Ahora continuamos con $j = 4$, donde, por consecuente, calcularemos el valor de $r_4$.\n",
        "\n",
        "> $i = 1$: $p[1] + r[4-1] = 1 + 8 = 9$. $9 > q$ <-> $q = 9$\n",
        "\n",
        "> $i = 2$: $p[2] + r[4-2] = 5 + 5 = 10$. $10 > q$ <-> $q = 10$\n",
        "\n",
        "> $i = 3$: $p[3] + r[4-3] = 8 + 1 = 9$. $9 < q$ <-> $q = 10$\n",
        "\n",
        "> $i = 4$: $p[4] + r[3-3] = 9 + 0 = 9$. $9 < q$ <-> $q = 10$\n",
        "\n",
        "Por lo tanto, $r_4 = 10$, es decir, $r[4] = 10$.\n",
        "\n",
        "$r = [0, 1, 5, 8, 10, (empty), (empty)]$\n",
        "\n",
        "Luego observamos el caso si $j = 5$ para calcular $r_5$.\n",
        "\n",
        "> $i = 1$: $p[1] + r[5-1] = 1 + 10 = 11$. $11 > q$ <-> $q = 11$\n",
        "\n",
        "> $i = 2$: $p[2] + r[5-2] = 5 + 8 = 13$. $13 > q$ <-> $q = 13$\n",
        "\n",
        "> $i = 3$: $p[3] + r[5-3] = 8 + 5 = 13$. $13 = q$ <-> $q = 13$\n",
        "\n",
        "> $i = 4$: $p[4] + r[5-4] = 9 + 1 = 10$. $10 < q$ <-> $q = 13$\n",
        "\n",
        "> $i = 5$: $p[5] + r[5-5] = 10 + 0 = 10$. $10 < q$ <-> $q = 13$\n",
        "\n",
        "Por lo que tenemos que, en este caso, $r_5 = 13$, agregándose al arreglo que almacena estos valores.\n",
        "\n",
        "$r = [0, 1, 5, 8, 10, 13, (empty)]$\n",
        "\n",
        "Finalmente, analizamos lo que sucede si $j = 6$, con tal de calcular $r_6$, es decir, el máximo retorno.\n",
        "\n",
        "> $i = 1$: $p[1] + r[6-1] = 1 + 13 = 14$. $14 > q$ <-> $q = 14$\n",
        "\n",
        "> $i = 2$: $p[2] + r[6-2] = 5 + 10 = 15$. $15 > q$ <-> $q = 15$\n",
        "\n",
        "> $i = 3$: $p[3] + r[6-3] = 8 + 8 = 16$. $16 > q$ <-> $q = 16$\n",
        "\n",
        "> $i = 4$: $p[4] + r[6-4] = 9 + 5 = 14$. $14 < q$ <-> $q = 16$\n",
        "\n",
        "> $i = 5$: $p[5] + r[6-5] = 10 + 1 = 11$. $11 < q$ <-> $q = 16$\n",
        "\n",
        "> $i = 6$: $p[6] + r[6-6] = 17 + 0 = 17$. $17 > q$ <-> $q = 17$\n",
        "\n",
        "Por lo tanto, al momento de retornar $r_n$, encontramos que el retorno máximo para una varilla de largo $6$ es de $17$."
      ],
      "metadata": {
        "id": "XXQ8TksvqOov"
      }
    },
    {
      "cell_type": "markdown",
      "source": [
        "##2.4 Ejecución del algoritmo paso a paso (`verbose = True`)"
      ],
      "metadata": {
        "id": "26rL7LquqRh-"
      }
    },
    {
      "cell_type": "code",
      "source": [
        "opt = random.randint(1,2)\n",
        "len = random.randint(3,6)\n",
        "prices = cutrod_instance_generator(len)\n",
        "n = random.randint(2,len-1)\n",
        "\n",
        "cprint(f\"Arreglo de precios: {prices}\", 'yellow', attrs=[\"bold\"])\n",
        "cprint(f\"Largo de varilla: {n}\")\n",
        "\n",
        "if opt == 1:\n",
        "  print(\"Implementación utilizada: Naive Implementation (recursiva)\")\n",
        "  print(\"----------------------------------\")\n",
        "  max = naiveImplementation(prices, n, verbose = True)\n",
        "  print(\"----------------------------------\")\n",
        "  print(f\"# Comparaciones = {comparisons}\")\n",
        "if opt == 2:\n",
        "  print(\"Implementación utilizada: Bottom-Up (programación dinámica)\")\n",
        "  print(\"----------------------------------\")\n",
        "  max, cortes = bottomUpImplementation(prices, n, verbose = True)\n",
        "  print(\"----------------------------------\")\n",
        "  print(f\"# Subproblemas solucionados = {subproblems}\")\n",
        "\n",
        "cprint(f\"\\nRetorno máximo: {max}\", 'yellow', attrs=[\"bold\"])"
      ],
      "metadata": {
        "id": "BhbLy11Aqar2",
        "colab": {
          "base_uri": "https://localhost:8080/"
        },
        "outputId": "bf94df37-fed0-48ab-888c-8554d43a4074"
      },
      "execution_count": 242,
      "outputs": [
        {
          "output_type": "stream",
          "name": "stdout",
          "text": [
            "\u001b[1m\u001b[33mArreglo de precios: [7, 16]\u001b[0m\n",
            "Largo de varilla: 2\u001b[0m\n",
            "Implementación utilizada: Naive Implementation (recursiva)\n",
            "----------------------------------\n",
            "----------------------------------\n",
            "# Comparaciones = 8\n",
            "\u001b[1m\u001b[33m\n",
            "Retorno máximo: 16\u001b[0m\n"
          ]
        }
      ]
    },
    {
      "cell_type": "markdown",
      "source": [
        "#3. Correctitud"
      ],
      "metadata": {
        "id": "OsE0LMwJqd6u"
      }
    },
    {
      "cell_type": "markdown",
      "source": [
        "#4. Tiempo de ejecución"
      ],
      "metadata": {
        "id": "LlWJIASuqg9d"
      }
    },
    {
      "cell_type": "markdown",
      "source": [
        "#5. Experimentos"
      ],
      "metadata": {
        "id": "phB4iGrwqi_W"
      }
    }
  ]
}