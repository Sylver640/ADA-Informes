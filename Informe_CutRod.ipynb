{
  "nbformat": 4,
  "nbformat_minor": 0,
  "metadata": {
    "colab": {
      "provenance": [],
      "collapsed_sections": [],
      "authorship_tag": "ABX9TyPMH03O9OovPaDAcIfLg3fa",
      "include_colab_link": true
    },
    "kernelspec": {
      "name": "python3",
      "display_name": "Python 3"
    },
    "language_info": {
      "name": "python"
    }
  },
  "cells": [
    {
      "cell_type": "markdown",
      "metadata": {
        "id": "view-in-github",
        "colab_type": "text"
      },
      "source": [
        "<a href=\"https://colab.research.google.com/github/Sylver640/ADA-Informes/blob/main/Informe_CutRod.ipynb\" target=\"_parent\"><img src=\"https://colab.research.google.com/assets/colab-badge.svg\" alt=\"Open In Colab\"/></a>"
      ]
    },
    {
      "cell_type": "markdown",
      "source": [
        "#1. Descripción del problema (corte de varillas)\n",
        "**Entrada:** Largo de varilla $n$, vector de precios por cada medida $i = 1,...,n$.\n",
        "\n",
        "**Salida:** Retorno máximo $r_n$ que se puede obtener cortando la varilla y vendiendo las partes.\n",
        "\n",
        "Porque también los algoritmos pueden solucionar situaciones de la cotidianidad, en esta ocasión supongamos que tenemos una compañía que vende **varillas de metal**. Para ello compramos varillas largas y cortas, que luego se cortan en varillas aún más pequeñas, cada medida teniendo su propio valor, tal como se ve en la siguiente tabla de ejemplo:\n",
        "\n",
        "![image](https://chartreuse-goal-d5c.notion.site/image/https%3A%2F%2Fs3-us-west-2.amazonaws.com%2Fsecure.notion-static.com%2F19c92da5-a1d0-4a76-b35c-6ba829aab554%2FUntitled.png?table=block&id=f1440f99-65ce-4bf7-9906-f6980a4b4ae5&spaceId=4f8bebe4-a843-44d2-b6ee-51e2006a90d1&width=1010&userId=&cache=v2)\n",
        "\n",
        "En ella observamos como va variando el valor de cada corte en un rango $i = [1,10]$, naturalmente incrementando mientras mayor sea el tamaño del corte. Con esta información, ahora debemos encontrar cuál es el retorno máximo que podemos obtener cortando dicha varilla.\n",
        "\n",
        "![image](https://i.imgur.com/eTMXAYG.gif)\n",
        "\n",
        "Veremos cómo esto es posible con una forma de programar un tanto interesante: **la programación dinámica**. Este paradigma, al igual que \"divide y vencerás\", se encargan de resolver el problema combinando las soluciones de cada sub-problema. Sin embargo, algo que diferencia a la primera de esta última es que solo se aplica cuando se **comparten los subsubproblemas**, calculando cada uno tan solo una vez y guardar su solución en una \"tabla\", lo cual nos evitaría hacer trabajo redundante. En el caso de nuestro problema, observamos que esto sí sucede, puesto que necesitamos el valor previo a la longitud que estamos analizando en dicho momento."
      ],
      "metadata": {
        "id": "QK445Ytah4c8"
      }
    },
    {
      "cell_type": "markdown",
      "source": [
        "#2. Problema del corte de varilla"
      ],
      "metadata": {
        "id": "DQHA6bA9LDO7"
      }
    },
    {
      "cell_type": "markdown",
      "source": [
        "##2.1 Código\n",
        "A continuación, se muestra la implementación del algoritmo que soluciona el problema indicado de dos maneras: recursiva (**Naive Implementation**) y por medio de programación dinámica (**acercamiento bottom-up**)."
      ],
      "metadata": {
        "id": "WtOhVCqnM8ir"
      }
    },
    {
      "cell_type": "code",
      "execution_count": null,
      "metadata": {
        "id": "UVoO-up5hYDT"
      },
      "outputs": [],
      "source": [
        "import random\n",
        "def naiveImplementation():\n",
        "  return\n",
        "\n",
        "def bottomUpImplementation():\n",
        "  return\n",
        "\n",
        "def cutrod_instance_generator(N):\n",
        "  A = []\n",
        "  prev = 0\n",
        "  for i in range(N):\n",
        "    r=random.randint(0,10)\n",
        "    A.append(prev+r)\n",
        "    prev+=r\n",
        "  return A\n",
        "\n",
        "#Ejemplo\n"
      ]
    }
  ]
}