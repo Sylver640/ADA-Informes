{
  "nbformat": 4,
  "nbformat_minor": 0,
  "metadata": {
    "colab": {
      "name": "Informe_MergeSort.ipynb",
      "provenance": [],
      "toc_visible": true,
      "authorship_tag": "ABX9TyNz3eup91kdVkDUPVkHRXzK",
      "include_colab_link": true
    },
    "kernelspec": {
      "name": "python3",
      "display_name": "Python 3"
    },
    "language_info": {
      "name": "python"
    }
  },
  "cells": [
    {
      "cell_type": "markdown",
      "metadata": {
        "id": "view-in-github",
        "colab_type": "text"
      },
      "source": [
        "<a href=\"https://colab.research.google.com/github/Sylver640/ADA-Informes/blob/main/Informe_MergeSort.ipynb\" target=\"_parent\"><img src=\"https://colab.research.google.com/assets/colab-badge.svg\" alt=\"Open In Colab\"/></a>"
      ]
    },
    {
      "cell_type": "markdown",
      "source": [
        "# 1. Descripción del problema\n",
        "\n",
        "**Entrada**: Secuencia de n números $[a_1,a_2,a_3,...,a_n]$.\n",
        "\n",
        "**Salida**: Permutación ordenada de la secuencia inicial: $[a_1',a_2',a_3',...,a_n']$, pero con los valores ordenados tal que $a_1'<=a_2'<=a_3'<=...<=a_n'$.\n",
        "\n",
        "Anteriormente hemos visto como el problema del ordenamiento ha sido abordado de forma iterativa. Es decir, una lista o arreglo de elementos era ordenado mientras se repetía un segmento de código dentro del algoritmo. Sin embargo, aunque este sí da resultados, es posible observar como, a medida que el número de elementos aumenta, el tiempo que se tarda en realizar esta acción es mayor.\n",
        "\n",
        "Pero existe un refrán que se convirtió en un famoso tipo de algoritmo dentro de la informática. **\"Divide y vencerás\"**. Tal como indica, se comenzó a pensar que era mucho mejor dividir nuestro problema en varios subproblemas similares, pero más pequeños, los cuales se solucionan uno por uno, para luego unirlos y obtener una respuesta al original.\n",
        "\n",
        "![image](https://ortizvivas.com/wp-content/uploads/dividir-500x250.jpg)"
      ],
      "metadata": {
        "id": "WbfHcJZPdqW-"
      }
    },
    {
      "cell_type": "markdown",
      "source": [
        "#2. Merge Sort\n",
        "\n",
        "Este algoritmo de ordenamiento fue desarrollado por John Von Neumann en 1945. Es de naturaleza recursiva, es decir, que se llama a sí mismo durante su ejecución."
      ],
      "metadata": {
        "id": "qtfSlXJZgqGc"
      }
    },
    {
      "cell_type": "markdown",
      "source": [
        "##2.1 Código\n",
        "\n",
        "A continuación, el siguiente código muestra una implementación de este."
      ],
      "metadata": {
        "id": "q7B7dJjb1_E5"
      }
    },
    {
      "cell_type": "code",
      "source": [
        "#Creación de variables globales\n",
        "comparisons = 0\n",
        "recursiveCalls = 0\n",
        "\n",
        "def merge(array, left, right, verbose = False):\n",
        "  aux = [] #Arreglo auxiliar\n",
        "  leftPos = 0 #Variable para recorrer arreglo izquierdo\n",
        "  rightPos = 0 #Variable para recorrer arreglo derecho\n",
        "  global comparisons #Se llama a la variable global \"comparisons\"\n",
        "\n",
        "  #Bucle que se detiene cuando un arreglo se termina de recorrer\n",
        "  while(leftPos < len(left) and rightPos < len(right)):\n",
        "    if (left[leftPos] < right[rightPos]): #Se copia un valor del arreglo izquierdo\n",
        "      aux.append(left[leftPos])\n",
        "      leftPos+=1\n",
        "      comparisons+=1\n",
        "    else: #Se copia un valor del arreglo derecho\n",
        "      aux.append(right[rightPos])\n",
        "      rightPos+=1\n",
        "      comparisons+=1\n",
        "  \n",
        "  #Se agregan los números restantes del arreglo izquierdo\n",
        "  while (leftPos < len(left)):\n",
        "    aux.append(left[leftPos])\n",
        "    leftPos+=1\n",
        "\n",
        "  #Se agregan los números restantes del arreglo derecho\n",
        "  while (rightPos < len(right)):\n",
        "    aux.append(right[rightPos])\n",
        "    rightPos+=1\n",
        "  \n",
        "  #Se copian los valores del arreglo auxiliar al original\n",
        "  for i in range(len(aux)):\n",
        "    array[i] = aux[i]\n",
        "\n",
        "def mergeSort(array, verbose = False):\n",
        "  global recursiveCalls #Llamada a variable global\n",
        "  if  array[0] == array[-1]: return #Si el arreglo solo tiene una posición, se retorna inmediatamente\n",
        "\n",
        "  mid = len(array) // 2 #Se define mitad del arreglo\n",
        "  leftArray = array[:mid]\n",
        "  rightArray = array[mid:]\n",
        "  if verbose == True:\n",
        "    print(\"Arreglo izquierdo: \", leftArray)\n",
        "    print(\"Arreglo derecho: \", rightArray)\n",
        "  mergeSort(leftArray)\n",
        "  recursiveCalls+=1\n",
        "  mergeSort(rightArray)\n",
        "  recursiveCalls+=1\n",
        "  merge(array, leftArray, rightArray)\n",
        "\n",
        "#Ejemplo\n",
        "array = [4,5,2,6,3,1]\n",
        "print(\"Input: \", array)\n",
        "mergeSort(array)\n",
        "print(\"Sorted array: \", array)\n",
        "print(\"Comparisons made during execution: \", comparisons)\n",
        "print(\"Recursive calls made: \", recursiveCalls)"
      ],
      "metadata": {
        "colab": {
          "base_uri": "https://localhost:8080/"
        },
        "id": "BqDPBCEVhI6l",
        "outputId": "45e9b26f-9710-4dd0-bd7b-4e45d6d446fe"
      },
      "execution_count": 81,
      "outputs": [
        {
          "output_type": "stream",
          "name": "stdout",
          "text": [
            "Input:  [4, 5, 2, 6, 3, 1]\n",
            "Sorted array:  [1, 2, 3, 4, 5, 6]\n",
            "Comparisons made during execution:  11\n",
            "Recursive calls made:  10\n"
          ]
        }
      ]
    },
    {
      "cell_type": "markdown",
      "source": [
        "##2.2 Descripción del algoritmo\n",
        "\n"
      ],
      "metadata": {
        "id": "yXVj4W7T4iU5"
      }
    },
    {
      "cell_type": "markdown",
      "source": [
        "El algoritmo es del tipo **divide y vencerás**, y tal como fue mencionado anteriormente, es recursivo, llamandose dos veces dentro del programa. Como entrada, recibe una secuencia de $n$ números y retorna esta ordenada de menor a mayor. En general, funciona de la siguiente manera:\n",
        "\n",
        "1. El arreglo se divide en **2** subarreglos, que contienen $n/2$ elementos cada uno.\n",
        "2. Cada subarreglo es ordenada con ayuda de la recursividad.\n",
        "3. Gracias a la función **merge**, estos dos subarreglos se combinan para obtener un arreglo ordenado de $n$ números.\n",
        "\n",
        "Ahora, así funciona **Merge Sort**. Sin embargo, como se puede observar, también actúa otra llamada **merge**, la cual hace lo siguiente:\n",
        "\n",
        "1. Teniendo ambos subarreglos, dentro de un ciclo while se va recorriendo cada uno hasta que cualquiera no tenga más elementos por recorrer.\n",
        "2. Dentro del ciclo, si el elemento $a$ del subarreglo izquierdo es menor a $b$ del subarreglo derecho, el primero se copia en un arreglo auxiliar, y viceversa.\n",
        "3. Si un subarreglo termino antes de tiempo, se ordenan los datos restantes del otro.\n",
        "4. El arreglo auxiliar se copia al arreglo original que recibe la función.\n",
        "\n",
        "![image](http://3.bp.blogspot.com/-vPF0WB9Qjws/Uefj78RAH7I/AAAAAAAABXM/BSBU66QVB6A/s1600/merge+sort+ejemplo.png)"
      ],
      "metadata": {
        "id": "Pq2d_wbX6Ag5"
      }
    }
  ]
}