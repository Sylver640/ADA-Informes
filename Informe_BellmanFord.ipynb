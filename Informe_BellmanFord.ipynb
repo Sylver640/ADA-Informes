{
  "nbformat": 4,
  "nbformat_minor": 0,
  "metadata": {
    "colab": {
      "provenance": [],
      "collapsed_sections": [],
      "authorship_tag": "ABX9TyPYJo6TsFoaRbeNZoQ8Q/MQ",
      "include_colab_link": true
    },
    "kernelspec": {
      "name": "python3",
      "display_name": "Python 3"
    },
    "language_info": {
      "name": "python"
    }
  },
  "cells": [
    {
      "cell_type": "markdown",
      "metadata": {
        "id": "view-in-github",
        "colab_type": "text"
      },
      "source": [
        "<a href=\"https://colab.research.google.com/github/Sylver640/ADA-Informes/blob/main/Informe_BellmanFord.ipynb\" target=\"_parent\"><img src=\"https://colab.research.google.com/assets/colab-badge.svg\" alt=\"Open In Colab\"/></a>"
      ]
    },
    {
      "cell_type": "markdown",
      "source": [
        "#1. Descripción del problema (camino más corto)\n",
        "---\n",
        "**Entrada**: Un grafo dirigido $G=(V,E)$, un vértice fuente $s\\in V$, y un valor real $l_e \\geq 0$ asociado a cada arco $e\\in E$.\n",
        "\n",
        "**Salida**: La distancia más corta $dist(s,v)$ para cada vértice $v\\in V$.\n",
        "\n",
        "----\n",
        "\n",
        "Continuando la linea de problemas clásicos en la teoría de grafos, era imposible dejar fuera al conocido **camino más corto**, en este caso con una fuente única. En términos generales, esta versión del problema tiene como objetivo encontrar la **distancia más corta** entre un vértice inicial o fuente $s$ y todos los nodos del grafo dirigido $G = (V, E)$. Definiremos la distancia o largo de un camino como la suma de sus arcos. \n",
        "\n",
        "Por ejemplo, en el siguiente grafo, las distancias más cortas entre $s$ y el resto de los nodos son: $distancia(s,s)=0$, $distancia(s,v)=1$, $distancia(s,w)=3$ y $distancia(s,t)=6$.\n",
        "\n",
        "![image](https://chartreuse-goal-d5c.notion.site/image/https%3A%2F%2Fs3-us-west-2.amazonaws.com%2Fsecure.notion-static.com%2F9353642d-b383-4a2c-96b0-479eb5240879%2FUntitled.png?table=block&id=0491d913-c844-4de0-a5a4-9b1bfe386320&spaceId=4f8bebe4-a843-44d2-b6ee-51e2006a90d1&width=2000&userId=&cache=v2)\n",
        "\n",
        "Un algoritmo que logra entregar una solución óptima a esta problemática es el conocido **algoritmo de Dijkstra**, el cual es capaz de encontrar la distancia más corta en grafos con solamente arcos positivos. \n",
        "\n",
        "No obstante, esta problemática no se limita a tan solo aplicaciones que sean de esta índole. Por lo tanto, una versión revisada del problema que permita esto tendría las siguientes características:\n",
        "\n",
        "---\n",
        "\n",
        "**Entrada**: Un grafo dirigido $G=(V,E)$, un vértice fuente $s\\in V$, y un valor real $l_e$ asociado a cada arco $e\\in E$.\n",
        "\n",
        "**Salida**: Una de las siguientes opciones:\n",
        "\n",
        "1. La distancia más corta $dist(s,v)$ para cada vértice $v\\in V$.\n",
        "2. Una declaración indicando que $G$ contiene un ciclo negativo.\n",
        "\n",
        "---\n",
        "\n",
        "Así tenemos el mismo problema, el cual nuevamente tiene el objetivo de encontrar el camino más corto desde una fuente única. Esto sobre grafos dirigidos y con arcos **positivos o negativos**. Sin embargo, con algo más de versatilidad tenemos una limitante, y estos son los llamados **ciclos negativos**, los cuales impiden entregar una correcta solución al problema, puesto que podríamos iterar indefinidamente en este ciclo reduciendo infinitamente el largo del camino. En esta versión del problema, un algoritmo capaz de solucionarlo es el **algoritmo de Bellman-Ford**, el cual trabaja bajo el paradigma de la programación dinámica."
      ],
      "metadata": {
        "id": "LOkir68ziKFI"
      }
    },
    {
      "cell_type": "markdown",
      "source": [
        "#2. Algoritmos\n",
        "A continuación, se presentarán las implementaciones de los dos algoritmos mencionados anteriormente: Dijkstra y Bellman-Ford. Para poder trabajar con ellos, se utilizará el generador de instancias propuesto en el siguiente bloque de código, así como también un convertidor de instancias al formato de la librería externa *networkx*, la cual permite ver de forma gráfica cada grafo generado."
      ],
      "metadata": {
        "id": "j8py7Ix8irhr"
      }
    },
    {
      "cell_type": "code",
      "source": [
        "import random\n",
        "import networkx as nx\n",
        "\n",
        "### Generadores de instancia ###\n",
        "\n",
        "def is_valid_edge(generated_edges: dict, i: int, j: int):\n",
        "    return i != j and not generated_edges.get((i, j), None) and not generated_edges.get((j, i), None)\n",
        "\n",
        "def instance_generator_bellman(n: int):\n",
        "    \"\"\"\n",
        "        Input: cantidad de vértices\n",
        "        Output: una lista que contiene todos los arcos y el número del vértice fuente (la función retorna dos variables).\n",
        "        Los arcos vienen en la forma (i, j, weight), donde i es el vértice origen del arco y j el vértice al que apunta el arco, mientras que weight es su peso.\n",
        "    \"\"\"\n",
        "    graph = []\n",
        "    nodes = random.sample(range(0, n), n)\n",
        "    unvisited_nodes = random.sample(range(0, n), n)\n",
        "    \n",
        "    generated_edges = {}\n",
        "    for i in nodes:\n",
        "        rand = random.sample(nodes, random.randint(1, 3))\n",
        "\n",
        "        for j in rand:\n",
        "            edge = (i, j)\n",
        "            edge_with_weight = (i, j, random.randint(1, 100))\n",
        "            \n",
        "            if generated_edges.get((edge[1], edge[0]), None):\n",
        "                continue\n",
        "            \n",
        "            if i == j:\n",
        "                new_vertice = None\n",
        "                iterations = 0\n",
        "                while new_vertice is None and iterations < 250:\n",
        "                    iterations += 1\n",
        "                    number = random.randint(0, n - 1)\n",
        "                    if is_valid_edge(generated_edges, i, number):\n",
        "                        new_vertice = number\n",
        "\n",
        "                if iterations >= 250:\n",
        "                    return instance_generator_bellman(n)\n",
        "                \n",
        "                edge = (i, new_vertice)\n",
        "                edge_with_weight = (i, new_vertice, random.randint(-25, 100)) # -25 y 100 corresponde a los límites de los pesos, puede cambiarlos.\n",
        "            \n",
        "            graph.append(edge_with_weight)\n",
        "            generated_edges[edge] = edge\n",
        "\n",
        "            if edge_with_weight[1] in unvisited_nodes:\n",
        "                unvisited_nodes.remove(edge_with_weight[1])\n",
        "\n",
        "    for i in unvisited_nodes:\n",
        "        valid_edge = False\n",
        "        iterations = 0\n",
        "        while not valid_edge and iterations < 250:\n",
        "            iterations += 1\n",
        "            m = random.randint(0, n - 1)\n",
        "            if is_valid_edge(generated_edges, m, i):\n",
        "                valid_edge = True\n",
        "                edge = (m, i)\n",
        "                edge_with_weight = (m, i, random.randint(-25, 100)) # -25 y 100 corresponde a los límites de los pesos, puede cambiarlos.\n",
        "                graph.append(edge_with_weight)\n",
        "                generated_edges[edge] = edge\n",
        "\n",
        "        if iterations >= 250:\n",
        "            return instance_generator_bellman(n)\n",
        "\n",
        "    return graph, graph[0][0]\n",
        "\n",
        "def instance_generator_dijkstra(n: int):\n",
        "    \"\"\"\n",
        "        Input: cantidad de vértices\n",
        "        Output: una lista que contiene todos los arcos y el número del vértice fuente (la función retorna dos variables).\n",
        "        Los arcos vienen en la forma (i, j, weight), donde i es el vértice origen del arco y j el vértice al que apunta el arco, mientras que weight es su peso.\n",
        "    \"\"\"\n",
        "    graph = []\n",
        "    nodes = random.sample(range(0, n), n)\n",
        "    unvisited_nodes = random.sample(range(0, n), n)\n",
        "    \n",
        "    generated_edges = {}\n",
        "    for i in nodes:\n",
        "        rand = random.sample(nodes, random.randint(1, 3))\n",
        "\n",
        "        for j in rand:\n",
        "            edge = (i, j)\n",
        "            edge_with_weight = (i, j, random.randint(1, 100))\n",
        "            \n",
        "            if generated_edges.get((edge[1], edge[0]), None):\n",
        "                continue\n",
        "            \n",
        "            if i == j:\n",
        "                new_vertice = None\n",
        "                iterations = 0\n",
        "                while new_vertice is None and iterations < 250:\n",
        "                    iterations += 1\n",
        "                    number = random.randint(0, n - 1)\n",
        "                    if is_valid_edge(generated_edges, i, number):\n",
        "                        new_vertice = number\n",
        "\n",
        "                if iterations >= 250:\n",
        "                    return instance_generator_dijkstra(n)\n",
        "                \n",
        "                edge = (i, new_vertice)\n",
        "                edge_with_weight = (i, new_vertice, random.randint(0, 100)) # -25 y 100 corresponde a los límites de los pesos, puede cambiarlos.\n",
        "            \n",
        "            graph.append(edge_with_weight)\n",
        "            generated_edges[edge] = edge\n",
        "\n",
        "            if edge_with_weight[1] in unvisited_nodes:\n",
        "                unvisited_nodes.remove(edge_with_weight[1])\n",
        "\n",
        "    for i in unvisited_nodes:\n",
        "        valid_edge = False\n",
        "        iterations = 0\n",
        "        while not valid_edge and iterations < 250:\n",
        "            iterations += 1\n",
        "            m = random.randint(0, n - 1)\n",
        "            if is_valid_edge(generated_edges, m, i):\n",
        "                valid_edge = True\n",
        "                edge = (m, i)\n",
        "                edge_with_weight = (m, i, random.randint(0, 100)) # -25 y 100 corresponde a los límites de los pesos, puede cambiarlos.\n",
        "                graph.append(edge_with_weight)\n",
        "                generated_edges[edge] = edge\n",
        "\n",
        "        if iterations >= 250:\n",
        "            return instance_generator_dijkstra(n)\n",
        "\n",
        "    return graph, graph[0][0]\n",
        "\n",
        "##Conversión de grafo al formato \"networkx\"##\n",
        "def graph_to_nxdigraph(graph: list, n: int):\n",
        "    \"\"\"\n",
        "        Input: Un grafo en formato list[tuple]. Ej: [(0, 1, 10), (1, 2, 15), (2, 0, 7)].\n",
        "        Output: Un nx.DiGraph de la libreria networkx.\n",
        "    \"\"\"\n",
        "    nxdigraph = nx.DiGraph()\n",
        "    [nxdigraph.add_node(i) for i in range(n)]\n",
        "\n",
        "    for v in graph:\n",
        "        nxdigraph.add_edge(v[0], v[1], weight=v[2])\n",
        "\n",
        "    return nxdigraph"
      ],
      "metadata": {
        "id": "UWlYJHvggmYA"
      },
      "execution_count": 182,
      "outputs": []
    },
    {
      "cell_type": "markdown",
      "source": [
        "##2.1 Algoritmo de Dijkstra\n",
        "También llamado \"algoritmo de caminos mínimos\", éste fue concebido por el científico en computación Edsger Dijkstra en 1956, y publicado en 1959. Soluciona la primera versión del problema, es decir, solo trabaja con arcos positivos."
      ],
      "metadata": {
        "id": "GGJqVdq0iNVn"
      }
    },
    {
      "cell_type": "code",
      "execution_count": 209,
      "metadata": {
        "colab": {
          "base_uri": "https://localhost:8080/"
        },
        "id": "fXIfYlOvgHPX",
        "outputId": "fb6ebbfc-2ff7-421d-fc24-b91caaa0ea36"
      },
      "outputs": [
        {
          "output_type": "stream",
          "name": "stdout",
          "text": [
            "Dijkstra: [(3, 4, 100), (0, 11, 43), (0, 7, 2), (9, 6, 12), (14, 13, 1), (2, 15, 63), (2, 4, 8), (6, 7, 97), (6, 15, 74), (6, 10, 59), (4, 16, 90), (4, 0, 42), (7, 5, 92), (12, 9, 76), (12, 0, 84), (12, 16, 26), (1, 6, 64), (1, 8, 50), (8, 11, 11), (5, 10, 88), (5, 16, 27), (5, 12, 32), (13, 16, 54), (13, 6, 4), (11, 7, 63), (10, 3, 30), (16, 11, 22), (9, 1, 78), (9, 14, 65), (12, 2, 82)]\n",
            "Fuente: 3\n"
          ]
        },
        {
          "output_type": "execute_result",
          "data": {
            "text/plain": [
              "0"
            ]
          },
          "metadata": {},
          "execution_count": 209
        }
      ],
      "source": [
        "from termcolor import cprint\n",
        "\n",
        "def dijkstraAlgorithm(G, s, nodos, verbose, visualize):\n",
        "  distancias = [1e7] * len(G)\n",
        "  distancias[s] = 0\n",
        "\n",
        "  if visualize == True:\n",
        "    G_to_networkx = graph_to_nxdigraph(G, nodos) #Se transforma nuestro grafo a uno compatible con la libreria networkx\n",
        "    pos=nx.spring_layout(G_to_networkx)\n",
        "    labels = nx.get_edge_attributes(G_to_networkx,'weight') #Se agregan los pesos a nuestro grafo visual\n",
        "    #Con ayuda de los comandos proveídos por networkx, mostramos en pantalla el grafo en el que se está trabajando\n",
        "    nx.draw_networkx_edge_labels(G_to_networkx,pos,edge_labels=labels,font_size=10)\n",
        "    nx.draw(G_to_networkx, pos, with_labels = True, node_size=800, font_color=\"white\", font_size=14, font_weight=\"black\", width  =2.0, edge_color =\"green\")\n",
        "  \n",
        "  return 0\n",
        "\n",
        "#Ejemplo\n",
        "n_dijkstra = random.randint(5,25)\n",
        "G_dijkstra, fuente_dijkstra = instance_generator_dijkstra(n_dijkstra)\n",
        "\n",
        "print(f\"Dijkstra: {G_dijkstra}\")\n",
        "print(f\"Fuente: {fuente_dijkstra}\")\n",
        "\n",
        "dijkstraAlgorithm(G_dijkstra, fuente_dijkstra, n_dijkstra, verbose = False, visualize = False)"
      ]
    },
    {
      "cell_type": "markdown",
      "source": [
        "###2.1.1 Descripción del algoritmo\n",
        "Éste recibe un grafo dirigido de arcos positivos $G = (V, E)$ y un vértice fuente $s \\in V$, y retorna una lista con la distancia más corta entre $s$ y cada uno de los demás vértices del grafo. Cabe notar que este algoritmo posee un enfoque **greedy**, en el sentido que siempre buscará la mejor solución en cada iteración, con la esperanza de que este camino sea el más corto para todo el problema. En otras palabras, Dijkstra construye una solución paso a paso en base a una regla heurística. En términos generales, el algoritmo funciona de la siguiente manera:\n",
        "1. Creamos una lista vacía que almacenará cada distancia entre el vértice fuente y los demás vértices. Inicializamos el valor $dist[s]$ como $0$, y las posiciones restantes como un valor muy grande, puesto que siempre querremos buscar la mínima distancia."
      ],
      "metadata": {
        "id": "NuiFFIuCi9o6"
      }
    },
    {
      "cell_type": "markdown",
      "source": [
        "###2.1.2 Ejemplo"
      ],
      "metadata": {
        "id": "uznoumVglET6"
      }
    },
    {
      "cell_type": "markdown",
      "source": [
        "###2.1.3 Visualización del grafo a trabajar\n",
        "Al determinar que `visualize` sea igual a `True`, se mostrará en pantalla de forma gráfica el grafo en el que se está trabajando. Como ayuda, utilizamos la librería externa **networkx**. A continuación se muestra lo especificado:"
      ],
      "metadata": {
        "id": "-ap4kmdzlGru"
      }
    },
    {
      "cell_type": "code",
      "source": [
        "n_dijkstra = random.randint(5,10)\n",
        "G_dijkstra, fuente_dijkstra = instance_generator_dijkstra(n_dijkstra)\n",
        "cprint(f\"Grafo de entrada: {G_dijkstra}\", 'yellow', attrs=[\"bold\"])\n",
        "cprint(f\"Número de nodos: {n_dijkstra}\")\n",
        "cprint(f\"Fuente: {fuente_dijkstra}\", \"yellow\", attrs=[\"bold\"])\n",
        "\n",
        "distancias = dijkstraAlgorithm(G_dijkstra, fuente_dijkstra, n_dijkstra, verbose = False, visualize  = True)"
      ],
      "metadata": {
        "id": "opDprhQ4l8Qf",
        "colab": {
          "base_uri": "https://localhost:8080/",
          "height": 320
        },
        "outputId": "6ac0f293-c126-4f4f-c2c1-ecd4dbdd652b"
      },
      "execution_count": 215,
      "outputs": [
        {
          "output_type": "stream",
          "name": "stdout",
          "text": [
            "Grafo de entrada: [(3, 7, 11), (3, 2, 31), (6, 7, 52), (6, 2, 75), (6, 3, 70), (9, 1, 93), (9, 5, 39), (9, 7, 55), (0, 3, 14), (1, 0, 35), (7, 5, 90), (4, 7, 97), (4, 1, 80), (4, 3, 36), (5, 4, 4), (8, 1, 27), (8, 6, 20), (9, 8, 0), (2, 9, 73)]\n",
            "Número de nodos: 10\n",
            "Fuente: 3\n"
          ]
        },
        {
          "output_type": "display_data",
          "data": {
            "text/plain": [
              "<Figure size 432x288 with 1 Axes>"
            ],
            "image/png": "[encoded data removed]"
          },
          "metadata": {}
        }
      ]
    },
    {
      "cell_type": "markdown",
      "source": [
        "###2.1.4 Ejecución del algoritmo paso a paso (`verbose = True`)"
      ],
      "metadata": {
        "id": "tk279jWSlKOv"
      }
    },
    {
      "cell_type": "code",
      "source": [],
      "metadata": {
        "id": "Gjl_fFPgl7ZA"
      },
      "execution_count": null,
      "outputs": []
    },
    {
      "cell_type": "markdown",
      "source": [
        "##2.2 Algoritmo de Bellman-Ford"
      ],
      "metadata": {
        "id": "Hx3BNvmAiXJW"
      }
    },
    {
      "cell_type": "code",
      "source": [
        "from termcolor import cprint\n",
        "\n",
        "#Función que permite imprimir las distancias en un formato intuitivo\n",
        "def imprimirDistancias(G, nodos, distancias):\n",
        "  print(\"Distancia de cada vértice desde la fuente:\")\n",
        "  for i in range(len(distancias)):\n",
        "    print(\"{0}\\t\\t{1}\".format(i, distancias[i]))\n",
        "\n",
        "def bellmanFordAlgorithm(G, s, nodos, verbose, visualize):\n",
        "  #Inicializamos el arreglo con un número cercano al infinito positivo\n",
        "  distancias = [99999999] * nodos\n",
        "  distancias[s] = 0 #Puesto que es el origen, se inicializa la distancia de s como 0\n",
        "\n",
        "  if visualize == True:\n",
        "    G_to_networkx = graph_to_nxdigraph(G, nodos) #Se transforma nuestro grafo a uno compatible con la libreria networkx\n",
        "    pos=nx.spring_layout(G_to_networkx)\n",
        "    labels = nx.get_edge_attributes(G_to_networkx,'weight') #Se agregan los pesos a nuestro grafo visual\n",
        "    #Con ayuda de los comandos proveídos por networkx, mostramos en pantalla el grafo en el que se está trabajando\n",
        "    nx.draw_networkx_edge_labels(G_to_networkx,pos,edge_labels=labels,font_size=10)\n",
        "    nx.draw(G_to_networkx, pos, with_labels = True, node_size=800, font_color=\"white\", font_size=14, font_weight=\"black\", width  =2.0, edge_color =\"green\")\n",
        "\n",
        "  #Recorremos cada uno de los arcos (nodos-1) veces, lo que nos permite entregar una solución más completa que verifica cada nodo restante desde la fuente\n",
        "  for i in range(nodos-1):\n",
        "    for u, v, w in G: #Se recorre el grafo\n",
        "      #Si esto se cumple, distancias[v] guardará el camino más corto posible entre el vértice fuente y el nodo indicado\n",
        "      if distancias[u] != 99999999 and distancias[u] + w < distancias[v]:\n",
        "        distancias[v] = distancias[u] + w\n",
        "  \n",
        "  #Luego, se chequea la existencia de ciclos negativos. Si se obtiene un camino más corto a alguno de\n",
        "  #los calculados anteriormente, retornamos una lista vacía.\n",
        "  for u, v, w in G:\n",
        "    if distancias[u] != 99999999 and distancias[u] + w < distancias[v]:\n",
        "      print(\"CICLO NEGATIVO!\")\n",
        "      return []\n",
        "\n",
        "  return distancias #Finalmente, se retorna la lista que contiene los caminos más cortos desde el vértice fuente\n",
        "                    #hasta cada uno de los nodos restantes del grafo\n",
        "\n",
        "#Ejemplo\n",
        "n_bellman = random.randint(5,25)\n",
        "G_bellman, fuente_bellman = instance_generator_bellman(n_bellman)\n",
        "\n",
        "cprint(f\"Grafo de entrada: {G_bellman}\", 'yellow', attrs=[\"bold\"])\n",
        "cprint(f\"Número de nodos: {n_bellman}\")\n",
        "cprint(f\"Fuente: {fuente_bellman}\", \"yellow\", attrs=[\"bold\"])\n",
        "\n",
        "distancias = bellmanFordAlgorithm(G_bellman, fuente_bellman, n_bellman, verbose = False, visualize  = False)\n",
        "\n",
        "if (distancias != []): imprimirDistancias(G_bellman, n_bellman, distancias)"
      ],
      "metadata": {
        "colab": {
          "base_uri": "https://localhost:8080/"
        },
        "id": "SKEMtaOqghxW",
        "outputId": "88c7a73f-2f0d-413b-9312-5f47957de96d"
      },
      "execution_count": 208,
      "outputs": [
        {
          "output_type": "stream",
          "name": "stdout",
          "text": [
            "Grafo de entrada: [(9, 1, 67), (12, 10, 90), (12, 15, 75), (12, 0, 85), (4, 2, 26), (16, 12, 71), (16, 6, 62), (16, 15, 1), (17, 12, 84), (17, 1, 76), (17, 11, 40), (7, 14, 38), (20, 16, 45), (20, 13, 53), (20, 5, 45), (6, 2, 78), (6, 10, -2), (6, 4, 80), (1, 3, 83), (14, 2, 64), (14, 4, 44), (14, 19, 35), (13, 1, 40), (13, 18, 12), (13, 19, 69), (18, 20, 69), (18, 14, 65), (18, 11, 38), (10, 16, 73), (10, 18, 43), (0, 2, 49), (0, 18, 3), (3, 9, 88), (11, 7, -25), (11, 19, 60), (19, 9, 22), (19, 1, 45), (19, 0, 72), (8, 20, 80), (8, 5, 77), (5, 14, 55), (5, 6, 25), (15, 3, 30), (15, 18, 24), (6, 17, -10), (9, 8, 45)]\n",
            "Número de nodos: 21\n",
            "Fuente: 9\n",
            "Distancia de cada vértice desde la fuente:\n",
            "0\t\t284\n",
            "1\t\t67\n",
            "2\t\t225\n",
            "3\t\t150\n",
            "4\t\t221\n",
            "5\t\t122\n",
            "6\t\t147\n",
            "7\t\t152\n",
            "8\t\t45\n",
            "9\t\t0\n",
            "10\t\t145\n",
            "11\t\t177\n",
            "12\t\t221\n",
            "13\t\t178\n",
            "14\t\t177\n",
            "15\t\t171\n",
            "16\t\t170\n",
            "17\t\t137\n",
            "18\t\t188\n",
            "19\t\t212\n",
            "20\t\t125\n"
          ]
        }
      ]
    },
    {
      "cell_type": "markdown",
      "source": [
        "###2.2.1 Descripción del algoritmo\n",
        "Este algoritmo recibe un grafo dirigido $G = (V,E)$ que puede poseer arcos negativos, un vértice fuente $s \\in V$ y la cantidad de nodos $V$. Al realizar el proceso, éste puede retornar alguna de estas dos salidas:\n",
        "1. Si no se encuentran ciclos negativos en el grafo, se retorna una lista con la distancia más corta entre $s$ y cada uno de los demás vértices del grafo.\n",
        "2. En el caso contrario, se retorna una lista vacía y se muestra un mensaje en pantalla indicando la presencia de un ciclo negativo en $G$.\n",
        "\n",
        "Cabe notar que Bellman-Ford trabaja bajo el paradigma de **programación dinámica**, por lo tanto será necesario definir su subestructura óptima, y en consecuencia su función de recurrencia, lo cual hace posible su implementación bottom-up.\n",
        "\n",
        "###**Subestructura óptima:**\n",
        "En términos generales, deseamos encontrar la ruta óptima $P$ considerando $i$ arcos o menos, puesto que no sabemos la cantidad específica de arcos de la ruta óptima. Si definimos esto, pueden ocurrir dos situaciones:\n",
        "1. La ruta más corta tiene $i-1$ arcos o menos, por lo que tan solo bastaría con encontrar ésta.\n",
        "2. La ruta más corta posee efectivamente $i$ arcos, por lo que se realiza la subdivisión de problemas especificada en la siguiente imagen.\n",
        "![image](https://chartreuse-goal-d5c.notion.site/image/https%3A%2F%2Fs3-us-west-2.amazonaws.com%2Fsecure.notion-static.com%2Ffddd9b5c-071a-4413-8f7d-229ad407e880%2FUntitled.png?table=block&id=e9d843f8-abec-4773-925d-3e254110810d&spaceId=4f8bebe4-a843-44d2-b6ee-51e2006a90d1&width=2000&userId=&cache=v2)\n",
        "\n",
        "Como se puede observar, la ruta más corta $P$ se puede obtener calculando las rutas más cortas $P'$ entre $s$ y un nodo intermedio $w$, limitada a $i-1$ arcos. Luego, tan solo sumamos la distancia entre $w$ y $v$, lo cual se espera nos deje con la mejor alternativa. Por lo tanto, y viendo como es que la cantidad máxima de arcos para una ruta más corta es de $n-1$, para obtener la mejor solución al problema original debemos encontrar la ruta más corta con $i = n-1$.\n",
        "\n",
        "Así, básandonos en este análisis previo, llegamos al siguiente lema que definirá nuestra subestructura óptima:\n",
        "\n",
        "*Sea $G=(V,E)$ un grafo dirigido con largo de arcos reales y una fuente $s \\in V$. Suponiendo que $i \\geq 1$ y $v\\in V$, y sea $P$ la ruta más corta $s \\leadsto v$ en $G$ con $i$ arcos o menos. Entonces, una de las dos afirmaciones siguientes es verdadera:*\n",
        "\n",
        "- *$P$ es la ruta más corta con $i-1$ arcos o menos.*\n",
        "- *$P$ es, para algún valor $w \\in V$, la ruta más corta $s\\leadsto w$ con $i-1$ arcos o menos, adicionada con el arco $(w,v) \\in E$.*\n",
        "\n",
        "Finalmente, como consecuencia de estos subproblemas, es posible definir nuestra **función de recurrencia**, donde consideramos a $L_{i,v}$ como el largo mínimo de un camino $s\\leadsto v$ con a lo más $i-1$ arcos y ciclos permitidos. Luego, para todo $i\\geq 1$ y $v \\in V$ tenemos que:\n",
        "\n",
        "$L_{i,v} =\n",
        "\\min \\left\\{\n",
        " \\begin{array}{cc}\n",
        " L_{i-1,v} & \\text{(caso 1)} \\\\\n",
        " \\min\\limits_{(w,v)\\in E} \\{L_{i-1,w}+l_{wv}\\} & \\text{(caso 2)}\n",
        "    \t\\end{array}\n",
        "\\right\\}$\n",
        "\n",
        "Siendo los **subproblemas base**, para todo $v \\in V$, los siguientes:\n",
        "$L_{0,v} =\n",
        "\\left\\{\n",
        "\\begin{array}{cc}\n",
        "0 & \\text{si $$s=v$$} \\\\\n",
        "+\\infty & \\text{en otro caso.}\n",
        "\\end{array}\n",
        "\\right.$\n",
        "\n",
        "Por lo tanto, y luego de comprender la construcción del algoritmo de Bellman-Ford en base a esta subestructura óptima, construimos nuestro algoritmo con implementación bottom-up, el cual en términos generales funciona de la siguiente manera:\n",
        "1. Se crea la lista $distancias$, la cual contendrá cada distancia desde el vértice fuente hacia los nodos restantes. Cada posición, con excepción de la posición $s$, se inicializan con el valor $99999999$, mientras que la mencionada contiene el valor $0$, que simboliza la distancia nula desde $s$ hasta sí mismo.\n",
        "2. Luego, en un ciclo `for` que recorre todo el grafo $G$ hasta $nodos-1$ veces, se analiza cada conexión $[u, v, w]$, con $u$ un nodo y $v$ otro, además de $w$ como el peso del arco entre ambos, donde se toma uno de los siguientes caminos: si $distancias[u] + w$ es menor a $distancias[v]$, ahora esta última posición almacenará el nuevo camino más corto; si esto no sucede, tan solo avanzamos al siguiente nodo, sabiendo que $distancias[v]$ almacenará la solución óptima hasta esa iteración.\n",
        "3. Al finalizar el ciclo anterior, se chequea la presencia de ciclos negativos con ayuda de otro `for`, en donde por cada nodo del grafo $G$ se observa si $distancias[v]$ es mayor a $distancias[u] + w$. Si esto sucede, efectivamente se ha encontrado uno de éstos, por lo que se retorna una lista vacía y se imprime en pantalla el mensaje *CICLO NEGATIVO!*.\n",
        "4. Finalmente, y tras verificar la no existencia de este fenómeno en el grafo, se retorna la lista $distancias$."
      ],
      "metadata": {
        "id": "6NTUgxYRjCtd"
      }
    },
    {
      "cell_type": "markdown",
      "source": [
        "###2.2.2 Ejemplo"
      ],
      "metadata": {
        "id": "6oeNa_mAlrDY"
      }
    },
    {
      "cell_type": "markdown",
      "source": [
        "###2.2.3 Visualización del grafo a trabajar\n",
        "Al determinar que `visualize` sea igual a `True`, se mostrará en pantalla de forma gráfica el grafo en el que se está trabajando. Como ayuda, utilizamos la librería externa **networkx**. A continuación se muestra lo especificado:"
      ],
      "metadata": {
        "id": "dGMQrG7DlyU9"
      }
    },
    {
      "cell_type": "code",
      "source": [
        "n_bellman = random.randint(5,10)\n",
        "G_bellman, fuente_bellman = instance_generator_bellman(n_bellman)\n",
        "cprint(f\"Grafo de entrada: {G_bellman}\", 'yellow', attrs=[\"bold\"])\n",
        "cprint(f\"Número de nodos: {n_bellman}\")\n",
        "cprint(f\"Fuente: {fuente_bellman}\", \"yellow\", attrs=[\"bold\"])\n",
        "\n",
        "distancias = bellmanFordAlgorithm(G_bellman, fuente_bellman, n_bellman, verbose = False, visualize  = True)\n",
        "if (distancias != []): imprimirDistancias(G_bellman, n_bellman, distancias)"
      ],
      "metadata": {
        "id": "R8oC3D6Kl50B",
        "colab": {
          "base_uri": "https://localhost:8080/",
          "height": 456
        },
        "outputId": "44803b1a-be03-4cc8-ec6d-0e0fad5b469c"
      },
      "execution_count": 207,
      "outputs": [
        {
          "output_type": "stream",
          "name": "stdout",
          "text": [
            "Grafo de entrada: [(4, 2, 50), (3, 2, 9), (7, 3, 71), (7, 2, 29), (1, 5, 40), (6, 5, 34), (6, 3, 89), (2, 1, 13), (0, 5, 34), (0, 6, 93), (5, 7, -4), (3, 0, -7), (0, 4, 51)]\n",
            "Número de nodos: 8\n",
            "Fuente: 4\n",
            "Distancia de cada vértice desde la fuente:\n",
            "0\t\t163\n",
            "1\t\t63\n",
            "2\t\t50\n",
            "3\t\t170\n",
            "4\t\t0\n",
            "5\t\t103\n",
            "6\t\t256\n",
            "7\t\t99\n"
          ]
        },
        {
          "output_type": "display_data",
          "data": {
            "text/plain": [
              "<Figure size 432x288 with 1 Axes>"
            ],
            "image/png": "[encoded data removed]"
          },
          "metadata": {}
        }
      ]
    },
    {
      "cell_type": "markdown",
      "source": [
        "###2.2.4 Ejecución del algoritmo paso a paso (`verbose = True`)"
      ],
      "metadata": {
        "id": "egUa7R0Rl4WF"
      }
    },
    {
      "cell_type": "code",
      "source": [],
      "metadata": {
        "id": "iCvH7_VWl6sR"
      },
      "execution_count": null,
      "outputs": []
    },
    {
      "cell_type": "markdown",
      "source": [
        "#3. Correctitud del algoritmo de Bellman-Ford"
      ],
      "metadata": {
        "id": "tuK1vVMKmK6n"
      }
    },
    {
      "cell_type": "markdown",
      "source": [
        "##3.1 Teorema"
      ],
      "metadata": {
        "id": "djW3sF93U5d1"
      }
    },
    {
      "cell_type": "markdown",
      "source": [
        "#4. Tiempo de ejecución"
      ],
      "metadata": {
        "id": "tuFpHpj_mWR2"
      }
    },
    {
      "cell_type": "markdown",
      "source": [
        "#5. Experimentos"
      ],
      "metadata": {
        "id": "RubyTrcHmhm1"
      }
    }
  ]
}