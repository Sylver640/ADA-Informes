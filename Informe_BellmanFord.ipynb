{
  "nbformat": 4,
  "nbformat_minor": 0,
  "metadata": {
    "colab": {
      "provenance": [],
      "collapsed_sections": [],
      "authorship_tag": "ABX9TyN7PvoGa/QDyDPo10Uy6TIz",
      "include_colab_link": true
    },
    "kernelspec": {
      "name": "python3",
      "display_name": "Python 3"
    },
    "language_info": {
      "name": "python"
    }
  },
  "cells": [
    {
      "cell_type": "markdown",
      "metadata": {
        "id": "view-in-github",
        "colab_type": "text"
      },
      "source": [
        "<a href=\"https://colab.research.google.com/github/Sylver640/ADA-Informes/blob/main/Informe_BellmanFord.ipynb\" target=\"_parent\"><img src=\"https://colab.research.google.com/assets/colab-badge.svg\" alt=\"Open In Colab\"/></a>"
      ]
    },
    {
      "cell_type": "markdown",
      "source": [
        "#1. Descripción del problema (camino más corto)\n",
        "**Entrada**: Un grafo dirigido $G=(V,E)$, un vértice fuente $s\\in V$, y un valor real $l_e \\geq 0$ asociado a cada arco $e\\in E$.\n",
        "\n",
        "**Salida**: La distancia más corta $dist(s,v)$ para cada vértice $v\\in V$.\n",
        "\n",
        "Continuando la linea de problemas clásicos en la teoría de grafos, era imposible dejar fuera al conocido **camino más corto**, en este caso con una fuente única. En términos generales, esta versión del problema tiene como objetivo encontrar la **distancia más corta** entre un vértice inicial o fuente $s$ y todos los nodos del grafo dirigido $G = (V, E)$. Definiremos la distancia o largo de un camino como la suma de sus arcos."
      ],
      "metadata": {
        "id": "LOkir68ziKFI"
      }
    },
    {
      "cell_type": "markdown",
      "source": [
        "#2. Algoritmos"
      ],
      "metadata": {
        "id": "j8py7Ix8irhr"
      }
    },
    {
      "cell_type": "code",
      "source": [
        "import random\n",
        "\n",
        "### Generadores de instancia ###\n",
        "\n",
        "def is_valid_edge(generated_edges: dict, i: int, j: int):\n",
        "    return i != j and not generated_edges.get((i, j), None) and not generated_edges.get((j, i), None)\n",
        "\n",
        "def instance_generator_bellman(n: int):\n",
        "    \"\"\"\n",
        "        Input: cantidad de vértices\n",
        "        Output: una lista que contiene todos los arcos y el número del vértice fuente (la función retorna dos variables).\n",
        "        Los arcos vienen en la forma (i, j, weight), donde i es el vértice origen del arco y j el vértice al que apunta el arco, mientras que weight es su peso.\n",
        "    \"\"\"\n",
        "    graph = []\n",
        "    nodes = random.sample(range(0, n), n)\n",
        "    unvisited_nodes = random.sample(range(0, n), n)\n",
        "    \n",
        "    generated_edges = {}\n",
        "    for i in nodes:\n",
        "        rand = random.sample(nodes, random.randint(1, 3))\n",
        "\n",
        "        for j in rand:\n",
        "            edge = (i, j)\n",
        "            edge_with_weight = (i, j, random.randint(1, 100))\n",
        "            \n",
        "            if generated_edges.get((edge[1], edge[0]), None):\n",
        "                continue\n",
        "            \n",
        "            if i == j:\n",
        "                new_vertice = None\n",
        "                iterations = 0\n",
        "                while new_vertice is None and iterations < 250:\n",
        "                    iterations += 1\n",
        "                    number = random.randint(0, n - 1)\n",
        "                    if is_valid_edge(generated_edges, i, number):\n",
        "                        new_vertice = number\n",
        "\n",
        "                if iterations >= 250:\n",
        "                    return instance_generator_bellman(n)\n",
        "                \n",
        "                edge = (i, new_vertice)\n",
        "                edge_with_weight = (i, new_vertice, random.randint(-25, 100)) # -25 y 100 corresponde a los límites de los pesos, puede cambiarlos.\n",
        "            \n",
        "            graph.append(edge_with_weight)\n",
        "            generated_edges[edge] = edge\n",
        "\n",
        "            if edge_with_weight[1] in unvisited_nodes:\n",
        "                unvisited_nodes.remove(edge_with_weight[1])\n",
        "\n",
        "    for i in unvisited_nodes:\n",
        "        valid_edge = False\n",
        "        iterations = 0\n",
        "        while not valid_edge and iterations < 250:\n",
        "            iterations += 1\n",
        "            m = random.randint(0, n - 1)\n",
        "            if is_valid_edge(generated_edges, m, i):\n",
        "                valid_edge = True\n",
        "                edge = (m, i)\n",
        "                edge_with_weight = (m, i, random.randint(-25, 100)) # -25 y 100 corresponde a los límites de los pesos, puede cambiarlos.\n",
        "                graph.append(edge_with_weight)\n",
        "                generated_edges[edge] = edge\n",
        "\n",
        "        if iterations >= 250:\n",
        "            return instance_generator_bellman(n)\n",
        "\n",
        "    return graph, graph[0][0]\n",
        "\n",
        "def instance_generator_dijkstra(n: int):\n",
        "    \"\"\"\n",
        "        Input: cantidad de vértices\n",
        "        Output: una lista que contiene todos los arcos y el número del vértice fuente (la función retorna dos variables).\n",
        "        Los arcos vienen en la forma (i, j, weight), donde i es el vértice origen del arco y j el vértice al que apunta el arco, mientras que weight es su peso.\n",
        "    \"\"\"\n",
        "    graph = []\n",
        "    nodes = random.sample(range(0, n), n)\n",
        "    unvisited_nodes = random.sample(range(0, n), n)\n",
        "    \n",
        "    generated_edges = {}\n",
        "    for i in nodes:\n",
        "        rand = random.sample(nodes, random.randint(1, 3))\n",
        "\n",
        "        for j in rand:\n",
        "            edge = (i, j)\n",
        "            edge_with_weight = (i, j, random.randint(1, 100))\n",
        "            \n",
        "            if generated_edges.get((edge[1], edge[0]), None):\n",
        "                continue\n",
        "            \n",
        "            if i == j:\n",
        "                new_vertice = None\n",
        "                iterations = 0\n",
        "                while new_vertice is None and iterations < 250:\n",
        "                    iterations += 1\n",
        "                    number = random.randint(0, n - 1)\n",
        "                    if is_valid_edge(generated_edges, i, number):\n",
        "                        new_vertice = number\n",
        "\n",
        "                if iterations >= 250:\n",
        "                    return instance_generator_dijkstra(n)\n",
        "                \n",
        "                edge = (i, new_vertice)\n",
        "                edge_with_weight = (i, new_vertice, random.randint(0, 100)) # -25 y 100 corresponde a los límites de los pesos, puede cambiarlos.\n",
        "            \n",
        "            graph.append(edge_with_weight)\n",
        "            generated_edges[edge] = edge\n",
        "\n",
        "            if edge_with_weight[1] in unvisited_nodes:\n",
        "                unvisited_nodes.remove(edge_with_weight[1])\n",
        "\n",
        "    for i in unvisited_nodes:\n",
        "        valid_edge = False\n",
        "        iterations = 0\n",
        "        while not valid_edge and iterations < 250:\n",
        "            iterations += 1\n",
        "            m = random.randint(0, n - 1)\n",
        "            if is_valid_edge(generated_edges, m, i):\n",
        "                valid_edge = True\n",
        "                edge = (m, i)\n",
        "                edge_with_weight = (m, i, random.randint(0, 100)) # -25 y 100 corresponde a los límites de los pesos, puede cambiarlos.\n",
        "                graph.append(edge_with_weight)\n",
        "                generated_edges[edge] = edge\n",
        "\n",
        "        if iterations >= 250:\n",
        "            return instance_generator_dijkstra(n)\n",
        "\n",
        "    return graph, graph[0][0]"
      ],
      "metadata": {
        "id": "UWlYJHvggmYA"
      },
      "execution_count": 7,
      "outputs": []
    },
    {
      "cell_type": "markdown",
      "source": [
        "##2.1 Algoritmo de Dijkstra"
      ],
      "metadata": {
        "id": "GGJqVdq0iNVn"
      }
    },
    {
      "cell_type": "code",
      "execution_count": 10,
      "metadata": {
        "colab": {
          "base_uri": "https://localhost:8080/"
        },
        "id": "fXIfYlOvgHPX",
        "outputId": "1f7aed4d-a7b5-4b28-c25c-2757db8f49b4"
      },
      "outputs": [
        {
          "output_type": "stream",
          "name": "stdout",
          "text": [
            "Dijkstra: [(3, 0, 63), (3, 1, 66), (2, 1, 33), (2, 4, 49), (2, 3, 75), (0, 1, 75), (0, 2, 43), (4, 1, 74), (4, 3, 6)]\n",
            "Fuente: 3\n"
          ]
        },
        {
          "output_type": "execute_result",
          "data": {
            "text/plain": [
              "0"
            ]
          },
          "metadata": {},
          "execution_count": 10
        }
      ],
      "source": [
        "def dijkstraAlgorithm(G, fuente):\n",
        "  distancias = [1e7] * len(G)\n",
        "  distancias[fuente] = 0\n",
        "  return 0\n",
        "\n",
        "#Ejemplo\n",
        "n_dijkstra = random.randint(5,25)\n",
        "G_dijkstra, fuente_dijkstra = instance_generator_dijkstra(n_dijkstra)\n",
        "\n",
        "print(f\"Dijkstra: {G_dijkstra}\")\n",
        "print(f\"Fuente: {fuente_dijkstra}\")\n",
        "\n",
        "#dijkstraAlgorithm(G_dijkstra, fuente_dijkstra)"
      ]
    },
    {
      "cell_type": "markdown",
      "source": [
        "###2.1.1 Descripción del algoritmo"
      ],
      "metadata": {
        "id": "NuiFFIuCi9o6"
      }
    },
    {
      "cell_type": "markdown",
      "source": [
        "###2.1.2 Ejemplo"
      ],
      "metadata": {
        "id": "uznoumVglET6"
      }
    },
    {
      "cell_type": "markdown",
      "source": [
        "###2.1.3 Visualización del camino más corto encontrado"
      ],
      "metadata": {
        "id": "-ap4kmdzlGru"
      }
    },
    {
      "cell_type": "code",
      "source": [],
      "metadata": {
        "id": "opDprhQ4l8Qf"
      },
      "execution_count": null,
      "outputs": []
    },
    {
      "cell_type": "markdown",
      "source": [
        "###2.1.4 Ejecución del algoritmo paso a paso (`verbose = True`)"
      ],
      "metadata": {
        "id": "tk279jWSlKOv"
      }
    },
    {
      "cell_type": "code",
      "source": [],
      "metadata": {
        "id": "Gjl_fFPgl7ZA"
      },
      "execution_count": null,
      "outputs": []
    },
    {
      "cell_type": "markdown",
      "source": [
        "##2.2 Algoritmo de Bellman-Ford"
      ],
      "metadata": {
        "id": "Hx3BNvmAiXJW"
      }
    },
    {
      "cell_type": "code",
      "source": [
        "def bellmanFordAlgorithm(G, fuente):\n",
        "  return 0\n",
        "\n",
        "#Ejemplo\n",
        "n_bellman = random.randint(5,25)\n",
        "G_bellman, fuente_bellman = instance_generator_bellman(n_bellman)\n",
        "\n",
        "print(f\"Bellman: {G_bellman}\")\n",
        "print(f\"Fuente: {fuente_bellman}\")"
      ],
      "metadata": {
        "colab": {
          "base_uri": "https://localhost:8080/"
        },
        "id": "SKEMtaOqghxW",
        "outputId": "ec547824-1560-4f45-e4b0-9314483bdea6"
      },
      "execution_count": null,
      "outputs": [
        {
          "output_type": "stream",
          "name": "stdout",
          "text": [
            "Bellman: [(1, 5, 87), (1, 12, 31), (3, 13, 58), (3, 18, 98), (17, 12, 15), (17, 10, 56), (20, 5, 73), (20, 0, 24), (20, 19, 36), (9, 18, 76), (10, 2, 45), (10, 18, 50), (10, 16, 14), (0, 3, 6), (0, 5, 30), (0, 2, 80), (15, 8, 26), (15, 0, 90), (18, 7, 60), (18, 2, 39), (7, 20, -2), (7, 4, 71), (7, 21, 32), (16, 2, 28), (16, 8, 38), (14, 0, 21), (14, 16, 12), (8, 18, 18), (8, 12, 53), (21, 15, 85), (12, 3, 93), (4, 20, 80), (11, 16, 13), (11, 13, -12), (11, 7, 95), (6, 2, 27), (6, 13, 57), (19, 21, 78), (13, 20, 37), (13, 10, 25), (5, 21, 36), (18, 17, 91), (10, 11, -22), (19, 1, 25), (8, 9, 57), (14, 6, 55), (1, 14, 91)]\n",
            "Fuente: 1\n"
          ]
        }
      ]
    },
    {
      "cell_type": "markdown",
      "source": [
        "###2.2.1 Descripción del algoritmo"
      ],
      "metadata": {
        "id": "6NTUgxYRjCtd"
      }
    },
    {
      "cell_type": "markdown",
      "source": [
        "###2.2.2 Ejemplo"
      ],
      "metadata": {
        "id": "6oeNa_mAlrDY"
      }
    },
    {
      "cell_type": "markdown",
      "source": [
        "###2.2.3 Visualización del camino más corto encontrado"
      ],
      "metadata": {
        "id": "dGMQrG7DlyU9"
      }
    },
    {
      "cell_type": "code",
      "source": [],
      "metadata": {
        "id": "R8oC3D6Kl50B"
      },
      "execution_count": null,
      "outputs": []
    },
    {
      "cell_type": "markdown",
      "source": [
        "###2.2.4 Ejecución del algoritmo paso a paso (`verbose = True`)"
      ],
      "metadata": {
        "id": "egUa7R0Rl4WF"
      }
    },
    {
      "cell_type": "code",
      "source": [],
      "metadata": {
        "id": "iCvH7_VWl6sR"
      },
      "execution_count": null,
      "outputs": []
    },
    {
      "cell_type": "markdown",
      "source": [
        "#3. Correctitud del algoritmo de Bellman-Ford"
      ],
      "metadata": {
        "id": "tuK1vVMKmK6n"
      }
    },
    {
      "cell_type": "markdown",
      "source": [
        "#4. Tiempo de ejecución"
      ],
      "metadata": {
        "id": "tuFpHpj_mWR2"
      }
    },
    {
      "cell_type": "markdown",
      "source": [
        "#5. Experimentos"
      ],
      "metadata": {
        "id": "RubyTrcHmhm1"
      }
    }
  ]
}