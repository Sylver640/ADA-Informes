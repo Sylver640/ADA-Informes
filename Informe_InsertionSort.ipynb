{
  "nbformat": 4,
  "nbformat_minor": 0,
  "metadata": {
    "colab": {
      "name": "Informe_InsertionSort.ipynb",
      "provenance": [],
      "collapsed_sections": [],
      "authorship_tag": "ABX9TyN2CiSZJD0refffsu6ejvUd",
      "include_colab_link": true
    },
    "kernelspec": {
      "name": "python3",
      "display_name": "Python 3"
    },
    "language_info": {
      "name": "python"
    }
  },
  "cells": [
    {
      "cell_type": "markdown",
      "metadata": {
        "id": "view-in-github",
        "colab_type": "text"
      },
      "source": [
        "<a href=\"https://colab.research.google.com/github/Sylver640/ADA-Informes/blob/main/Informe_InsertionSort.ipynb\" target=\"_parent\"><img src=\"https://colab.research.google.com/assets/colab-badge.svg\" alt=\"Open In Colab\"/></a>"
      ]
    },
    {
      "cell_type": "markdown",
      "source": [
        "# 1. Insertion Sort"
      ],
      "metadata": {
        "id": "Ii6mm3zF1wto"
      }
    },
    {
      "cell_type": "markdown",
      "source": [
        "**Entrada**: Secuencia de n números [a1,a2,a3,...,an].\n",
        "\n",
        "**Salida**: Permutación ordenada de la secuencia inicial: [a1',a2',a3',...,an'], pero con los valores ordenados tal que *a1'<=a2'<=a3'<=...<=an'*.\n",
        "\n",
        "A continuación, el siguiente código muestra una implementación de **Insertion Sort**."
      ],
      "metadata": {
        "id": "6A-SFRSd13CM"
      }
    },
    {
      "cell_type": "code",
      "source": [
        "import random\n",
        "from termcolor import colored\n",
        "import copy\n",
        "\n",
        "def bubble_sort(a, verbose=False):\n",
        "    n = len(a)\n",
        "    T = 0 #contador de comparaciones\n",
        "\n",
        "    if verbose == True: print(\"input array:\",a)\n",
        "\n",
        "    for i in range(1,n+1):\n",
        "        if verbose == True: print(\"\\nPasada\",i)\n",
        "        # Flag que indica si el arreglo ya se encuentra ordenado\n",
        "        already_sorted = True\n",
        "\n",
        "        # Se recorre el arreglo\n",
        "        for j in range(n - i):\n",
        "            T +=1\n",
        "            if a[j] > a[j + 1]:\n",
        "                # Si el elemento es mayor al siguiente se intercambia\n",
        "                a[j], a[j + 1] = a[j + 1], a[j]\n",
        "                if verbose == True: \n",
        "                  print(str(a[:j])[1:-1],\",\",colored(f\"{str(a[j:j+2])[1:-1]}\",\"red\"),\",\",str(a[j+2:])[1:-1])\n",
        "\n",
        "                already_sorted = False\n",
        "\n",
        "        if already_sorted == False and verbose == True: \n",
        "           print(\"\\nAl finalizar pasada:\")\n",
        "           print(str(a[:n-i])[1:-1],\",\",colored(f\"{str(a[n-i:])[1:-1]}\",\"blue\"))\n",
        "\n",
        "        if already_sorted:\n",
        "            if verbose == True: print(\"is sorted!\")\n",
        "            break\n",
        "\n",
        "    if verbose == True: print(\"\\noutput array:\",a)\n",
        "\n",
        "    return a, T\n",
        "\n",
        "# Ejemplo\n",
        "A = [5,8,7,1,3]\n",
        "print(\"Entrada: \",A)\n",
        "A, counter = bubble_sort(A)\n",
        "print(\"Salida: \",A)\n",
        "print(\"# comparaciones: \", counter)"
      ],
      "metadata": {
        "colab": {
          "base_uri": "https://localhost:8080/"
        },
        "id": "BkERilHQ0kVk",
        "outputId": "7d405577-59d7-474f-99ec-a65e8663d15c"
      },
      "execution_count": 2,
      "outputs": [
        {
          "output_type": "stream",
          "name": "stdout",
          "text": [
            "Entrada:  [5, 8, 7, 1, 3]\n",
            "Salida:  [1, 3, 5, 7, 8]\n",
            "# comparaciones:  10\n"
          ]
        }
      ]
    }
  ]
}