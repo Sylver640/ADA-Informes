{
  "nbformat": 4,
  "nbformat_minor": 0,
  "metadata": {
    "colab": {
      "name": "Informe_InsertionSort.ipynb",
      "provenance": [],
      "collapsed_sections": [],
      "authorship_tag": "ABX9TyPn/MQyDGG7ZZ1KVyCd6vti",
      "include_colab_link": true
    },
    "kernelspec": {
      "name": "python3",
      "display_name": "Python 3"
    },
    "language_info": {
      "name": "python"
    }
  },
  "cells": [
    {
      "cell_type": "markdown",
      "metadata": {
        "id": "view-in-github",
        "colab_type": "text"
      },
      "source": [
        "<a href=\"https://colab.research.google.com/github/Sylver640/ADA-Informes/blob/main/Informe_InsertionSort.ipynb\" target=\"_parent\"><img src=\"https://colab.research.google.com/assets/colab-badge.svg\" alt=\"Open In Colab\"/></a>"
      ]
    },
    {
      "cell_type": "markdown",
      "source": [
        "# 1. Insertion Sort"
      ],
      "metadata": {
        "id": "Ii6mm3zF1wto"
      }
    },
    {
      "cell_type": "markdown",
      "source": [
        "**Entrada**: Secuencia de n números [a1,a2,a3,...,an].\n",
        "\n",
        "**Salida**: Permutación ordenada de la secuencia inicial: [a1',a2',a3',...,an'], pero con los valores ordenados tal que *a1'<=a2'<=a3'<=...<=an'*.\n",
        "\n",
        "A continuación, el siguiente código muestra una implementación de **Insertion Sort**."
      ],
      "metadata": {
        "id": "6A-SFRSd13CM"
      }
    },
    {
      "cell_type": "code",
      "source": [
        "def insertion_sort (array, verbose = False):\n",
        "\n",
        "  if verbose == True: print(\"Input Array: \", array)\n",
        "\n",
        "  comparations = 0\n",
        "\n",
        "  for i in range (1, len(array)):\n",
        "    comparations = comparations + 1\n",
        "    data = array[i]\n",
        "    k = i-1\n",
        "    while k >= 0 and array[k] >= data:\n",
        "      array[k+1] = array[k]\n",
        "      k = k-1\n",
        "    array[k+1] = data\n",
        "    \n",
        "    if data <= array[0]:\n",
        "      array[0] = data\n",
        "\n",
        "  print(\"Number of comparations during execution = \", comparations)\n",
        "\n",
        "a = [4,5,2,6,3,1]\n",
        "print(\"Input: \",a)\n",
        "insertion_sort(a)\n",
        "print(\"Output (sorted array): \",a)"
      ],
      "metadata": {
        "colab": {
          "base_uri": "https://localhost:8080/"
        },
        "id": "BkERilHQ0kVk",
        "outputId": "67413b51-0cf2-4868-bcf7-ea868deddedc"
      },
      "execution_count": 45,
      "outputs": [
        {
          "output_type": "stream",
          "name": "stdout",
          "text": [
            "Input:  [4, 5, 2, 6, 3, 1]\n",
            "Number of comparations during execution =  5\n",
            "Output (sorted array):  [1, 2, 3, 4, 5, 6]\n"
          ]
        }
      ]
    }
  ]
}