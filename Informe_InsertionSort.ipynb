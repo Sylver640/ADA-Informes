{
  "nbformat": 4,
  "nbformat_minor": 0,
  "metadata": {
    "colab": {
      "name": "Informe_InsertionSort.ipynb",
      "provenance": [],
      "collapsed_sections": [],
      "toc_visible": true,
      "authorship_tag": "ABX9TyNQAzOyTA8tEcRqdyL4Vhjh",
      "include_colab_link": true
    },
    "kernelspec": {
      "name": "python3",
      "display_name": "Python 3"
    },
    "language_info": {
      "name": "python"
    }
  },
  "cells": [
    {
      "cell_type": "markdown",
      "metadata": {
        "id": "view-in-github",
        "colab_type": "text"
      },
      "source": [
        "<a href=\"https://colab.research.google.com/github/Sylver640/ADA-Informes/blob/main/Informe_InsertionSort.ipynb\" target=\"_parent\"><img src=\"https://colab.research.google.com/assets/colab-badge.svg\" alt=\"Open In Colab\"/></a>"
      ]
    },
    {
      "cell_type": "markdown",
      "source": [
        "# 1. Insertion Sort"
      ],
      "metadata": {
        "id": "Ii6mm3zF1wto"
      }
    },
    {
      "cell_type": "markdown",
      "source": [
        "**Entrada**: Secuencia de n números [a1,a2,a3,...,an]\\\n",
        "**Salida**: Permutación ordenada de la secuencia inicial: [a1',a2',a3',...,an'], pero con los valores ordenados tal que a1'<=a2'<=a3'<=...<=an'\\\n",
        "\n",
        "A continuación, el siguiente código muestra una implementación de **Insertion Sort**."
      ],
      "metadata": {
        "id": "6A-SFRSd13CM"
      }
    },
    {
      "cell_type": "code",
      "source": [
        ""
      ],
      "metadata": {
        "colab": {
          "base_uri": "https://localhost:8080/",
          "height": 165
        },
        "id": "BkERilHQ0kVk",
        "outputId": "72377842-a6dd-4c7d-a299-7be7dbf6d15f"
      },
      "execution_count": 1,
      "outputs": [
        {
          "output_type": "error",
          "ename": "NameError",
          "evalue": "ignored",
          "traceback": [
            "\u001b[0;31m---------------------------------------------------------------------------\u001b[0m",
            "\u001b[0;31mNameError\u001b[0m                                 Traceback (most recent call last)",
            "\u001b[0;32m<ipython-input-1-310250bb160d>\u001b[0m in \u001b[0;36m<module>\u001b[0;34m()\u001b[0m\n\u001b[0;32m----> 1\u001b[0;31m \u001b[0mwsda\u001b[0m\u001b[0;34m\u001b[0m\u001b[0;34m\u001b[0m\u001b[0m\n\u001b[0m",
            "\u001b[0;31mNameError\u001b[0m: name 'wsda' is not defined"
          ]
        }
      ]
    }
  ]
}