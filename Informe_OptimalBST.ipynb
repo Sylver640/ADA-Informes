{
  "nbformat": 4,
  "nbformat_minor": 0,
  "metadata": {
    "colab": {
      "provenance": [],
      "collapsed_sections": [],
      "authorship_tag": "ABX9TyPV/FA71c1u+FHvcKgl/WDZ",
      "include_colab_link": true
    },
    "kernelspec": {
      "name": "python3",
      "display_name": "Python 3"
    },
    "language_info": {
      "name": "python"
    }
  },
  "cells": [
    {
      "cell_type": "markdown",
      "metadata": {
        "id": "view-in-github",
        "colab_type": "text"
      },
      "source": [
        "<a href=\"https://colab.research.google.com/github/Sylver640/ADA-Informes/blob/main/Informe_OptimalBST.ipynb\" target=\"_parent\"><img src=\"https://colab.research.google.com/assets/colab-badge.svg\" alt=\"Open In Colab\"/></a>"
      ]
    },
    {
      "cell_type": "markdown",
      "source": [
        "#1. Descripción del problema\n",
        "**Entrada**: Secuencia ordenada de n claves: $K=\\left<k_1,k_2,...,k_n\\right>$. Cada clave $k_i$ tiene una probabilidad $p_i$ de ser buscada. Existen claves ficticias $d_i$ que representan búsquedas fallidas con $k_{i-1} \\leq d_i \\leq k_i$. Cada clave $d_i$ tiene una probabilidad $q_i$ de ser buscada. La suma de probabilidades debe ser uno, es decir: $\\sum\\limits_{i=1}^n p_i + \\sum\\limits_{j=0}^n q_i = 1$\n",
        "\n",
        "**Salida**: Construir un árbol de búsqueda óptimo, es decir, un árbol que minimice la cantidad esperada de nodos visitados (costo esperado)."
      ],
      "metadata": {
        "id": "XFZFwuRpjpE1"
      }
    },
    {
      "cell_type": "markdown",
      "source": [
        "Los árboles binarios de búsqueda, también llamados **BST** (Binary Search Tree) son un tipo particular de árbol, el cual presenta una estructura de datos en esta forma. Éstos siempre tienen una raíz e hijos izquierdos y derecho, en donde se cumple que el subárbol izquierdo de cualquier nodo no vacío contiene valores menores a dicho nodo, y el subárbol derecho contiene sus valores mayores. Ahora bien, siguiendo con nuestra línea que estudia algoritmos implementados por medio del paradigma de **programación dinámica**, existe aquel caso en donde queremos buscar un elemento, sin embargo, ya conocemos la frecuencia con la que será visitado cada uno. Por lo tanto, lo mejor sería construir un árbol que tenga los elementos más repetidos en la parte superior, y aquellos que no mucho más abajo.\n",
        "\n",
        "¿Es esto posible? **Sí**, y eso es lo que será analizado a continuación, donde podremos organizar un árbol binario de búsqueda para minimizar la cantidad de nodos visitados en todas las búsquedas. A esto lo llamaremos **árbol binario de búsqueda óptimo**."
      ],
      "metadata": {
        "id": "l9mKMMlEkJd7"
      }
    },
    {
      "cell_type": "markdown",
      "source": [
        "![image](https://upload.wikimedia.org/wikipedia/commons/9/9c/Optimal-binary-search-tree-from-sorted-array.gif)"
      ],
      "metadata": {
        "id": "DMqrptp2zqGM"
      }
    },
    {
      "cell_type": "markdown",
      "source": [
        "#2. Árbol de búsqueda óptimo"
      ],
      "metadata": {
        "id": "AQyBD20DjtJc"
      }
    },
    {
      "cell_type": "markdown",
      "source": [
        "##2.1 Código\n",
        "A continuación, se presentan dos implementaciones del algoritmo estudiado: por recursión y por acercamiento bottom-up (programación dinámica)."
      ],
      "metadata": {
        "id": "KYBexHlkkLWz"
      }
    },
    {
      "cell_type": "code",
      "execution_count": 89,
      "metadata": {
        "colab": {
          "base_uri": "https://localhost:8080/"
        },
        "id": "ve0U3kOejjyj",
        "outputId": "e3674dbf-d9a2-4c21-afd7-c13ddc8e303f"
      },
      "outputs": [
        {
          "output_type": "stream",
          "name": "stdout",
          "text": [
            "\u001b[1m\u001b[33mElementos del árbol: [9, 23, 39]\u001b[0m\n",
            "Implementación: Programación dinámica\n",
            "prueba: 0.984873442142604\n",
            "Subproblemas resueltos: 6\n"
          ]
        }
      ],
      "source": [
        "import random\n",
        "import numpy as np\n",
        "from termcolor import cprint\n",
        "\n",
        "subproblems = 0\n",
        "\n",
        "def recursive_optimalBST():\n",
        "  e = [[0 for x in range(n)] for y in range(n)]\n",
        "  return e[0][n-1]\n",
        "\n",
        "def dp_optimalBST(p, q, n):\n",
        "  global subproblems\n",
        "  e = [[0 for x in range(n)] for y in range(n)]\n",
        "  w = [[0 for x in range(n)] for y in range(n)]\n",
        "\n",
        "  for i in range(n):\n",
        "    e[i][i] = q[i]\n",
        "    w[i][i] = q[i]\n",
        "  \n",
        "  for l in range(1,n+1):\n",
        "    for i in range(n-l+1):\n",
        "      j = i + l - 1\n",
        "      e[i][j] = 999999\n",
        "      w[i][j] = w[i][j-1] + p[j] + q[j]\n",
        "      for r in range(i,j+1):\n",
        "        t = 0\n",
        "        if (r > i):\n",
        "          t += e[i][r-1]\n",
        "        if (r < i):\n",
        "          t += e[r+1][j]\n",
        "        t += w[i][j]\n",
        "        if t < e[i][j]:\n",
        "          subproblems+=1\n",
        "          e[i][j] = t\n",
        "  \n",
        "  return e[0][n-1]\n",
        "\n",
        "def optimal_bst_instance_generator(n):\n",
        "    keys = sorted(random.sample(range(1, 100), n))\n",
        "    arr = np.random.random(n*2+1)\n",
        "    arr /= arr.sum()\n",
        "    \n",
        "    p = list(arr[:n]) # Probabilidad de las claves\n",
        "    q = arr[n:] # Probabilidad de las claves ficticias\n",
        "    return keys, p, q\n",
        "\n",
        "#Ejemplo\n",
        "n = random.randint(1,10)\n",
        "opt = random.randint(1,2)\n",
        "keys, p, q = optimal_bst_instance_generator(n)\n",
        "cprint(f\"Elementos del árbol: {keys}\", 'yellow', attrs=[\"bold\"])\n",
        "if (opt == 1):\n",
        "  print(\"Implementación: Programación dinámica\")\n",
        "  test = dp_optimalBST(p,q,n)\n",
        "  print(f\"prueba: {test}\")\n",
        "  print(f\"Subproblemas resueltos: {subproblems}\")\n",
        "if (opt == 2):\n",
        "  print(\"Implementación: Recursiva\")\n",
        "  test = recursive_optimalBST()\n",
        "  print(f\"prueba: {test}\")"
      ]
    },
    {
      "cell_type": "markdown",
      "source": [
        "##2.2 Descripción del algoritmo"
      ],
      "metadata": {
        "id": "aMwMvdFd5oYn"
      }
    },
    {
      "cell_type": "markdown",
      "source": [
        "##2.3 Ejemplo"
      ],
      "metadata": {
        "id": "F4NfdEXR6izH"
      }
    },
    {
      "cell_type": "markdown",
      "source": [
        "##2.4"
      ],
      "metadata": {
        "id": "6dcreVqj6kVH"
      }
    },
    {
      "cell_type": "markdown",
      "source": [
        "#3. Correctitud"
      ],
      "metadata": {
        "id": "yjBo6_ks6o93"
      }
    },
    {
      "cell_type": "markdown",
      "source": [
        "#4. Tiempo de ejecución"
      ],
      "metadata": {
        "id": "HODe246u6qeP"
      }
    },
    {
      "cell_type": "markdown",
      "source": [
        "#5. Experimentos"
      ],
      "metadata": {
        "id": "KTLxEXfg6sOP"
      }
    }
  ]
}