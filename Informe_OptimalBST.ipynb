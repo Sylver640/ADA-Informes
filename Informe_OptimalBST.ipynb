{
  "nbformat": 4,
  "nbformat_minor": 0,
  "metadata": {
    "colab": {
      "provenance": [],
      "collapsed_sections": [],
      "authorship_tag": "ABX9TyN11/3C7aVDJIx22uqFm5Nz",
      "include_colab_link": true
    },
    "kernelspec": {
      "name": "python3",
      "display_name": "Python 3"
    },
    "language_info": {
      "name": "python"
    }
  },
  "cells": [
    {
      "cell_type": "markdown",
      "metadata": {
        "id": "view-in-github",
        "colab_type": "text"
      },
      "source": [
        "<a href=\"https://colab.research.google.com/github/Sylver640/ADA-Informes/blob/main/Informe_OptimalBST.ipynb\" target=\"_parent\"><img src=\"https://colab.research.google.com/assets/colab-badge.svg\" alt=\"Open In Colab\"/></a>"
      ]
    },
    {
      "cell_type": "markdown",
      "source": [
        "#1. Descripción del problema\n",
        "**Entrada**: Secuencia ordenada de n claves: $K=\\left<k_1,k_2,...,k_n\\right>$. Cada clave $k_i$ tiene una probabilidad $p_i$ de ser buscada. Existen claves ficticias $d_i$ que representan búsquedas fallidas con $k_{i-1} \\leq d_i \\leq k_i$. Cada clave $d_i$ tiene una probabilidad $q_i$ de ser buscada. La suma de probabilidades debe ser uno, es decir: $\\sum\\limits_{i=1}^n p_i + \\sum\\limits_{j=0}^n q_i = 1$\n",
        "\n",
        "**Salida**: Construir un árbol de búsqueda óptimo, es decir, un árbol que minimice la cantidad esperada de nodos visitados (costo esperado)."
      ],
      "metadata": {
        "id": "XFZFwuRpjpE1"
      }
    },
    {
      "cell_type": "markdown",
      "source": [],
      "metadata": {
        "id": "l9mKMMlEkJd7"
      }
    },
    {
      "cell_type": "markdown",
      "source": [
        "#2. Árbol binario de búsqueda óptimo"
      ],
      "metadata": {
        "id": "AQyBD20DjtJc"
      }
    },
    {
      "cell_type": "markdown",
      "source": [
        "##2.1 Código\n",
        "A continuación, se presentan dos implementaciones del algoritmo estudiado: por recursión y por acercamiento bottom-up (programación dinámica)."
      ],
      "metadata": {
        "id": "KYBexHlkkLWz"
      }
    },
    {
      "cell_type": "code",
      "execution_count": null,
      "metadata": {
        "colab": {
          "base_uri": "https://localhost:8080/"
        },
        "id": "ve0U3kOejjyj",
        "outputId": "3078f17d-34f9-4d27-992f-16d0ce126851"
      },
      "outputs": [
        {
          "output_type": "stream",
          "name": "stdout",
          "text": [
            "[1, 7, 19, 30, 55, 57, 59, 68, 71, 88]\n",
            "[0.07314831701397112, 0.10505925046989209, 0.08920421808906494, 0.0069484408032434546, 0.004814768520183431, 0.08820054484632862, 0.02468817966740514, 0.03476331986174491, 0.03522159995391746, 0.03596455353519363]\n",
            "[0.00448304 0.01594399 0.02386401 0.06042548 0.02639873 0.03417919\n",
            " 0.06712216 0.0433665  0.04144925 0.10322436 0.08153009]\n"
          ]
        }
      ],
      "source": [
        "import random\n",
        "import numpy as np\n",
        "\n",
        "def recursive_optimalBST():\n",
        "  return 2\n",
        "\n",
        "def dp_optimalBST():\n",
        "  return 1\n",
        "\n",
        "def optimal_bst_instance_generator(n):\n",
        "    keys = sorted(random.sample(range(1, 100), n))\n",
        "    arr = np.random.random(n*2+1)\n",
        "    arr /= arr.sum()\n",
        "    \n",
        "    p = list(arr[:n]) # Probabilidad de las claves\n",
        "    q = arr[n:] # Probabilidad de las claves ficticias\n",
        "    return keys, p, q\n",
        "    \n",
        "keys, p, q = optimal_bst_instance_generator(10)\n",
        "print(keys)\n",
        "print(p)\n",
        "print(q)"
      ]
    }
  ]
}