{
  "nbformat": 4,
  "nbformat_minor": 0,
  "metadata": {
    "colab": {
      "provenance": [],
      "collapsed_sections": [],
      "authorship_tag": "ABX9TyOZe//fREv4kio9bxIAzM0d",
      "include_colab_link": true
    },
    "kernelspec": {
      "name": "python3",
      "display_name": "Python 3"
    },
    "language_info": {
      "name": "python"
    }
  },
  "cells": [
    {
      "cell_type": "markdown",
      "metadata": {
        "id": "view-in-github",
        "colab_type": "text"
      },
      "source": [
        "<a href=\"https://colab.research.google.com/github/Sylver640/ADA-Informes/blob/main/Informe_KruskalAlgorithm.ipynb\" target=\"_parent\"><img src=\"https://colab.research.google.com/assets/colab-badge.svg\" alt=\"Open In Colab\"/></a>"
      ]
    },
    {
      "cell_type": "markdown",
      "source": [
        "#1. Descripción del problema (árbol recubridor mínimo)\n",
        "**Entrada**: Grafo conectado no dirigido $G=(V,E)$ y un costo real $c_e$ para cada arco $e\\in E$.\n",
        "\n",
        "**Salida**: Un árbol recubridor $T\\in E$ de $G$ con el mínimo coste $\\sum\\limits_{e\\in T}c_e$.\n",
        "\n",
        "Entre muchos de los problemas que trata de resolver la rama matemática que es la teoría de grafos, encontramos al **árbol recubridor mínimo o MST** (Minimum Spanning Tree, por sus siglas en inglés). Éste consiste en encontrar un subgrafo que debe ser un árbol, que por definición no contiene ciclos, el cual trata de conectar un conjunto de objetos de la forma más económica posible. Trabaja solo en grafos conectados **no dirigidos** y donde cada arco $e$ tiene un costo o peso $c_e$. Además, siempre debe cumplir propiedades, siendo algunas de ellas las siguientes:\n",
        "\n",
        "1. El árbol $T$ no debe contener ciclos.\n",
        "2. Un árbol recubridor de $n$ vértices tiene $n-1$ arcos.\n",
        "3. Para cada par de vértices $v,w\\in V$, $T$ debe incluir un camino $v \\leadsto w$ (recubridor)\n",
        "\n",
        "![image](https://upload.wikimedia.org/wikipedia/commons/d/d2/Minimum_spanning_tree.svg)\n",
        "\n",
        "Este problema tiene una relación directa en problemas del diseño de redes, incluyendo redes computacionales, de transporte, de telecomunicaciones, entre otras, además del aprendizaje automático. Ahora bien, muchos algoritmos han encontrado una forma de resolver este problema. El primero de ellos fue desarrollado por el científico checo Otakar Borůvka en 1926. Plantando esta semilla, en las décadas siguientes fueron inventados dos algoritmos que tratan de encontrar la mejor solución, **Prim y Kruskal**, siendo el último nuestro enfoque de análisis."
      ],
      "metadata": {
        "id": "ukIQMDNWNg7X"
      }
    },
    {
      "cell_type": "markdown",
      "source": [
        "#2. Algoritmo de Kruskal\n",
        "Este algoritmo fue inventado en 1956 por el matemático y científico estadounidense **Joseph Kruskal**. A continuación, el siguiente código presenta una implementación del algoritmo."
      ],
      "metadata": {
        "id": "Hoh-Auw_Nlya"
      }
    },
    {
      "cell_type": "markdown",
      "source": [
        "##2.1 Código"
      ],
      "metadata": {
        "id": "SGOPUxCoNopm"
      }
    },
    {
      "cell_type": "code",
      "execution_count": 126,
      "metadata": {
        "id": "SxWcktac7OjH",
        "colab": {
          "base_uri": "https://localhost:8080/",
          "height": 303
        },
        "outputId": "9fb3638f-97b6-45be-f06d-342d3cae8277"
      },
      "outputs": [
        {
          "output_type": "stream",
          "name": "stdout",
          "text": [
            "arbol ordenado\n",
            "[(0, 1, {'weight': 13}), (0, 2, {'weight': 39}), (0, 4, {'weight': 96}), (0, 6, {'weight': 97}), (1, 2, {'weight': 54}), (1, 3, {'weight': 80}), (1, 4, {'weight': 48}), (2, 5, {'weight': 11}), (3, 5, {'weight': 17}), (3, 6, {'weight': 50}), (4, 6, {'weight': 33})]\n"
          ]
        },
        {
          "output_type": "display_data",
          "data": {
            "text/plain": [
              "<Figure size 432x288 with 1 Axes>"
            ],
            "image/png": "[encoded data removed]"
          },
          "metadata": {}
        }
      ],
      "source": [
        "import networkx as nx #Librería complementaria para trabajar con grafos\n",
        "import algorithmx\n",
        "import random\n",
        "import matplotlib.pyplot as plt\n",
        "\n",
        "def kruskalMST(G):\n",
        "  print(\"arbol ordenado\")\n",
        "  return 1\n",
        "\n",
        "#Ejemplo\n",
        "n = random.randint(5,10)\n",
        "G = nx.gnp_random_graph(n, 0.5,138)\n",
        "nx.set_edge_attributes(G, {e: {'weight': random.randint(1, 100)} for e in G.edges})\n",
        "\n",
        "#print(G[1][2]['weight'])\n",
        "\n",
        "kruskalMST(G)\n",
        "print(G.edges(data=True))\n",
        "\n",
        "#Esto es para mostrar el grafo\n",
        "pos=nx.spring_layout(G)\n",
        "labels = nx.get_edge_attributes(G,'weight')\n",
        "nx.draw_networkx_edge_labels(G,pos,edge_labels=labels,font_size=8)\n",
        "nx.draw(G, pos, with_labels=True, node_size=400, font_color=\"white\", font_size=10, font_weight=\"black\", width=2.0, edge_color =\"green\")\n"
      ]
    },
    {
      "cell_type": "markdown",
      "source": [
        "#2.2 Descripción del algoritmo\n",
        "Siguiendo con la línea de estudio, el algoritmo estudiado es constructivo, y fue implementado siguiendo la metodología **greedy o voraz**, es decir, construye una solución paso a paso en base a una regla heurística. Recibe un grafo $G$ de $n$ nodos, y retorna una lista que contiene las conexiones del árbol recubridor encontrado, junto con el peso de cada una. De forma general, funciona de la siguiente manera:\n",
        "1. En una lista se guarda cada conexión del grafo, las que luego se ordenan de menor a mayor utilizando un algoritmo de ordenamiento eficaz, como en este caso, **Merge Sort**.\n",
        "2. Luego, en un ciclo `for` recorremos cada arco, comenzando con el menor. En cada iteración se verifica si es que éste genera un ciclo con ayuda de la estructura complementaria **Union-Find**. Dependiendo el resultado sucederá uno de los siguientes casos: si $T\\cup{e}$ es acíclico, agregamos esta conexión a nuestro árbol, si no seguimos con el siguiente arco.\n",
        "3. Finalmente retornamos este árbol, el cual incluye todas las conexiones y los pesos de cada una de ellas.\n",
        "\n",
        "![image](https://upload.wikimedia.org/wikipedia/commons/thumb/5/5c/MST_kruskal_en.gif/600px-MST_kruskal_en.gif)"
      ],
      "metadata": {
        "id": "Nyd25rdpGzqZ"
      }
    },
    {
      "cell_type": "markdown",
      "source": [
        "#2.3 Ejemplo"
      ],
      "metadata": {
        "id": "5zTezpEuHI2B"
      }
    }
  ]
}